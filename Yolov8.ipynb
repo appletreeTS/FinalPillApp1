{
  "cells": [
    {
      "cell_type": "markdown",
      "metadata": {
        "id": "view-in-github",
        "colab_type": "text"
      },
      "source": [
        "<a href=\"https://colab.research.google.com/github/zzanggyu/Pill-AI-Notification-System/blob/main/Yolov8.ipynb\" target=\"_parent\"><img src=\"https://colab.research.google.com/assets/colab-badge.svg\" alt=\"Open In Colab\"/></a>"
      ]
    },
    {
      "cell_type": "code",
      "execution_count": null,
      "metadata": {
        "colab": {
          "base_uri": "https://localhost:8080/"
        },
        "id": "9ZPMhlqseT01",
        "outputId": "9d8a1bf1-18a3-4081-a7a7-24e1da5d57bd"
      },
      "outputs": [
        {
          "output_type": "stream",
          "name": "stdout",
          "text": [
            "Collecting ultralytics\n",
            "  Downloading ultralytics-8.3.1-py3-none-any.whl.metadata (34 kB)\n",
            "Requirement already satisfied: numpy<2.0.0,>=1.23.0 in /usr/local/lib/python3.10/dist-packages (from ultralytics) (1.26.4)\n",
            "Requirement already satisfied: matplotlib>=3.3.0 in /usr/local/lib/python3.10/dist-packages (from ultralytics) (3.7.1)\n",
            "Requirement already satisfied: opencv-python>=4.6.0 in /usr/local/lib/python3.10/dist-packages (from ultralytics) (4.10.0.84)\n",
            "Requirement already satisfied: pillow>=7.1.2 in /usr/local/lib/python3.10/dist-packages (from ultralytics) (10.4.0)\n",
            "Requirement already satisfied: pyyaml>=5.3.1 in /usr/local/lib/python3.10/dist-packages (from ultralytics) (6.0.2)\n",
            "Requirement already satisfied: requests>=2.23.0 in /usr/local/lib/python3.10/dist-packages (from ultralytics) (2.32.3)\n",
            "Requirement already satisfied: scipy>=1.4.1 in /usr/local/lib/python3.10/dist-packages (from ultralytics) (1.13.1)\n",
            "Requirement already satisfied: torch>=1.8.0 in /usr/local/lib/python3.10/dist-packages (from ultralytics) (2.4.1+cu121)\n",
            "Requirement already satisfied: torchvision>=0.9.0 in /usr/local/lib/python3.10/dist-packages (from ultralytics) (0.19.1+cu121)\n",
            "Requirement already satisfied: tqdm>=4.64.0 in /usr/local/lib/python3.10/dist-packages (from ultralytics) (4.66.5)\n",
            "Requirement already satisfied: psutil in /usr/local/lib/python3.10/dist-packages (from ultralytics) (5.9.5)\n",
            "Requirement already satisfied: py-cpuinfo in /usr/local/lib/python3.10/dist-packages (from ultralytics) (9.0.0)\n",
            "Requirement already satisfied: pandas>=1.1.4 in /usr/local/lib/python3.10/dist-packages (from ultralytics) (2.1.4)\n",
            "Requirement already satisfied: seaborn>=0.11.0 in /usr/local/lib/python3.10/dist-packages (from ultralytics) (0.13.1)\n",
            "Collecting ultralytics-thop>=2.0.0 (from ultralytics)\n",
            "  Downloading ultralytics_thop-2.0.8-py3-none-any.whl.metadata (9.3 kB)\n",
            "Requirement already satisfied: contourpy>=1.0.1 in /usr/local/lib/python3.10/dist-packages (from matplotlib>=3.3.0->ultralytics) (1.3.0)\n",
            "Requirement already satisfied: cycler>=0.10 in /usr/local/lib/python3.10/dist-packages (from matplotlib>=3.3.0->ultralytics) (0.12.1)\n",
            "Requirement already satisfied: fonttools>=4.22.0 in /usr/local/lib/python3.10/dist-packages (from matplotlib>=3.3.0->ultralytics) (4.53.1)\n",
            "Requirement already satisfied: kiwisolver>=1.0.1 in /usr/local/lib/python3.10/dist-packages (from matplotlib>=3.3.0->ultralytics) (1.4.7)\n",
            "Requirement already satisfied: packaging>=20.0 in /usr/local/lib/python3.10/dist-packages (from matplotlib>=3.3.0->ultralytics) (24.1)\n",
            "Requirement already satisfied: pyparsing>=2.3.1 in /usr/local/lib/python3.10/dist-packages (from matplotlib>=3.3.0->ultralytics) (3.1.4)\n",
            "Requirement already satisfied: python-dateutil>=2.7 in /usr/local/lib/python3.10/dist-packages (from matplotlib>=3.3.0->ultralytics) (2.8.2)\n",
            "Requirement already satisfied: pytz>=2020.1 in /usr/local/lib/python3.10/dist-packages (from pandas>=1.1.4->ultralytics) (2024.2)\n",
            "Requirement already satisfied: tzdata>=2022.1 in /usr/local/lib/python3.10/dist-packages (from pandas>=1.1.4->ultralytics) (2024.1)\n",
            "Requirement already satisfied: charset-normalizer<4,>=2 in /usr/local/lib/python3.10/dist-packages (from requests>=2.23.0->ultralytics) (3.3.2)\n",
            "Requirement already satisfied: idna<4,>=2.5 in /usr/local/lib/python3.10/dist-packages (from requests>=2.23.0->ultralytics) (3.10)\n",
            "Requirement already satisfied: urllib3<3,>=1.21.1 in /usr/local/lib/python3.10/dist-packages (from requests>=2.23.0->ultralytics) (2.2.3)\n",
            "Requirement already satisfied: certifi>=2017.4.17 in /usr/local/lib/python3.10/dist-packages (from requests>=2.23.0->ultralytics) (2024.8.30)\n",
            "Requirement already satisfied: filelock in /usr/local/lib/python3.10/dist-packages (from torch>=1.8.0->ultralytics) (3.16.1)\n",
            "Requirement already satisfied: typing-extensions>=4.8.0 in /usr/local/lib/python3.10/dist-packages (from torch>=1.8.0->ultralytics) (4.12.2)\n",
            "Requirement already satisfied: sympy in /usr/local/lib/python3.10/dist-packages (from torch>=1.8.0->ultralytics) (1.13.3)\n",
            "Requirement already satisfied: networkx in /usr/local/lib/python3.10/dist-packages (from torch>=1.8.0->ultralytics) (3.3)\n",
            "Requirement already satisfied: jinja2 in /usr/local/lib/python3.10/dist-packages (from torch>=1.8.0->ultralytics) (3.1.4)\n",
            "Requirement already satisfied: fsspec in /usr/local/lib/python3.10/dist-packages (from torch>=1.8.0->ultralytics) (2024.6.1)\n",
            "Requirement already satisfied: six>=1.5 in /usr/local/lib/python3.10/dist-packages (from python-dateutil>=2.7->matplotlib>=3.3.0->ultralytics) (1.16.0)\n",
            "Requirement already satisfied: MarkupSafe>=2.0 in /usr/local/lib/python3.10/dist-packages (from jinja2->torch>=1.8.0->ultralytics) (2.1.5)\n",
            "Requirement already satisfied: mpmath<1.4,>=1.1.0 in /usr/local/lib/python3.10/dist-packages (from sympy->torch>=1.8.0->ultralytics) (1.3.0)\n",
            "Downloading ultralytics-8.3.1-py3-none-any.whl (881 kB)\n",
            "\u001b[2K   \u001b[90m━━━━━━━━━━━━━━━━━━━━━━━━━━━━━━━━━━━━━━━━\u001b[0m \u001b[32m881.3/881.3 kB\u001b[0m \u001b[31m14.4 MB/s\u001b[0m eta \u001b[36m0:00:00\u001b[0m\n",
            "\u001b[?25hDownloading ultralytics_thop-2.0.8-py3-none-any.whl (26 kB)\n",
            "Installing collected packages: ultralytics-thop, ultralytics\n",
            "Successfully installed ultralytics-8.3.1 ultralytics-thop-2.0.8\n"
          ]
        }
      ],
      "source": [
        "# yolov8을 사용하기 위한 설치\n",
        "!pip install ultralytics\n",
        "# !pip install torch torchvision torchaudio"
      ]
    },
    {
      "cell_type": "code",
      "execution_count": null,
      "metadata": {
        "colab": {
          "base_uri": "https://localhost:8080/"
        },
        "id": "744ZLLgGho0d",
        "outputId": "51af1392-8615-4fb9-cd6f-aa83fd7470da"
      },
      "outputs": [
        {
          "name": "stdout",
          "output_type": "stream",
          "text": [
            "Drive already mounted at /content/drive; to attempt to forcibly remount, call drive.mount(\"/content/drive\", force_remount=True).\n"
          ]
        }
      ],
      "source": [
        "# 구글 드라이브 마운트\n",
        "from google.colab import drive\n",
        "drive.mount('/content/drive')\n"
      ]
    },
    {
      "cell_type": "markdown",
      "source": [
        "##  YOLO  학습 시키기"
      ],
      "metadata": {
        "id": "nBtR0rd8L8NN"
      }
    },
    {
      "cell_type": "code",
      "execution_count": null,
      "metadata": {
        "id": "zM2o7M4HnVxd",
        "colab": {
          "base_uri": "https://localhost:8080/"
        },
        "outputId": "e7fe224b-deca-42b5-cbe9-69dcdac01a47"
      },
      "outputs": [
        {
          "output_type": "stream",
          "name": "stdout",
          "text": [
            "Downloading https://github.com/ultralytics/assets/releases/download/v8.2.0/yolov8n.pt to 'yolov8n.pt'...\n"
          ]
        },
        {
          "output_type": "stream",
          "name": "stderr",
          "text": [
            "100%|██████████| 6.25M/6.25M [00:00<00:00, 337MB/s]\n"
          ]
        },
        {
          "output_type": "stream",
          "name": "stdout",
          "text": [
            "New https://pypi.org/project/ultralytics/8.3.0 available 😃 Update with 'pip install -U ultralytics'\n",
            "Ultralytics YOLOv8.2.103 🚀 Python-3.10.12 torch-2.4.1+cu121 CUDA:0 (Tesla T4, 15102MiB)\n",
            "\u001b[34m\u001b[1mengine/trainer: \u001b[0mtask=detect, mode=train, model=yolov8n.pt, data=/content/drive/MyDrive/dataset/data.yaml, epochs=100, time=None, patience=20, batch=16, imgsz=640, save=True, save_period=5, cache=ram, device=None, workers=8, project=/content/drive/MyDrive/yolov8n_checkpoints, name=pill4, exist_ok=False, pretrained=True, optimizer=auto, verbose=True, seed=0, deterministic=True, single_cls=False, rect=False, cos_lr=False, close_mosaic=10, resume=False, amp=True, fraction=1.0, profile=False, freeze=None, multi_scale=True, overlap_mask=True, mask_ratio=4, dropout=0.0, val=True, split=val, save_json=False, save_hybrid=False, conf=None, iou=0.7, max_det=300, half=False, dnn=False, plots=True, source=None, vid_stride=1, stream_buffer=False, visualize=False, augment=False, agnostic_nms=False, classes=None, retina_masks=False, embed=None, show=False, save_frames=False, save_txt=False, save_conf=False, save_crop=False, show_labels=True, show_conf=True, show_boxes=True, line_width=None, format=torchscript, keras=False, optimize=False, int8=False, dynamic=False, simplify=True, opset=None, workspace=4, nms=False, lr0=0.001, lrf=0.0001, momentum=0.937, weight_decay=0.0005, warmup_epochs=2.0, warmup_momentum=0.8, warmup_bias_lr=0.1, box=7.5, cls=0.5, dfl=1.5, pose=12.0, kobj=1.0, label_smoothing=0.0, nbs=64, hsv_h=0.015, hsv_s=0.7, hsv_v=0.4, degrees=10.0, translate=0.2, scale=0.6, shear=2.0, perspective=0, flipud=0.01, fliplr=0.5, bgr=0.0, mosaic=0.5, mixup=0, copy_paste=0.0, auto_augment=randaugment, erasing=0.4, crop_fraction=1.0, cfg=None, tracker=botsort.yaml, save_dir=/content/drive/MyDrive/yolov8n_checkpoints/pill4\n",
            "Downloading https://ultralytics.com/assets/Arial.ttf to '/root/.config/Ultralytics/Arial.ttf'...\n"
          ]
        },
        {
          "output_type": "stream",
          "name": "stderr",
          "text": [
            "100%|██████████| 755k/755k [00:00<00:00, 91.9MB/s]\n"
          ]
        },
        {
          "output_type": "stream",
          "name": "stdout",
          "text": [
            "Overriding model.yaml nc=80 with nc=1\n",
            "\n",
            "                   from  n    params  module                                       arguments                     \n",
            "  0                  -1  1       464  ultralytics.nn.modules.conv.Conv             [3, 16, 3, 2]                 \n",
            "  1                  -1  1      4672  ultralytics.nn.modules.conv.Conv             [16, 32, 3, 2]                \n",
            "  2                  -1  1      7360  ultralytics.nn.modules.block.C2f             [32, 32, 1, True]             \n",
            "  3                  -1  1     18560  ultralytics.nn.modules.conv.Conv             [32, 64, 3, 2]                \n",
            "  4                  -1  2     49664  ultralytics.nn.modules.block.C2f             [64, 64, 2, True]             \n",
            "  5                  -1  1     73984  ultralytics.nn.modules.conv.Conv             [64, 128, 3, 2]               \n",
            "  6                  -1  2    197632  ultralytics.nn.modules.block.C2f             [128, 128, 2, True]           \n",
            "  7                  -1  1    295424  ultralytics.nn.modules.conv.Conv             [128, 256, 3, 2]              \n",
            "  8                  -1  1    460288  ultralytics.nn.modules.block.C2f             [256, 256, 1, True]           \n",
            "  9                  -1  1    164608  ultralytics.nn.modules.block.SPPF            [256, 256, 5]                 \n",
            " 10                  -1  1         0  torch.nn.modules.upsampling.Upsample         [None, 2, 'nearest']          \n",
            " 11             [-1, 6]  1         0  ultralytics.nn.modules.conv.Concat           [1]                           \n",
            " 12                  -1  1    148224  ultralytics.nn.modules.block.C2f             [384, 128, 1]                 \n",
            " 13                  -1  1         0  torch.nn.modules.upsampling.Upsample         [None, 2, 'nearest']          \n",
            " 14             [-1, 4]  1         0  ultralytics.nn.modules.conv.Concat           [1]                           \n",
            " 15                  -1  1     37248  ultralytics.nn.modules.block.C2f             [192, 64, 1]                  \n",
            " 16                  -1  1     36992  ultralytics.nn.modules.conv.Conv             [64, 64, 3, 2]                \n",
            " 17            [-1, 12]  1         0  ultralytics.nn.modules.conv.Concat           [1]                           \n",
            " 18                  -1  1    123648  ultralytics.nn.modules.block.C2f             [192, 128, 1]                 \n",
            " 19                  -1  1    147712  ultralytics.nn.modules.conv.Conv             [128, 128, 3, 2]              \n",
            " 20             [-1, 9]  1         0  ultralytics.nn.modules.conv.Concat           [1]                           \n",
            " 21                  -1  1    493056  ultralytics.nn.modules.block.C2f             [384, 256, 1]                 \n",
            " 22        [15, 18, 21]  1    751507  ultralytics.nn.modules.head.Detect           [1, [64, 128, 256]]           \n",
            "Model summary: 225 layers, 3,011,043 parameters, 3,011,027 gradients, 8.2 GFLOPs\n",
            "\n",
            "Transferred 319/355 items from pretrained weights\n",
            "\u001b[34m\u001b[1mTensorBoard: \u001b[0mStart with 'tensorboard --logdir /content/drive/MyDrive/yolov8n_checkpoints/pill4', view at http://localhost:6006/\n",
            "Freezing layer 'model.22.dfl.conv.weight'\n",
            "\u001b[34m\u001b[1mAMP: \u001b[0mrunning Automatic Mixed Precision (AMP) checks with YOLOv8n...\n"
          ]
        },
        {
          "output_type": "stream",
          "name": "stderr",
          "text": [
            "/usr/local/lib/python3.10/dist-packages/ultralytics/utils/torch_utils.py:254: UserWarning: Deterministic behavior was enabled with either `torch.use_deterministic_algorithms(True)` or `at::Context::setDeterministicAlgorithms(true)`, but this operation is not deterministic because it uses CuBLAS and you have CUDA >= 10.2. To enable deterministic behavior in this case, you must set an environment variable before running your PyTorch application: CUBLAS_WORKSPACE_CONFIG=:4096:8 or CUBLAS_WORKSPACE_CONFIG=:16:8. For more information, go to https://docs.nvidia.com/cuda/cublas/index.html#results-reproducibility (Triggered internally at ../aten/src/ATen/Context.cpp:185.)\n",
            "  fusedconv.weight.copy_(torch.mm(w_bn, w_conv).view(fusedconv.weight.shape))\n",
            "/usr/local/lib/python3.10/dist-packages/ultralytics/utils/torch_utils.py:259: UserWarning: Deterministic behavior was enabled with either `torch.use_deterministic_algorithms(True)` or `at::Context::setDeterministicAlgorithms(true)`, but this operation is not deterministic because it uses CuBLAS and you have CUDA >= 10.2. To enable deterministic behavior in this case, you must set an environment variable before running your PyTorch application: CUBLAS_WORKSPACE_CONFIG=:4096:8 or CUBLAS_WORKSPACE_CONFIG=:16:8. For more information, go to https://docs.nvidia.com/cuda/cublas/index.html#results-reproducibility (Triggered internally at ../aten/src/ATen/Context.cpp:185.)\n",
            "  fusedconv.bias.copy_(torch.mm(w_bn, b_conv.reshape(-1, 1)).reshape(-1) + b_bn)\n"
          ]
        },
        {
          "output_type": "stream",
          "name": "stdout",
          "text": [
            "\u001b[34m\u001b[1mAMP: \u001b[0mchecks passed ✅\n"
          ]
        },
        {
          "output_type": "stream",
          "name": "stderr",
          "text": [
            "\u001b[34m\u001b[1mtrain: \u001b[0mScanning /content/drive/MyDrive/dataset/train/labels.cache... 12502 images, 1354 backgrounds, 0 corrupt: 100%|██████████| 13855/13855 [00:00<?, ?it/s]"
          ]
        },
        {
          "output_type": "stream",
          "name": "stdout",
          "text": [
            "WARNING ⚠️ Box and segment counts should be equal, but got len(segments) = 202, len(boxes) = 12804. To resolve this only boxes will be used and all segments will be removed. To avoid this please supply either a detect or segment dataset, not a detect-segment mixed dataset.\n"
          ]
        },
        {
          "output_type": "stream",
          "name": "stderr",
          "text": [
            "\n"
          ]
        },
        {
          "output_type": "stream",
          "name": "stdout",
          "text": [
            "WARNING ⚠️ cache='ram' may produce non-deterministic training results. Consider cache='disk' as a deterministic alternative if your disk space allows.\n"
          ]
        },
        {
          "output_type": "stream",
          "name": "stderr",
          "text": [
            "\u001b[34m\u001b[1mtrain: \u001b[0mCaching images (12.0GB RAM): 100%|██████████| 13855/13855 [1:18:16<00:00,  2.95it/s]\n"
          ]
        },
        {
          "output_type": "stream",
          "name": "stdout",
          "text": [
            "\u001b[34m\u001b[1malbumentations: \u001b[0mBlur(p=0.01, blur_limit=(3, 7)), MedianBlur(p=0.01, blur_limit=(3, 7)), ToGray(p=0.01, num_output_channels=3, method='weighted_average'), CLAHE(p=0.01, clip_limit=(1, 4.0), tile_grid_size=(8, 8))\n"
          ]
        },
        {
          "output_type": "stream",
          "name": "stderr",
          "text": [
            "/usr/local/lib/python3.10/dist-packages/albumentations/__init__.py:13: UserWarning: A new version of Albumentations is available: 1.4.16 (you have 1.4.15). Upgrade using: pip install -U albumentations. To disable automatic update checks, set the environment variable NO_ALBUMENTATIONS_UPDATE to 1.\n",
            "  check_for_updates()\n",
            "\u001b[34m\u001b[1mval: \u001b[0mScanning /content/drive/MyDrive/dataset/valid/labels.cache... 3532 images, 0 backgrounds, 1 corrupt: 100%|██████████| 3532/3532 [00:00<?, ?it/s]"
          ]
        },
        {
          "output_type": "stream",
          "name": "stdout",
          "text": [
            "\u001b[34m\u001b[1mval: \u001b[0mWARNING ⚠️ /content/drive/MyDrive/dataset/valid/images/200400062_029.jpg: ignoring corrupt image/label: Label class 3 exceeds dataset class count 1. Possible class labels are 0-0\n",
            "WARNING ⚠️ Box and segment counts should be equal, but got len(segments) = 44, len(boxes) = 3602. To resolve this only boxes will be used and all segments will be removed. To avoid this please supply either a detect or segment dataset, not a detect-segment mixed dataset.\n"
          ]
        },
        {
          "output_type": "stream",
          "name": "stderr",
          "text": [
            "\n"
          ]
        },
        {
          "output_type": "stream",
          "name": "stdout",
          "text": [
            "WARNING ⚠️ cache='ram' may produce non-deterministic training results. Consider cache='disk' as a deterministic alternative if your disk space allows.\n"
          ]
        },
        {
          "output_type": "stream",
          "name": "stderr",
          "text": [
            "\u001b[34m\u001b[1mval: \u001b[0mCaching images (3.1GB RAM): 100%|██████████| 3531/3531 [15:38<00:00,  3.76it/s]\n"
          ]
        },
        {
          "output_type": "stream",
          "name": "stdout",
          "text": [
            "Plotting labels to /content/drive/MyDrive/yolov8n_checkpoints/pill4/labels.jpg... \n",
            "\u001b[34m\u001b[1moptimizer:\u001b[0m 'optimizer=auto' found, ignoring 'lr0=0.001' and 'momentum=0.937' and determining best 'optimizer', 'lr0' and 'momentum' automatically... \n",
            "\u001b[34m\u001b[1moptimizer:\u001b[0m SGD(lr=0.01, momentum=0.9) with parameter groups 57 weight(decay=0.0), 64 weight(decay=0.0005), 63 bias(decay=0.0)\n",
            "\u001b[34m\u001b[1mTensorBoard: \u001b[0mmodel graph visualization added ✅\n",
            "Image sizes 640 train, 640 val\n",
            "Using 8 dataloader workers\n",
            "Logging results to \u001b[1m/content/drive/MyDrive/yolov8n_checkpoints/pill4\u001b[0m\n",
            "Starting training for 100 epochs...\n",
            "\n",
            "      Epoch    GPU_mem   box_loss   cls_loss   dfl_loss  Instances       Size\n"
          ]
        },
        {
          "output_type": "stream",
          "name": "stderr",
          "text": [
            "\r  0%|          | 0/866 [00:00<?, ?it/s]/usr/local/lib/python3.10/dist-packages/ultralytics/utils/loss.py:202: UserWarning: Deterministic behavior was enabled with either `torch.use_deterministic_algorithms(True)` or `at::Context::setDeterministicAlgorithms(true)`, but this operation is not deterministic because it uses CuBLAS and you have CUDA >= 10.2. To enable deterministic behavior in this case, you must set an environment variable before running your PyTorch application: CUBLAS_WORKSPACE_CONFIG=:4096:8 or CUBLAS_WORKSPACE_CONFIG=:16:8. For more information, go to https://docs.nvidia.com/cuda/cublas/index.html#results-reproducibility (Triggered internally at ../aten/src/ATen/Context.cpp:185.)\n",
            "  pred_dist = pred_dist.view(b, a, 4, c // 4).softmax(3).matmul(self.proj.type(pred_dist.dtype))\n",
            "      1/100      4.98G      1.337      1.813       1.37         36        512: 100%|██████████| 866/866 [02:40<00:00,  5.40it/s]\n",
            "                 Class     Images  Instances      Box(P          R      mAP50  mAP50-95): 100%|██████████| 111/111 [00:22<00:00,  4.98it/s]\n"
          ]
        },
        {
          "output_type": "stream",
          "name": "stdout",
          "text": [
            "                   all       3531       3602      0.967      0.968      0.989      0.506\n",
            "\n",
            "      Epoch    GPU_mem   box_loss   cls_loss   dfl_loss  Instances       Size\n"
          ]
        },
        {
          "output_type": "stream",
          "name": "stderr",
          "text": [
            "\r  0%|          | 0/866 [00:00<?, ?it/s]/usr/local/lib/python3.10/dist-packages/ultralytics/utils/loss.py:202: UserWarning: Deterministic behavior was enabled with either `torch.use_deterministic_algorithms(True)` or `at::Context::setDeterministicAlgorithms(true)`, but this operation is not deterministic because it uses CuBLAS and you have CUDA >= 10.2. To enable deterministic behavior in this case, you must set an environment variable before running your PyTorch application: CUBLAS_WORKSPACE_CONFIG=:4096:8 or CUBLAS_WORKSPACE_CONFIG=:16:8. For more information, go to https://docs.nvidia.com/cuda/cublas/index.html#results-reproducibility (Triggered internally at ../aten/src/ATen/Context.cpp:185.)\n",
            "  pred_dist = pred_dist.view(b, a, 4, c // 4).softmax(3).matmul(self.proj.type(pred_dist.dtype))\n",
            "      2/100      5.41G      1.335      1.117      1.372         27        320: 100%|██████████| 866/866 [02:35<00:00,  5.59it/s]\n",
            "                 Class     Images  Instances      Box(P          R      mAP50  mAP50-95): 100%|██████████| 111/111 [00:17<00:00,  6.23it/s]\n"
          ]
        },
        {
          "output_type": "stream",
          "name": "stdout",
          "text": [
            "                   all       3531       3602      0.553     0.0918      0.124     0.0749\n",
            "\n",
            "      Epoch    GPU_mem   box_loss   cls_loss   dfl_loss  Instances       Size\n"
          ]
        },
        {
          "output_type": "stream",
          "name": "stderr",
          "text": [
            "\r  0%|          | 0/866 [00:00<?, ?it/s]/usr/local/lib/python3.10/dist-packages/ultralytics/utils/loss.py:202: UserWarning: Deterministic behavior was enabled with either `torch.use_deterministic_algorithms(True)` or `at::Context::setDeterministicAlgorithms(true)`, but this operation is not deterministic because it uses CuBLAS and you have CUDA >= 10.2. To enable deterministic behavior in this case, you must set an environment variable before running your PyTorch application: CUBLAS_WORKSPACE_CONFIG=:4096:8 or CUBLAS_WORKSPACE_CONFIG=:16:8. For more information, go to https://docs.nvidia.com/cuda/cublas/index.html#results-reproducibility (Triggered internally at ../aten/src/ATen/Context.cpp:185.)\n",
            "  pred_dist = pred_dist.view(b, a, 4, c // 4).softmax(3).matmul(self.proj.type(pred_dist.dtype))\n",
            "      3/100      6.52G      1.375      1.052      1.438        100        736: 100%|██████████| 866/866 [02:36<00:00,  5.52it/s]\n",
            "                 Class     Images  Instances      Box(P          R      mAP50  mAP50-95): 100%|██████████| 111/111 [00:18<00:00,  6.02it/s]\n"
          ]
        },
        {
          "output_type": "stream",
          "name": "stdout",
          "text": [
            "                   all       3531       3602      0.967      0.964       0.99      0.523\n",
            "\n",
            "      Epoch    GPU_mem   box_loss   cls_loss   dfl_loss  Instances       Size\n"
          ]
        },
        {
          "output_type": "stream",
          "name": "stderr",
          "text": [
            "\r  0%|          | 0/866 [00:00<?, ?it/s]/usr/local/lib/python3.10/dist-packages/ultralytics/utils/loss.py:202: UserWarning: Deterministic behavior was enabled with either `torch.use_deterministic_algorithms(True)` or `at::Context::setDeterministicAlgorithms(true)`, but this operation is not deterministic because it uses CuBLAS and you have CUDA >= 10.2. To enable deterministic behavior in this case, you must set an environment variable before running your PyTorch application: CUBLAS_WORKSPACE_CONFIG=:4096:8 or CUBLAS_WORKSPACE_CONFIG=:16:8. For more information, go to https://docs.nvidia.com/cuda/cublas/index.html#results-reproducibility (Triggered internally at ../aten/src/ATen/Context.cpp:185.)\n",
            "  pred_dist = pred_dist.view(b, a, 4, c // 4).softmax(3).matmul(self.proj.type(pred_dist.dtype))\n",
            "      4/100      5.09G      1.303     0.9161      1.412         29        416: 100%|██████████| 866/866 [02:41<00:00,  5.38it/s]\n",
            "                 Class     Images  Instances      Box(P          R      mAP50  mAP50-95): 100%|██████████| 111/111 [00:16<00:00,  6.68it/s]"
          ]
        },
        {
          "output_type": "stream",
          "name": "stdout",
          "text": [
            "                   all       3531       3602      0.974      0.986      0.993      0.603\n"
          ]
        },
        {
          "output_type": "stream",
          "name": "stderr",
          "text": [
            "\n"
          ]
        },
        {
          "output_type": "stream",
          "name": "stdout",
          "text": [
            "\n",
            "      Epoch    GPU_mem   box_loss   cls_loss   dfl_loss  Instances       Size\n"
          ]
        },
        {
          "output_type": "stream",
          "name": "stderr",
          "text": [
            "\r  0%|          | 0/866 [00:00<?, ?it/s]/usr/local/lib/python3.10/dist-packages/ultralytics/utils/loss.py:202: UserWarning: Deterministic behavior was enabled with either `torch.use_deterministic_algorithms(True)` or `at::Context::setDeterministicAlgorithms(true)`, but this operation is not deterministic because it uses CuBLAS and you have CUDA >= 10.2. To enable deterministic behavior in this case, you must set an environment variable before running your PyTorch application: CUBLAS_WORKSPACE_CONFIG=:4096:8 or CUBLAS_WORKSPACE_CONFIG=:16:8. For more information, go to https://docs.nvidia.com/cuda/cublas/index.html#results-reproducibility (Triggered internally at ../aten/src/ATen/Context.cpp:185.)\n",
            "  pred_dist = pred_dist.view(b, a, 4, c // 4).softmax(3).matmul(self.proj.type(pred_dist.dtype))\n",
            "      5/100      7.34G      1.252     0.8456      1.372         24        384: 100%|██████████| 866/866 [02:36<00:00,  5.54it/s]\n",
            "                 Class     Images  Instances      Box(P          R      mAP50  mAP50-95): 100%|██████████| 111/111 [00:16<00:00,  6.63it/s]"
          ]
        },
        {
          "output_type": "stream",
          "name": "stdout",
          "text": [
            "                   all       3531       3602      0.985      0.991      0.994      0.658\n"
          ]
        },
        {
          "output_type": "stream",
          "name": "stderr",
          "text": [
            "\n"
          ]
        },
        {
          "output_type": "stream",
          "name": "stdout",
          "text": [
            "\n",
            "      Epoch    GPU_mem   box_loss   cls_loss   dfl_loss  Instances       Size\n"
          ]
        },
        {
          "output_type": "stream",
          "name": "stderr",
          "text": [
            "  0%|          | 0/866 [00:00<?, ?it/s]/usr/local/lib/python3.10/dist-packages/ultralytics/utils/loss.py:202: UserWarning: Deterministic behavior was enabled with either `torch.use_deterministic_algorithms(True)` or `at::Context::setDeterministicAlgorithms(true)`, but this operation is not deterministic because it uses CuBLAS and you have CUDA >= 10.2. To enable deterministic behavior in this case, you must set an environment variable before running your PyTorch application: CUBLAS_WORKSPACE_CONFIG=:4096:8 or CUBLAS_WORKSPACE_CONFIG=:16:8. For more information, go to https://docs.nvidia.com/cuda/cublas/index.html#results-reproducibility (Triggered internally at ../aten/src/ATen/Context.cpp:185.)\n",
            "  pred_dist = pred_dist.view(b, a, 4, c // 4).softmax(3).matmul(self.proj.type(pred_dist.dtype))\n",
            "      6/100      5.26G      1.214     0.7943       1.35         20        448: 100%|██████████| 866/866 [02:36<00:00,  5.54it/s]\n",
            "                 Class     Images  Instances      Box(P          R      mAP50  mAP50-95): 100%|██████████| 111/111 [00:16<00:00,  6.72it/s]"
          ]
        },
        {
          "output_type": "stream",
          "name": "stdout",
          "text": [
            "                   all       3531       3602      0.973      0.984      0.991      0.701\n"
          ]
        },
        {
          "output_type": "stream",
          "name": "stderr",
          "text": [
            "\n"
          ]
        },
        {
          "output_type": "stream",
          "name": "stdout",
          "text": [
            "\n",
            "      Epoch    GPU_mem   box_loss   cls_loss   dfl_loss  Instances       Size\n"
          ]
        },
        {
          "output_type": "stream",
          "name": "stderr",
          "text": [
            "  0%|          | 0/866 [00:00<?, ?it/s]/usr/local/lib/python3.10/dist-packages/ultralytics/utils/loss.py:202: UserWarning: Deterministic behavior was enabled with either `torch.use_deterministic_algorithms(True)` or `at::Context::setDeterministicAlgorithms(true)`, but this operation is not deterministic because it uses CuBLAS and you have CUDA >= 10.2. To enable deterministic behavior in this case, you must set an environment variable before running your PyTorch application: CUBLAS_WORKSPACE_CONFIG=:4096:8 or CUBLAS_WORKSPACE_CONFIG=:16:8. For more information, go to https://docs.nvidia.com/cuda/cublas/index.html#results-reproducibility (Triggered internally at ../aten/src/ATen/Context.cpp:185.)\n",
            "  pred_dist = pred_dist.view(b, a, 4, c // 4).softmax(3).matmul(self.proj.type(pred_dist.dtype))\n",
            "      7/100      4.89G      1.177     0.7601      1.331         26        544: 100%|██████████| 866/866 [02:35<00:00,  5.56it/s]\n",
            "                 Class     Images  Instances      Box(P          R      mAP50  mAP50-95): 100%|██████████| 111/111 [00:16<00:00,  6.75it/s]"
          ]
        },
        {
          "output_type": "stream",
          "name": "stdout",
          "text": [
            "                   all       3531       3602      0.977      0.986      0.993      0.635\n"
          ]
        },
        {
          "output_type": "stream",
          "name": "stderr",
          "text": [
            "\n"
          ]
        },
        {
          "output_type": "stream",
          "name": "stdout",
          "text": [
            "\n",
            "      Epoch    GPU_mem   box_loss   cls_loss   dfl_loss  Instances       Size\n"
          ]
        },
        {
          "output_type": "stream",
          "name": "stderr",
          "text": [
            "  0%|          | 0/866 [00:00<?, ?it/s]/usr/local/lib/python3.10/dist-packages/ultralytics/utils/loss.py:202: UserWarning: Deterministic behavior was enabled with either `torch.use_deterministic_algorithms(True)` or `at::Context::setDeterministicAlgorithms(true)`, but this operation is not deterministic because it uses CuBLAS and you have CUDA >= 10.2. To enable deterministic behavior in this case, you must set an environment variable before running your PyTorch application: CUBLAS_WORKSPACE_CONFIG=:4096:8 or CUBLAS_WORKSPACE_CONFIG=:16:8. For more information, go to https://docs.nvidia.com/cuda/cublas/index.html#results-reproducibility (Triggered internally at ../aten/src/ATen/Context.cpp:185.)\n",
            "  pred_dist = pred_dist.view(b, a, 4, c // 4).softmax(3).matmul(self.proj.type(pred_dist.dtype))\n",
            "      8/100      6.47G       1.15     0.7267      1.309         33        896: 100%|██████████| 866/866 [02:39<00:00,  5.44it/s]\n",
            "                 Class     Images  Instances      Box(P          R      mAP50  mAP50-95): 100%|██████████| 111/111 [00:17<00:00,  6.22it/s]"
          ]
        },
        {
          "output_type": "stream",
          "name": "stdout",
          "text": [
            "                   all       3531       3602      0.955      0.894      0.947      0.456\n"
          ]
        },
        {
          "output_type": "stream",
          "name": "stderr",
          "text": [
            "\n"
          ]
        },
        {
          "output_type": "stream",
          "name": "stdout",
          "text": [
            "\n",
            "      Epoch    GPU_mem   box_loss   cls_loss   dfl_loss  Instances       Size\n"
          ]
        },
        {
          "output_type": "stream",
          "name": "stderr",
          "text": [
            "\r  0%|          | 0/866 [00:00<?, ?it/s]/usr/local/lib/python3.10/dist-packages/ultralytics/utils/loss.py:202: UserWarning: Deterministic behavior was enabled with either `torch.use_deterministic_algorithms(True)` or `at::Context::setDeterministicAlgorithms(true)`, but this operation is not deterministic because it uses CuBLAS and you have CUDA >= 10.2. To enable deterministic behavior in this case, you must set an environment variable before running your PyTorch application: CUBLAS_WORKSPACE_CONFIG=:4096:8 or CUBLAS_WORKSPACE_CONFIG=:16:8. For more information, go to https://docs.nvidia.com/cuda/cublas/index.html#results-reproducibility (Triggered internally at ../aten/src/ATen/Context.cpp:185.)\n",
            "  pred_dist = pred_dist.view(b, a, 4, c // 4).softmax(3).matmul(self.proj.type(pred_dist.dtype))\n",
            "      9/100      6.09G      1.123     0.7049      1.293         38        608: 100%|██████████| 866/866 [02:35<00:00,  5.57it/s]\n",
            "                 Class     Images  Instances      Box(P          R      mAP50  mAP50-95): 100%|██████████| 111/111 [00:18<00:00,  6.10it/s]\n"
          ]
        },
        {
          "output_type": "stream",
          "name": "stdout",
          "text": [
            "                   all       3531       3602      0.971      0.969      0.992      0.672\n",
            "\n",
            "      Epoch    GPU_mem   box_loss   cls_loss   dfl_loss  Instances       Size\n"
          ]
        },
        {
          "output_type": "stream",
          "name": "stderr",
          "text": [
            "\r  0%|          | 0/866 [00:00<?, ?it/s]/usr/local/lib/python3.10/dist-packages/ultralytics/utils/loss.py:202: UserWarning: Deterministic behavior was enabled with either `torch.use_deterministic_algorithms(True)` or `at::Context::setDeterministicAlgorithms(true)`, but this operation is not deterministic because it uses CuBLAS and you have CUDA >= 10.2. To enable deterministic behavior in this case, you must set an environment variable before running your PyTorch application: CUBLAS_WORKSPACE_CONFIG=:4096:8 or CUBLAS_WORKSPACE_CONFIG=:16:8. For more information, go to https://docs.nvidia.com/cuda/cublas/index.html#results-reproducibility (Triggered internally at ../aten/src/ATen/Context.cpp:185.)\n",
            "  pred_dist = pred_dist.view(b, a, 4, c // 4).softmax(3).matmul(self.proj.type(pred_dist.dtype))\n",
            "     10/100       6.4G      1.105     0.6862      1.282         52        768: 100%|██████████| 866/866 [02:33<00:00,  5.64it/s]\n",
            "                 Class     Images  Instances      Box(P          R      mAP50  mAP50-95): 100%|██████████| 111/111 [00:17<00:00,  6.21it/s]"
          ]
        },
        {
          "output_type": "stream",
          "name": "stdout",
          "text": [
            "                   all       3531       3602      0.981      0.989      0.994      0.647\n"
          ]
        },
        {
          "output_type": "stream",
          "name": "stderr",
          "text": [
            "\n"
          ]
        },
        {
          "output_type": "stream",
          "name": "stdout",
          "text": [
            "\n",
            "      Epoch    GPU_mem   box_loss   cls_loss   dfl_loss  Instances       Size\n"
          ]
        },
        {
          "output_type": "stream",
          "name": "stderr",
          "text": [
            "  0%|          | 0/866 [00:00<?, ?it/s]/usr/local/lib/python3.10/dist-packages/ultralytics/utils/loss.py:202: UserWarning: Deterministic behavior was enabled with either `torch.use_deterministic_algorithms(True)` or `at::Context::setDeterministicAlgorithms(true)`, but this operation is not deterministic because it uses CuBLAS and you have CUDA >= 10.2. To enable deterministic behavior in this case, you must set an environment variable before running your PyTorch application: CUBLAS_WORKSPACE_CONFIG=:4096:8 or CUBLAS_WORKSPACE_CONFIG=:16:8. For more information, go to https://docs.nvidia.com/cuda/cublas/index.html#results-reproducibility (Triggered internally at ../aten/src/ATen/Context.cpp:185.)\n",
            "  pred_dist = pred_dist.view(b, a, 4, c // 4).softmax(3).matmul(self.proj.type(pred_dist.dtype))\n",
            "     11/100      5.68G      1.078     0.6674      1.266         23        800: 100%|██████████| 866/866 [02:38<00:00,  5.48it/s]\n",
            "                 Class     Images  Instances      Box(P          R      mAP50  mAP50-95): 100%|██████████| 111/111 [00:17<00:00,  6.28it/s]"
          ]
        },
        {
          "output_type": "stream",
          "name": "stdout",
          "text": [
            "                   all       3531       3602      0.982      0.986      0.993      0.667\n"
          ]
        },
        {
          "output_type": "stream",
          "name": "stderr",
          "text": [
            "\n"
          ]
        },
        {
          "output_type": "stream",
          "name": "stdout",
          "text": [
            "\n",
            "      Epoch    GPU_mem   box_loss   cls_loss   dfl_loss  Instances       Size\n"
          ]
        },
        {
          "output_type": "stream",
          "name": "stderr",
          "text": [
            "\r  0%|          | 0/866 [00:00<?, ?it/s]/usr/local/lib/python3.10/dist-packages/ultralytics/utils/loss.py:202: UserWarning: Deterministic behavior was enabled with either `torch.use_deterministic_algorithms(True)` or `at::Context::setDeterministicAlgorithms(true)`, but this operation is not deterministic because it uses CuBLAS and you have CUDA >= 10.2. To enable deterministic behavior in this case, you must set an environment variable before running your PyTorch application: CUBLAS_WORKSPACE_CONFIG=:4096:8 or CUBLAS_WORKSPACE_CONFIG=:16:8. For more information, go to https://docs.nvidia.com/cuda/cublas/index.html#results-reproducibility (Triggered internally at ../aten/src/ATen/Context.cpp:185.)\n",
            "  pred_dist = pred_dist.view(b, a, 4, c // 4).softmax(3).matmul(self.proj.type(pred_dist.dtype))\n",
            "     12/100      6.45G      1.062     0.6465      1.243         29        480: 100%|██████████| 866/866 [02:31<00:00,  5.72it/s]\n",
            "                 Class     Images  Instances      Box(P          R      mAP50  mAP50-95): 100%|██████████| 111/111 [00:17<00:00,  6.43it/s]"
          ]
        },
        {
          "output_type": "stream",
          "name": "stdout",
          "text": [
            "                   all       3531       3602      0.985      0.993      0.995      0.621\n"
          ]
        },
        {
          "output_type": "stream",
          "name": "stderr",
          "text": [
            "\n"
          ]
        },
        {
          "output_type": "stream",
          "name": "stdout",
          "text": [
            "\n",
            "      Epoch    GPU_mem   box_loss   cls_loss   dfl_loss  Instances       Size\n"
          ]
        },
        {
          "output_type": "stream",
          "name": "stderr",
          "text": [
            "  0%|          | 0/866 [00:00<?, ?it/s]/usr/local/lib/python3.10/dist-packages/ultralytics/utils/loss.py:202: UserWarning: Deterministic behavior was enabled with either `torch.use_deterministic_algorithms(True)` or `at::Context::setDeterministicAlgorithms(true)`, but this operation is not deterministic because it uses CuBLAS and you have CUDA >= 10.2. To enable deterministic behavior in this case, you must set an environment variable before running your PyTorch application: CUBLAS_WORKSPACE_CONFIG=:4096:8 or CUBLAS_WORKSPACE_CONFIG=:16:8. For more information, go to https://docs.nvidia.com/cuda/cublas/index.html#results-reproducibility (Triggered internally at ../aten/src/ATen/Context.cpp:185.)\n",
            "  pred_dist = pred_dist.view(b, a, 4, c // 4).softmax(3).matmul(self.proj.type(pred_dist.dtype))\n",
            "     13/100      6.67G      1.058     0.6393      1.249         22        320: 100%|██████████| 866/866 [02:37<00:00,  5.51it/s]\n",
            "                 Class     Images  Instances      Box(P          R      mAP50  mAP50-95): 100%|██████████| 111/111 [00:16<00:00,  6.75it/s]"
          ]
        },
        {
          "output_type": "stream",
          "name": "stdout",
          "text": [
            "                   all       3531       3602       0.99      0.989      0.994      0.643\n"
          ]
        },
        {
          "output_type": "stream",
          "name": "stderr",
          "text": [
            "\n"
          ]
        },
        {
          "output_type": "stream",
          "name": "stdout",
          "text": [
            "\n",
            "      Epoch    GPU_mem   box_loss   cls_loss   dfl_loss  Instances       Size\n"
          ]
        },
        {
          "output_type": "stream",
          "name": "stderr",
          "text": [
            "  0%|          | 0/866 [00:00<?, ?it/s]/usr/local/lib/python3.10/dist-packages/ultralytics/utils/loss.py:202: UserWarning: Deterministic behavior was enabled with either `torch.use_deterministic_algorithms(True)` or `at::Context::setDeterministicAlgorithms(true)`, but this operation is not deterministic because it uses CuBLAS and you have CUDA >= 10.2. To enable deterministic behavior in this case, you must set an environment variable before running your PyTorch application: CUBLAS_WORKSPACE_CONFIG=:4096:8 or CUBLAS_WORKSPACE_CONFIG=:16:8. For more information, go to https://docs.nvidia.com/cuda/cublas/index.html#results-reproducibility (Triggered internally at ../aten/src/ATen/Context.cpp:185.)\n",
            "  pred_dist = pred_dist.view(b, a, 4, c // 4).softmax(3).matmul(self.proj.type(pred_dist.dtype))\n",
            "     14/100      6.42G       1.03     0.6203       1.23         19        480: 100%|██████████| 866/866 [02:37<00:00,  5.51it/s]\n",
            "                 Class     Images  Instances      Box(P          R      mAP50  mAP50-95): 100%|██████████| 111/111 [00:16<00:00,  6.73it/s]"
          ]
        },
        {
          "output_type": "stream",
          "name": "stdout",
          "text": [
            "                   all       3531       3602      0.986      0.971      0.993      0.682\n"
          ]
        },
        {
          "output_type": "stream",
          "name": "stderr",
          "text": [
            "\n"
          ]
        },
        {
          "output_type": "stream",
          "name": "stdout",
          "text": [
            "\n",
            "      Epoch    GPU_mem   box_loss   cls_loss   dfl_loss  Instances       Size\n"
          ]
        },
        {
          "output_type": "stream",
          "name": "stderr",
          "text": [
            "\r  0%|          | 0/866 [00:00<?, ?it/s]/usr/local/lib/python3.10/dist-packages/ultralytics/utils/loss.py:202: UserWarning: Deterministic behavior was enabled with either `torch.use_deterministic_algorithms(True)` or `at::Context::setDeterministicAlgorithms(true)`, but this operation is not deterministic because it uses CuBLAS and you have CUDA >= 10.2. To enable deterministic behavior in this case, you must set an environment variable before running your PyTorch application: CUBLAS_WORKSPACE_CONFIG=:4096:8 or CUBLAS_WORKSPACE_CONFIG=:16:8. For more information, go to https://docs.nvidia.com/cuda/cublas/index.html#results-reproducibility (Triggered internally at ../aten/src/ATen/Context.cpp:185.)\n",
            "  pred_dist = pred_dist.view(b, a, 4, c // 4).softmax(3).matmul(self.proj.type(pred_dist.dtype))\n",
            "     15/100      5.96G      1.021     0.6104      1.226         26        896: 100%|██████████| 866/866 [02:33<00:00,  5.64it/s]\n",
            "                 Class     Images  Instances      Box(P          R      mAP50  mAP50-95): 100%|██████████| 111/111 [00:17<00:00,  6.43it/s]"
          ]
        },
        {
          "output_type": "stream",
          "name": "stdout",
          "text": [
            "                   all       3531       3602      0.987      0.994      0.994      0.618\n"
          ]
        },
        {
          "output_type": "stream",
          "name": "stderr",
          "text": [
            "\n"
          ]
        },
        {
          "output_type": "stream",
          "name": "stdout",
          "text": [
            "\n",
            "      Epoch    GPU_mem   box_loss   cls_loss   dfl_loss  Instances       Size\n"
          ]
        },
        {
          "output_type": "stream",
          "name": "stderr",
          "text": [
            "\r  0%|          | 0/866 [00:00<?, ?it/s]/usr/local/lib/python3.10/dist-packages/ultralytics/utils/loss.py:202: UserWarning: Deterministic behavior was enabled with either `torch.use_deterministic_algorithms(True)` or `at::Context::setDeterministicAlgorithms(true)`, but this operation is not deterministic because it uses CuBLAS and you have CUDA >= 10.2. To enable deterministic behavior in this case, you must set an environment variable before running your PyTorch application: CUBLAS_WORKSPACE_CONFIG=:4096:8 or CUBLAS_WORKSPACE_CONFIG=:16:8. For more information, go to https://docs.nvidia.com/cuda/cublas/index.html#results-reproducibility (Triggered internally at ../aten/src/ATen/Context.cpp:185.)\n",
            "  pred_dist = pred_dist.view(b, a, 4, c // 4).softmax(3).matmul(self.proj.type(pred_dist.dtype))\n",
            "     16/100      5.25G      1.005     0.6037      1.226         53        800: 100%|██████████| 866/866 [02:42<00:00,  5.34it/s]\n",
            "                 Class     Images  Instances      Box(P          R      mAP50  mAP50-95): 100%|██████████| 111/111 [00:17<00:00,  6.38it/s]"
          ]
        },
        {
          "output_type": "stream",
          "name": "stdout",
          "text": [
            "                   all       3531       3602      0.991      0.989      0.995      0.637\n"
          ]
        },
        {
          "output_type": "stream",
          "name": "stderr",
          "text": [
            "\n"
          ]
        },
        {
          "output_type": "stream",
          "name": "stdout",
          "text": [
            "\n",
            "      Epoch    GPU_mem   box_loss   cls_loss   dfl_loss  Instances       Size\n"
          ]
        },
        {
          "output_type": "stream",
          "name": "stderr",
          "text": [
            "  0%|          | 0/866 [00:00<?, ?it/s]/usr/local/lib/python3.10/dist-packages/ultralytics/utils/loss.py:202: UserWarning: Deterministic behavior was enabled with either `torch.use_deterministic_algorithms(True)` or `at::Context::setDeterministicAlgorithms(true)`, but this operation is not deterministic because it uses CuBLAS and you have CUDA >= 10.2. To enable deterministic behavior in this case, you must set an environment variable before running your PyTorch application: CUBLAS_WORKSPACE_CONFIG=:4096:8 or CUBLAS_WORKSPACE_CONFIG=:16:8. For more information, go to https://docs.nvidia.com/cuda/cublas/index.html#results-reproducibility (Triggered internally at ../aten/src/ATen/Context.cpp:185.)\n",
            "  pred_dist = pred_dist.view(b, a, 4, c // 4).softmax(3).matmul(self.proj.type(pred_dist.dtype))\n",
            "     17/100      6.42G     0.9939     0.5986      1.215         31        672: 100%|██████████| 866/866 [02:35<00:00,  5.56it/s]\n",
            "                 Class     Images  Instances      Box(P          R      mAP50  mAP50-95): 100%|██████████| 111/111 [00:19<00:00,  5.70it/s]\n"
          ]
        },
        {
          "output_type": "stream",
          "name": "stdout",
          "text": [
            "                   all       3531       3602      0.976      0.975      0.993      0.632\n",
            "\n",
            "      Epoch    GPU_mem   box_loss   cls_loss   dfl_loss  Instances       Size\n"
          ]
        },
        {
          "output_type": "stream",
          "name": "stderr",
          "text": [
            "\r  0%|          | 0/866 [00:00<?, ?it/s]/usr/local/lib/python3.10/dist-packages/ultralytics/utils/loss.py:202: UserWarning: Deterministic behavior was enabled with either `torch.use_deterministic_algorithms(True)` or `at::Context::setDeterministicAlgorithms(true)`, but this operation is not deterministic because it uses CuBLAS and you have CUDA >= 10.2. To enable deterministic behavior in this case, you must set an environment variable before running your PyTorch application: CUBLAS_WORKSPACE_CONFIG=:4096:8 or CUBLAS_WORKSPACE_CONFIG=:16:8. For more information, go to https://docs.nvidia.com/cuda/cublas/index.html#results-reproducibility (Triggered internally at ../aten/src/ATen/Context.cpp:185.)\n",
            "  pred_dist = pred_dist.view(b, a, 4, c // 4).softmax(3).matmul(self.proj.type(pred_dist.dtype))\n",
            "     18/100      6.14G     0.9796     0.5872      1.196         34        928: 100%|██████████| 866/866 [02:33<00:00,  5.64it/s]\n",
            "                 Class     Images  Instances      Box(P          R      mAP50  mAP50-95): 100%|██████████| 111/111 [00:17<00:00,  6.39it/s]"
          ]
        },
        {
          "output_type": "stream",
          "name": "stdout",
          "text": [
            "                   all       3531       3602      0.979      0.983      0.994       0.65\n"
          ]
        },
        {
          "output_type": "stream",
          "name": "stderr",
          "text": [
            "\n"
          ]
        },
        {
          "output_type": "stream",
          "name": "stdout",
          "text": [
            "\n",
            "      Epoch    GPU_mem   box_loss   cls_loss   dfl_loss  Instances       Size\n"
          ]
        },
        {
          "output_type": "stream",
          "name": "stderr",
          "text": [
            "  0%|          | 0/866 [00:00<?, ?it/s]/usr/local/lib/python3.10/dist-packages/ultralytics/utils/loss.py:202: UserWarning: Deterministic behavior was enabled with either `torch.use_deterministic_algorithms(True)` or `at::Context::setDeterministicAlgorithms(true)`, but this operation is not deterministic because it uses CuBLAS and you have CUDA >= 10.2. To enable deterministic behavior in this case, you must set an environment variable before running your PyTorch application: CUBLAS_WORKSPACE_CONFIG=:4096:8 or CUBLAS_WORKSPACE_CONFIG=:16:8. For more information, go to https://docs.nvidia.com/cuda/cublas/index.html#results-reproducibility (Triggered internally at ../aten/src/ATen/Context.cpp:185.)\n",
            "  pred_dist = pred_dist.view(b, a, 4, c // 4).softmax(3).matmul(self.proj.type(pred_dist.dtype))\n",
            "     19/100       7.4G     0.9733     0.5749      1.189         25        576: 100%|██████████| 866/866 [02:36<00:00,  5.52it/s]\n",
            "                 Class     Images  Instances      Box(P          R      mAP50  mAP50-95): 100%|██████████| 111/111 [00:17<00:00,  6.33it/s]"
          ]
        },
        {
          "output_type": "stream",
          "name": "stdout",
          "text": [
            "                   all       3531       3602       0.99       0.98      0.993      0.621\n"
          ]
        },
        {
          "output_type": "stream",
          "name": "stderr",
          "text": [
            "\n"
          ]
        },
        {
          "output_type": "stream",
          "name": "stdout",
          "text": [
            "\n",
            "      Epoch    GPU_mem   box_loss   cls_loss   dfl_loss  Instances       Size\n"
          ]
        },
        {
          "output_type": "stream",
          "name": "stderr",
          "text": [
            "  0%|          | 0/866 [00:00<?, ?it/s]/usr/local/lib/python3.10/dist-packages/ultralytics/utils/loss.py:202: UserWarning: Deterministic behavior was enabled with either `torch.use_deterministic_algorithms(True)` or `at::Context::setDeterministicAlgorithms(true)`, but this operation is not deterministic because it uses CuBLAS and you have CUDA >= 10.2. To enable deterministic behavior in this case, you must set an environment variable before running your PyTorch application: CUBLAS_WORKSPACE_CONFIG=:4096:8 or CUBLAS_WORKSPACE_CONFIG=:16:8. For more information, go to https://docs.nvidia.com/cuda/cublas/index.html#results-reproducibility (Triggered internally at ../aten/src/ATen/Context.cpp:185.)\n",
            "  pred_dist = pred_dist.view(b, a, 4, c // 4).softmax(3).matmul(self.proj.type(pred_dist.dtype))\n",
            "     20/100      5.44G      0.968     0.5718      1.188         42        352: 100%|██████████| 866/866 [02:35<00:00,  5.59it/s]\n",
            "                 Class     Images  Instances      Box(P          R      mAP50  mAP50-95): 100%|██████████| 111/111 [00:17<00:00,  6.40it/s]"
          ]
        },
        {
          "output_type": "stream",
          "name": "stdout",
          "text": [
            "                   all       3531       3602       0.99      0.974      0.994      0.573\n"
          ]
        },
        {
          "output_type": "stream",
          "name": "stderr",
          "text": [
            "\n"
          ]
        },
        {
          "output_type": "stream",
          "name": "stdout",
          "text": [
            "\n",
            "      Epoch    GPU_mem   box_loss   cls_loss   dfl_loss  Instances       Size\n"
          ]
        },
        {
          "output_type": "stream",
          "name": "stderr",
          "text": [
            "\r  0%|          | 0/866 [00:00<?, ?it/s]/usr/local/lib/python3.10/dist-packages/ultralytics/utils/loss.py:202: UserWarning: Deterministic behavior was enabled with either `torch.use_deterministic_algorithms(True)` or `at::Context::setDeterministicAlgorithms(true)`, but this operation is not deterministic because it uses CuBLAS and you have CUDA >= 10.2. To enable deterministic behavior in this case, you must set an environment variable before running your PyTorch application: CUBLAS_WORKSPACE_CONFIG=:4096:8 or CUBLAS_WORKSPACE_CONFIG=:16:8. For more information, go to https://docs.nvidia.com/cuda/cublas/index.html#results-reproducibility (Triggered internally at ../aten/src/ATen/Context.cpp:185.)\n",
            "  pred_dist = pred_dist.view(b, a, 4, c // 4).softmax(3).matmul(self.proj.type(pred_dist.dtype))\n",
            "     21/100      6.02G     0.9527     0.5631      1.177         18        672: 100%|██████████| 866/866 [02:35<00:00,  5.58it/s]\n",
            "                 Class     Images  Instances      Box(P          R      mAP50  mAP50-95): 100%|██████████| 111/111 [00:17<00:00,  6.25it/s]"
          ]
        },
        {
          "output_type": "stream",
          "name": "stdout",
          "text": [
            "                   all       3531       3602      0.984      0.976      0.991      0.636\n"
          ]
        },
        {
          "output_type": "stream",
          "name": "stderr",
          "text": [
            "\n"
          ]
        },
        {
          "output_type": "stream",
          "name": "stdout",
          "text": [
            "\n",
            "      Epoch    GPU_mem   box_loss   cls_loss   dfl_loss  Instances       Size\n"
          ]
        },
        {
          "output_type": "stream",
          "name": "stderr",
          "text": [
            "  0%|          | 0/866 [00:00<?, ?it/s]/usr/local/lib/python3.10/dist-packages/ultralytics/utils/loss.py:202: UserWarning: Deterministic behavior was enabled with either `torch.use_deterministic_algorithms(True)` or `at::Context::setDeterministicAlgorithms(true)`, but this operation is not deterministic because it uses CuBLAS and you have CUDA >= 10.2. To enable deterministic behavior in this case, you must set an environment variable before running your PyTorch application: CUBLAS_WORKSPACE_CONFIG=:4096:8 or CUBLAS_WORKSPACE_CONFIG=:16:8. For more information, go to https://docs.nvidia.com/cuda/cublas/index.html#results-reproducibility (Triggered internally at ../aten/src/ATen/Context.cpp:185.)\n",
            "  pred_dist = pred_dist.view(b, a, 4, c // 4).softmax(3).matmul(self.proj.type(pred_dist.dtype))\n",
            "     22/100      6.51G     0.9398       0.55      1.168         40        384: 100%|██████████| 866/866 [02:34<00:00,  5.62it/s]\n",
            "                 Class     Images  Instances      Box(P          R      mAP50  mAP50-95): 100%|██████████| 111/111 [00:18<00:00,  5.98it/s]"
          ]
        },
        {
          "output_type": "stream",
          "name": "stdout",
          "text": [
            "                   all       3531       3602      0.988      0.958      0.989      0.608\n"
          ]
        },
        {
          "output_type": "stream",
          "name": "stderr",
          "text": [
            "\n"
          ]
        },
        {
          "output_type": "stream",
          "name": "stdout",
          "text": [
            "\n",
            "      Epoch    GPU_mem   box_loss   cls_loss   dfl_loss  Instances       Size\n"
          ]
        },
        {
          "output_type": "stream",
          "name": "stderr",
          "text": [
            "  0%|          | 0/866 [00:00<?, ?it/s]/usr/local/lib/python3.10/dist-packages/ultralytics/utils/loss.py:202: UserWarning: Deterministic behavior was enabled with either `torch.use_deterministic_algorithms(True)` or `at::Context::setDeterministicAlgorithms(true)`, but this operation is not deterministic because it uses CuBLAS and you have CUDA >= 10.2. To enable deterministic behavior in this case, you must set an environment variable before running your PyTorch application: CUBLAS_WORKSPACE_CONFIG=:4096:8 or CUBLAS_WORKSPACE_CONFIG=:16:8. For more information, go to https://docs.nvidia.com/cuda/cublas/index.html#results-reproducibility (Triggered internally at ../aten/src/ATen/Context.cpp:185.)\n",
            "  pred_dist = pred_dist.view(b, a, 4, c // 4).softmax(3).matmul(self.proj.type(pred_dist.dtype))\n",
            "     23/100      4.73G     0.9289     0.5501      1.166         20        640: 100%|██████████| 866/866 [02:32<00:00,  5.69it/s]\n",
            "                 Class     Images  Instances      Box(P          R      mAP50  mAP50-95): 100%|██████████| 111/111 [00:17<00:00,  6.31it/s]"
          ]
        },
        {
          "output_type": "stream",
          "name": "stdout",
          "text": [
            "                   all       3531       3602       0.99      0.971      0.994      0.659\n"
          ]
        },
        {
          "output_type": "stream",
          "name": "stderr",
          "text": [
            "\n"
          ]
        },
        {
          "output_type": "stream",
          "name": "stdout",
          "text": [
            "\n",
            "      Epoch    GPU_mem   box_loss   cls_loss   dfl_loss  Instances       Size\n"
          ]
        },
        {
          "output_type": "stream",
          "name": "stderr",
          "text": [
            "  0%|          | 0/866 [00:00<?, ?it/s]/usr/local/lib/python3.10/dist-packages/ultralytics/utils/loss.py:202: UserWarning: Deterministic behavior was enabled with either `torch.use_deterministic_algorithms(True)` or `at::Context::setDeterministicAlgorithms(true)`, but this operation is not deterministic because it uses CuBLAS and you have CUDA >= 10.2. To enable deterministic behavior in this case, you must set an environment variable before running your PyTorch application: CUBLAS_WORKSPACE_CONFIG=:4096:8 or CUBLAS_WORKSPACE_CONFIG=:16:8. For more information, go to https://docs.nvidia.com/cuda/cublas/index.html#results-reproducibility (Triggered internally at ../aten/src/ATen/Context.cpp:185.)\n",
            "  pred_dist = pred_dist.view(b, a, 4, c // 4).softmax(3).matmul(self.proj.type(pred_dist.dtype))\n",
            "     24/100      7.02G     0.9147      0.539      1.154         48        832: 100%|██████████| 866/866 [02:32<00:00,  5.68it/s]\n",
            "                 Class     Images  Instances      Box(P          R      mAP50  mAP50-95): 100%|██████████| 111/111 [00:17<00:00,  6.43it/s]"
          ]
        },
        {
          "output_type": "stream",
          "name": "stdout",
          "text": [
            "                   all       3531       3602      0.991      0.975      0.994      0.632\n"
          ]
        },
        {
          "output_type": "stream",
          "name": "stderr",
          "text": [
            "\n"
          ]
        },
        {
          "output_type": "stream",
          "name": "stdout",
          "text": [
            "\n",
            "      Epoch    GPU_mem   box_loss   cls_loss   dfl_loss  Instances       Size\n"
          ]
        },
        {
          "output_type": "stream",
          "name": "stderr",
          "text": [
            "  0%|          | 0/866 [00:00<?, ?it/s]/usr/local/lib/python3.10/dist-packages/ultralytics/utils/loss.py:202: UserWarning: Deterministic behavior was enabled with either `torch.use_deterministic_algorithms(True)` or `at::Context::setDeterministicAlgorithms(true)`, but this operation is not deterministic because it uses CuBLAS and you have CUDA >= 10.2. To enable deterministic behavior in this case, you must set an environment variable before running your PyTorch application: CUBLAS_WORKSPACE_CONFIG=:4096:8 or CUBLAS_WORKSPACE_CONFIG=:16:8. For more information, go to https://docs.nvidia.com/cuda/cublas/index.html#results-reproducibility (Triggered internally at ../aten/src/ATen/Context.cpp:185.)\n",
            "  pred_dist = pred_dist.view(b, a, 4, c // 4).softmax(3).matmul(self.proj.type(pred_dist.dtype))\n",
            "     25/100      5.28G     0.9115     0.5367      1.158         25        672: 100%|██████████| 866/866 [02:33<00:00,  5.64it/s]\n",
            "                 Class     Images  Instances      Box(P          R      mAP50  mAP50-95): 100%|██████████| 111/111 [00:17<00:00,  6.33it/s]"
          ]
        },
        {
          "output_type": "stream",
          "name": "stdout",
          "text": [
            "                   all       3531       3602      0.989      0.965      0.992      0.636\n"
          ]
        },
        {
          "output_type": "stream",
          "name": "stderr",
          "text": [
            "\n"
          ]
        },
        {
          "output_type": "stream",
          "name": "stdout",
          "text": [
            "\n",
            "      Epoch    GPU_mem   box_loss   cls_loss   dfl_loss  Instances       Size\n"
          ]
        },
        {
          "output_type": "stream",
          "name": "stderr",
          "text": [
            "  0%|          | 0/866 [00:00<?, ?it/s]/usr/local/lib/python3.10/dist-packages/ultralytics/utils/loss.py:202: UserWarning: Deterministic behavior was enabled with either `torch.use_deterministic_algorithms(True)` or `at::Context::setDeterministicAlgorithms(true)`, but this operation is not deterministic because it uses CuBLAS and you have CUDA >= 10.2. To enable deterministic behavior in this case, you must set an environment variable before running your PyTorch application: CUBLAS_WORKSPACE_CONFIG=:4096:8 or CUBLAS_WORKSPACE_CONFIG=:16:8. For more information, go to https://docs.nvidia.com/cuda/cublas/index.html#results-reproducibility (Triggered internally at ../aten/src/ATen/Context.cpp:185.)\n",
            "  pred_dist = pred_dist.view(b, a, 4, c // 4).softmax(3).matmul(self.proj.type(pred_dist.dtype))\n",
            "     26/100      5.83G     0.8984     0.5242      1.154         36        352: 100%|██████████| 866/866 [02:36<00:00,  5.53it/s]\n",
            "                 Class     Images  Instances      Box(P          R      mAP50  mAP50-95): 100%|██████████| 111/111 [00:17<00:00,  6.41it/s]"
          ]
        },
        {
          "output_type": "stream",
          "name": "stdout",
          "text": [
            "                   all       3531       3602       0.99       0.97      0.993      0.656\n",
            "\u001b[34m\u001b[1mEarlyStopping: \u001b[0mTraining stopped early as no improvement observed in last 20 epochs. Best results observed at epoch 6, best model saved as best.pt.\n",
            "To update EarlyStopping(patience=20) pass a new patience value, i.e. `patience=300` or use `patience=0` to disable EarlyStopping.\n"
          ]
        },
        {
          "output_type": "stream",
          "name": "stderr",
          "text": [
            "\n"
          ]
        },
        {
          "output_type": "stream",
          "name": "stdout",
          "text": [
            "\n",
            "26 epochs completed in 1.262 hours.\n",
            "Optimizer stripped from /content/drive/MyDrive/yolov8n_checkpoints/pill4/weights/last.pt, 6.2MB\n",
            "Optimizer stripped from /content/drive/MyDrive/yolov8n_checkpoints/pill4/weights/best.pt, 6.2MB\n",
            "\n",
            "Validating /content/drive/MyDrive/yolov8n_checkpoints/pill4/weights/best.pt...\n",
            "Ultralytics YOLOv8.2.103 🚀 Python-3.10.12 torch-2.4.1+cu121 CUDA:0 (Tesla T4, 15102MiB)\n",
            "Model summary (fused): 168 layers, 3,005,843 parameters, 0 gradients, 8.1 GFLOPs\n"
          ]
        },
        {
          "output_type": "stream",
          "name": "stderr",
          "text": [
            "/usr/local/lib/python3.10/dist-packages/ultralytics/utils/torch_utils.py:254: UserWarning: Deterministic behavior was enabled with either `torch.use_deterministic_algorithms(True)` or `at::Context::setDeterministicAlgorithms(true)`, but this operation is not deterministic because it uses CuBLAS and you have CUDA >= 10.2. To enable deterministic behavior in this case, you must set an environment variable before running your PyTorch application: CUBLAS_WORKSPACE_CONFIG=:4096:8 or CUBLAS_WORKSPACE_CONFIG=:16:8. For more information, go to https://docs.nvidia.com/cuda/cublas/index.html#results-reproducibility (Triggered internally at ../aten/src/ATen/Context.cpp:185.)\n",
            "  fusedconv.weight.copy_(torch.mm(w_bn, w_conv).view(fusedconv.weight.shape))\n",
            "/usr/local/lib/python3.10/dist-packages/ultralytics/utils/torch_utils.py:259: UserWarning: Deterministic behavior was enabled with either `torch.use_deterministic_algorithms(True)` or `at::Context::setDeterministicAlgorithms(true)`, but this operation is not deterministic because it uses CuBLAS and you have CUDA >= 10.2. To enable deterministic behavior in this case, you must set an environment variable before running your PyTorch application: CUBLAS_WORKSPACE_CONFIG=:4096:8 or CUBLAS_WORKSPACE_CONFIG=:16:8. For more information, go to https://docs.nvidia.com/cuda/cublas/index.html#results-reproducibility (Triggered internally at ../aten/src/ATen/Context.cpp:185.)\n",
            "  fusedconv.bias.copy_(torch.mm(w_bn, b_conv.reshape(-1, 1)).reshape(-1) + b_bn)\n",
            "                 Class     Images  Instances      Box(P          R      mAP50  mAP50-95): 100%|██████████| 111/111 [00:19<00:00,  5.57it/s]\n"
          ]
        },
        {
          "output_type": "stream",
          "name": "stdout",
          "text": [
            "                   all       3531       3602      0.973      0.984      0.991      0.701\n",
            "Speed: 0.2ms preprocess, 1.5ms inference, 0.0ms loss, 0.9ms postprocess per image\n",
            "Results saved to \u001b[1m/content/drive/MyDrive/yolov8n_checkpoints/pill4\u001b[0m\n",
            "ultralytics.utils.metrics.DetMetrics object with attributes:\n",
            "\n",
            "ap_class_index: array([0])\n",
            "box: ultralytics.utils.metrics.Metric object\n",
            "confusion_matrix: <ultralytics.utils.metrics.ConfusionMatrix object at 0x7de869b7e680>\n",
            "curves: ['Precision-Recall(B)', 'F1-Confidence(B)', 'Precision-Confidence(B)', 'Recall-Confidence(B)']\n",
            "curves_results: [[array([          0,    0.001001,    0.002002,    0.003003,    0.004004,    0.005005,    0.006006,    0.007007,    0.008008,    0.009009,     0.01001,    0.011011,    0.012012,    0.013013,    0.014014,    0.015015,    0.016016,    0.017017,    0.018018,    0.019019,     0.02002,    0.021021,    0.022022,    0.023023,\n",
            "          0.024024,    0.025025,    0.026026,    0.027027,    0.028028,    0.029029,     0.03003,    0.031031,    0.032032,    0.033033,    0.034034,    0.035035,    0.036036,    0.037037,    0.038038,    0.039039,     0.04004,    0.041041,    0.042042,    0.043043,    0.044044,    0.045045,    0.046046,    0.047047,\n",
            "          0.048048,    0.049049,     0.05005,    0.051051,    0.052052,    0.053053,    0.054054,    0.055055,    0.056056,    0.057057,    0.058058,    0.059059,     0.06006,    0.061061,    0.062062,    0.063063,    0.064064,    0.065065,    0.066066,    0.067067,    0.068068,    0.069069,     0.07007,    0.071071,\n",
            "          0.072072,    0.073073,    0.074074,    0.075075,    0.076076,    0.077077,    0.078078,    0.079079,     0.08008,    0.081081,    0.082082,    0.083083,    0.084084,    0.085085,    0.086086,    0.087087,    0.088088,    0.089089,     0.09009,    0.091091,    0.092092,    0.093093,    0.094094,    0.095095,\n",
            "          0.096096,    0.097097,    0.098098,    0.099099,      0.1001,      0.1011,      0.1021,      0.1031,      0.1041,     0.10511,     0.10611,     0.10711,     0.10811,     0.10911,     0.11011,     0.11111,     0.11211,     0.11311,     0.11411,     0.11512,     0.11612,     0.11712,     0.11812,     0.11912,\n",
            "           0.12012,     0.12112,     0.12212,     0.12312,     0.12412,     0.12513,     0.12613,     0.12713,     0.12813,     0.12913,     0.13013,     0.13113,     0.13213,     0.13313,     0.13413,     0.13514,     0.13614,     0.13714,     0.13814,     0.13914,     0.14014,     0.14114,     0.14214,     0.14314,\n",
            "           0.14414,     0.14515,     0.14615,     0.14715,     0.14815,     0.14915,     0.15015,     0.15115,     0.15215,     0.15315,     0.15415,     0.15516,     0.15616,     0.15716,     0.15816,     0.15916,     0.16016,     0.16116,     0.16216,     0.16316,     0.16416,     0.16517,     0.16617,     0.16717,\n",
            "           0.16817,     0.16917,     0.17017,     0.17117,     0.17217,     0.17317,     0.17417,     0.17518,     0.17618,     0.17718,     0.17818,     0.17918,     0.18018,     0.18118,     0.18218,     0.18318,     0.18418,     0.18519,     0.18619,     0.18719,     0.18819,     0.18919,     0.19019,     0.19119,\n",
            "           0.19219,     0.19319,     0.19419,      0.1952,      0.1962,      0.1972,      0.1982,      0.1992,      0.2002,      0.2012,      0.2022,      0.2032,      0.2042,     0.20521,     0.20621,     0.20721,     0.20821,     0.20921,     0.21021,     0.21121,     0.21221,     0.21321,     0.21421,     0.21522,\n",
            "           0.21622,     0.21722,     0.21822,     0.21922,     0.22022,     0.22122,     0.22222,     0.22322,     0.22422,     0.22523,     0.22623,     0.22723,     0.22823,     0.22923,     0.23023,     0.23123,     0.23223,     0.23323,     0.23423,     0.23524,     0.23624,     0.23724,     0.23824,     0.23924,\n",
            "           0.24024,     0.24124,     0.24224,     0.24324,     0.24424,     0.24525,     0.24625,     0.24725,     0.24825,     0.24925,     0.25025,     0.25125,     0.25225,     0.25325,     0.25425,     0.25526,     0.25626,     0.25726,     0.25826,     0.25926,     0.26026,     0.26126,     0.26226,     0.26326,\n",
            "           0.26426,     0.26527,     0.26627,     0.26727,     0.26827,     0.26927,     0.27027,     0.27127,     0.27227,     0.27327,     0.27427,     0.27528,     0.27628,     0.27728,     0.27828,     0.27928,     0.28028,     0.28128,     0.28228,     0.28328,     0.28428,     0.28529,     0.28629,     0.28729,\n",
            "           0.28829,     0.28929,     0.29029,     0.29129,     0.29229,     0.29329,     0.29429,      0.2953,      0.2963,      0.2973,      0.2983,      0.2993,      0.3003,      0.3013,      0.3023,      0.3033,      0.3043,     0.30531,     0.30631,     0.30731,     0.30831,     0.30931,     0.31031,     0.31131,\n",
            "           0.31231,     0.31331,     0.31431,     0.31532,     0.31632,     0.31732,     0.31832,     0.31932,     0.32032,     0.32132,     0.32232,     0.32332,     0.32432,     0.32533,     0.32633,     0.32733,     0.32833,     0.32933,     0.33033,     0.33133,     0.33233,     0.33333,     0.33433,     0.33534,\n",
            "           0.33634,     0.33734,     0.33834,     0.33934,     0.34034,     0.34134,     0.34234,     0.34334,     0.34434,     0.34535,     0.34635,     0.34735,     0.34835,     0.34935,     0.35035,     0.35135,     0.35235,     0.35335,     0.35435,     0.35536,     0.35636,     0.35736,     0.35836,     0.35936,\n",
            "           0.36036,     0.36136,     0.36236,     0.36336,     0.36436,     0.36537,     0.36637,     0.36737,     0.36837,     0.36937,     0.37037,     0.37137,     0.37237,     0.37337,     0.37437,     0.37538,     0.37638,     0.37738,     0.37838,     0.37938,     0.38038,     0.38138,     0.38238,     0.38338,\n",
            "           0.38438,     0.38539,     0.38639,     0.38739,     0.38839,     0.38939,     0.39039,     0.39139,     0.39239,     0.39339,     0.39439,      0.3954,      0.3964,      0.3974,      0.3984,      0.3994,      0.4004,      0.4014,      0.4024,      0.4034,      0.4044,     0.40541,     0.40641,     0.40741,\n",
            "           0.40841,     0.40941,     0.41041,     0.41141,     0.41241,     0.41341,     0.41441,     0.41542,     0.41642,     0.41742,     0.41842,     0.41942,     0.42042,     0.42142,     0.42242,     0.42342,     0.42442,     0.42543,     0.42643,     0.42743,     0.42843,     0.42943,     0.43043,     0.43143,\n",
            "           0.43243,     0.43343,     0.43443,     0.43544,     0.43644,     0.43744,     0.43844,     0.43944,     0.44044,     0.44144,     0.44244,     0.44344,     0.44444,     0.44545,     0.44645,     0.44745,     0.44845,     0.44945,     0.45045,     0.45145,     0.45245,     0.45345,     0.45445,     0.45546,\n",
            "           0.45646,     0.45746,     0.45846,     0.45946,     0.46046,     0.46146,     0.46246,     0.46346,     0.46446,     0.46547,     0.46647,     0.46747,     0.46847,     0.46947,     0.47047,     0.47147,     0.47247,     0.47347,     0.47447,     0.47548,     0.47648,     0.47748,     0.47848,     0.47948,\n",
            "           0.48048,     0.48148,     0.48248,     0.48348,     0.48448,     0.48549,     0.48649,     0.48749,     0.48849,     0.48949,     0.49049,     0.49149,     0.49249,     0.49349,     0.49449,      0.4955,      0.4965,      0.4975,      0.4985,      0.4995,      0.5005,      0.5015,      0.5025,      0.5035,\n",
            "            0.5045,     0.50551,     0.50651,     0.50751,     0.50851,     0.50951,     0.51051,     0.51151,     0.51251,     0.51351,     0.51451,     0.51552,     0.51652,     0.51752,     0.51852,     0.51952,     0.52052,     0.52152,     0.52252,     0.52352,     0.52452,     0.52553,     0.52653,     0.52753,\n",
            "           0.52853,     0.52953,     0.53053,     0.53153,     0.53253,     0.53353,     0.53453,     0.53554,     0.53654,     0.53754,     0.53854,     0.53954,     0.54054,     0.54154,     0.54254,     0.54354,     0.54454,     0.54555,     0.54655,     0.54755,     0.54855,     0.54955,     0.55055,     0.55155,\n",
            "           0.55255,     0.55355,     0.55455,     0.55556,     0.55656,     0.55756,     0.55856,     0.55956,     0.56056,     0.56156,     0.56256,     0.56356,     0.56456,     0.56557,     0.56657,     0.56757,     0.56857,     0.56957,     0.57057,     0.57157,     0.57257,     0.57357,     0.57457,     0.57558,\n",
            "           0.57658,     0.57758,     0.57858,     0.57958,     0.58058,     0.58158,     0.58258,     0.58358,     0.58458,     0.58559,     0.58659,     0.58759,     0.58859,     0.58959,     0.59059,     0.59159,     0.59259,     0.59359,     0.59459,      0.5956,      0.5966,      0.5976,      0.5986,      0.5996,\n",
            "            0.6006,      0.6016,      0.6026,      0.6036,      0.6046,     0.60561,     0.60661,     0.60761,     0.60861,     0.60961,     0.61061,     0.61161,     0.61261,     0.61361,     0.61461,     0.61562,     0.61662,     0.61762,     0.61862,     0.61962,     0.62062,     0.62162,     0.62262,     0.62362,\n",
            "           0.62462,     0.62563,     0.62663,     0.62763,     0.62863,     0.62963,     0.63063,     0.63163,     0.63263,     0.63363,     0.63463,     0.63564,     0.63664,     0.63764,     0.63864,     0.63964,     0.64064,     0.64164,     0.64264,     0.64364,     0.64464,     0.64565,     0.64665,     0.64765,\n",
            "           0.64865,     0.64965,     0.65065,     0.65165,     0.65265,     0.65365,     0.65465,     0.65566,     0.65666,     0.65766,     0.65866,     0.65966,     0.66066,     0.66166,     0.66266,     0.66366,     0.66466,     0.66567,     0.66667,     0.66767,     0.66867,     0.66967,     0.67067,     0.67167,\n",
            "           0.67267,     0.67367,     0.67467,     0.67568,     0.67668,     0.67768,     0.67868,     0.67968,     0.68068,     0.68168,     0.68268,     0.68368,     0.68468,     0.68569,     0.68669,     0.68769,     0.68869,     0.68969,     0.69069,     0.69169,     0.69269,     0.69369,     0.69469,      0.6957,\n",
            "            0.6967,      0.6977,      0.6987,      0.6997,      0.7007,      0.7017,      0.7027,      0.7037,      0.7047,     0.70571,     0.70671,     0.70771,     0.70871,     0.70971,     0.71071,     0.71171,     0.71271,     0.71371,     0.71471,     0.71572,     0.71672,     0.71772,     0.71872,     0.71972,\n",
            "           0.72072,     0.72172,     0.72272,     0.72372,     0.72472,     0.72573,     0.72673,     0.72773,     0.72873,     0.72973,     0.73073,     0.73173,     0.73273,     0.73373,     0.73473,     0.73574,     0.73674,     0.73774,     0.73874,     0.73974,     0.74074,     0.74174,     0.74274,     0.74374,\n",
            "           0.74474,     0.74575,     0.74675,     0.74775,     0.74875,     0.74975,     0.75075,     0.75175,     0.75275,     0.75375,     0.75475,     0.75576,     0.75676,     0.75776,     0.75876,     0.75976,     0.76076,     0.76176,     0.76276,     0.76376,     0.76476,     0.76577,     0.76677,     0.76777,\n",
            "           0.76877,     0.76977,     0.77077,     0.77177,     0.77277,     0.77377,     0.77477,     0.77578,     0.77678,     0.77778,     0.77878,     0.77978,     0.78078,     0.78178,     0.78278,     0.78378,     0.78478,     0.78579,     0.78679,     0.78779,     0.78879,     0.78979,     0.79079,     0.79179,\n",
            "           0.79279,     0.79379,     0.79479,      0.7958,      0.7968,      0.7978,      0.7988,      0.7998,      0.8008,      0.8018,      0.8028,      0.8038,      0.8048,     0.80581,     0.80681,     0.80781,     0.80881,     0.80981,     0.81081,     0.81181,     0.81281,     0.81381,     0.81481,     0.81582,\n",
            "           0.81682,     0.81782,     0.81882,     0.81982,     0.82082,     0.82182,     0.82282,     0.82382,     0.82482,     0.82583,     0.82683,     0.82783,     0.82883,     0.82983,     0.83083,     0.83183,     0.83283,     0.83383,     0.83483,     0.83584,     0.83684,     0.83784,     0.83884,     0.83984,\n",
            "           0.84084,     0.84184,     0.84284,     0.84384,     0.84484,     0.84585,     0.84685,     0.84785,     0.84885,     0.84985,     0.85085,     0.85185,     0.85285,     0.85385,     0.85485,     0.85586,     0.85686,     0.85786,     0.85886,     0.85986,     0.86086,     0.86186,     0.86286,     0.86386,\n",
            "           0.86486,     0.86587,     0.86687,     0.86787,     0.86887,     0.86987,     0.87087,     0.87187,     0.87287,     0.87387,     0.87487,     0.87588,     0.87688,     0.87788,     0.87888,     0.87988,     0.88088,     0.88188,     0.88288,     0.88388,     0.88488,     0.88589,     0.88689,     0.88789,\n",
            "           0.88889,     0.88989,     0.89089,     0.89189,     0.89289,     0.89389,     0.89489,      0.8959,      0.8969,      0.8979,      0.8989,      0.8999,      0.9009,      0.9019,      0.9029,      0.9039,      0.9049,     0.90591,     0.90691,     0.90791,     0.90891,     0.90991,     0.91091,     0.91191,\n",
            "           0.91291,     0.91391,     0.91491,     0.91592,     0.91692,     0.91792,     0.91892,     0.91992,     0.92092,     0.92192,     0.92292,     0.92392,     0.92492,     0.92593,     0.92693,     0.92793,     0.92893,     0.92993,     0.93093,     0.93193,     0.93293,     0.93393,     0.93493,     0.93594,\n",
            "           0.93694,     0.93794,     0.93894,     0.93994,     0.94094,     0.94194,     0.94294,     0.94394,     0.94494,     0.94595,     0.94695,     0.94795,     0.94895,     0.94995,     0.95095,     0.95195,     0.95295,     0.95395,     0.95495,     0.95596,     0.95696,     0.95796,     0.95896,     0.95996,\n",
            "           0.96096,     0.96196,     0.96296,     0.96396,     0.96496,     0.96597,     0.96697,     0.96797,     0.96897,     0.96997,     0.97097,     0.97197,     0.97297,     0.97397,     0.97497,     0.97598,     0.97698,     0.97798,     0.97898,     0.97998,     0.98098,     0.98198,     0.98298,     0.98398,\n",
            "           0.98498,     0.98599,     0.98699,     0.98799,     0.98899,     0.98999,     0.99099,     0.99199,     0.99299,     0.99399,     0.99499,       0.996,       0.997,       0.998,       0.999,           1]), array([[          1,           1,           1,           1,           1,           1,           1,           1,           1,           1,           1,           1,           1,           1,           1,           1,           1,           1,           1,           1,           1,           1,           1,\n",
            "                  1,           1,           1,           1,           1,           1,           1,           1,           1,           1,           1,           1,           1,           1,           1,           1,           1,           1,           1,           1,           1,           1,           1,\n",
            "                  1,           1,           1,           1,           1,           1,           1,           1,           1,           1,           1,           1,           1,           1,           1,           1,           1,           1,           1,           1,           1,           1,           1,\n",
            "                  1,           1,           1,           1,           1,           1,           1,           1,           1,           1,           1,           1,           1,           1,           1,           1,           1,           1,           1,           1,           1,           1,           1,\n",
            "                  1,           1,           1,           1,           1,           1,           1,           1,           1,           1,           1,           1,           1,           1,           1,           1,           1,           1,           1,           1,           1,           1,           1,\n",
            "                  1,           1,           1,           1,           1,           1,           1,           1,           1,           1,           1,           1,           1,           1,           1,           1,           1,           1,           1,           1,           1,           1,           1,\n",
            "                  1,           1,           1,           1,           1,           1,           1,           1,           1,           1,           1,           1,           1,           1,           1,           1,           1,           1,           1,           1,           1,           1,           1,\n",
            "                  1,           1,           1,           1,           1,           1,           1,           1,           1,           1,           1,           1,           1,           1,           1,           1,           1,           1,           1,           1,           1,           1,     0.99855,\n",
            "            0.99855,     0.99855,     0.99855,     0.99855,     0.99855,     0.99855,     0.99855,     0.99855,     0.99818,     0.99818,     0.99818,     0.99818,     0.99818,     0.99818,     0.99818,     0.99818,     0.99818,     0.99818,     0.99818,     0.99818,     0.99818,     0.99818,     0.99818,\n",
            "            0.99818,     0.99818,     0.99818,     0.99818,     0.99818,     0.99818,     0.99818,     0.99818,     0.99818,     0.99818,     0.99818,     0.99818,     0.99818,     0.99818,     0.99818,     0.99818,     0.99818,     0.99818,     0.99818,     0.99818,     0.99818,     0.99818,     0.99818,\n",
            "            0.99818,     0.99818,     0.99818,     0.99818,     0.99818,     0.99818,     0.99818,     0.99818,     0.99818,     0.99818,     0.99818,     0.99818,     0.99818,     0.99818,     0.99818,     0.99818,     0.99818,     0.99818,     0.99818,     0.99818,     0.99818,     0.99818,     0.99818,\n",
            "            0.99818,     0.99818,     0.99818,     0.99818,     0.99818,     0.99818,     0.99818,     0.99818,     0.99818,     0.99818,     0.99818,     0.99818,     0.99818,     0.99818,     0.99818,     0.99818,     0.99818,     0.99818,     0.99818,     0.99818,     0.99818,     0.99818,     0.99818,\n",
            "            0.99818,     0.99818,     0.99818,     0.99818,     0.99818,     0.99818,     0.99818,     0.99818,     0.99818,     0.99818,     0.99818,     0.99818,     0.99818,     0.99818,     0.99818,     0.99818,     0.99818,     0.99818,     0.99818,     0.99818,     0.99818,     0.99818,     0.99818,\n",
            "            0.99818,     0.99818,     0.99818,     0.99818,     0.99818,     0.99818,     0.99799,     0.99799,     0.99799,     0.99799,     0.99799,     0.99799,     0.99799,     0.99799,     0.99799,     0.99799,     0.99799,     0.99799,     0.99799,     0.99799,     0.99799,     0.99799,     0.99799,\n",
            "            0.99799,     0.99799,     0.99799,     0.99799,     0.99799,     0.99799,     0.99799,     0.99799,     0.99799,     0.99799,     0.99799,     0.99799,     0.99799,     0.99799,     0.99799,     0.99799,     0.99799,     0.99799,     0.99799,     0.99799,     0.99799,     0.99799,     0.99799,\n",
            "            0.99799,     0.99799,     0.99799,     0.99799,     0.99799,     0.99799,     0.99799,     0.99799,     0.99799,     0.99799,     0.99799,     0.99799,     0.99799,     0.99799,     0.99799,     0.99799,     0.99799,     0.99799,     0.99799,     0.99799,     0.99799,     0.99799,     0.99799,\n",
            "            0.99799,     0.99799,     0.99799,     0.99799,     0.99799,     0.99799,     0.99799,     0.99799,     0.99799,     0.99799,     0.99799,     0.99799,     0.99799,     0.99799,     0.99799,     0.99799,     0.99799,     0.99799,     0.99799,     0.99799,     0.99799,     0.99799,     0.99799,\n",
            "            0.99799,     0.99799,     0.99799,     0.99799,     0.99799,     0.99799,     0.99799,     0.99799,     0.99799,     0.99799,     0.99799,     0.99799,     0.99799,     0.99799,     0.99799,     0.99799,     0.99799,     0.99799,     0.99799,     0.99799,     0.99799,     0.99799,     0.99754,\n",
            "            0.99754,     0.99754,     0.99754,     0.99754,     0.99754,     0.99754,     0.99754,     0.99754,     0.99754,     0.99754,     0.99754,     0.99754,     0.99754,     0.99754,     0.99754,     0.99754,     0.99754,     0.99754,     0.99754,     0.99754,     0.99754,     0.99754,     0.99754,\n",
            "            0.99754,     0.99754,     0.99754,     0.99754,     0.99754,     0.99754,     0.99754,     0.99754,     0.99754,     0.99754,     0.99754,     0.99754,     0.99754,     0.99754,     0.99735,     0.99735,     0.99735,     0.99735,     0.99735,     0.99735,     0.99735,     0.99735,     0.99735,\n",
            "            0.99735,     0.99735,     0.99735,     0.99735,     0.99735,     0.99735,     0.99735,     0.99735,     0.99735,     0.99735,     0.99735,     0.99735,     0.99735,     0.99735,     0.99735,     0.99735,     0.99735,     0.99735,     0.99735,     0.99735,     0.99735,     0.99735,     0.99735,\n",
            "            0.99735,     0.99735,     0.99735,     0.99735,     0.99735,     0.99735,     0.99735,     0.99735,     0.99735,     0.99735,     0.99735,     0.99735,     0.99735,     0.99735,     0.99735,     0.99735,     0.99735,     0.99735,     0.99735,     0.99735,     0.99735,     0.99735,     0.99735,\n",
            "            0.99735,     0.99735,     0.99735,     0.99735,     0.99735,     0.99735,     0.99735,     0.99735,     0.99735,     0.99735,     0.99735,     0.99735,     0.99735,     0.99735,     0.99735,     0.99735,     0.99735,     0.99701,     0.99701,     0.99701,     0.99701,     0.99701,     0.99701,\n",
            "            0.99701,     0.99701,     0.99701,     0.99701,     0.99701,     0.99701,     0.99701,     0.99701,     0.99701,     0.99701,     0.99701,     0.99701,     0.99701,     0.99701,     0.99701,     0.99701,     0.99701,     0.99701,     0.99701,     0.99701,     0.99701,     0.99701,     0.99701,\n",
            "            0.99701,     0.99701,     0.99701,     0.99678,     0.99678,     0.99678,     0.99678,     0.99678,     0.99678,     0.99678,     0.99678,     0.99678,     0.99678,     0.99678,     0.99678,     0.99678,     0.99678,     0.99678,     0.99678,     0.99678,     0.99678,     0.99678,     0.99678,\n",
            "            0.99678,     0.99678,     0.99678,     0.99678,     0.99678,     0.99678,     0.99678,     0.99678,     0.99678,     0.99678,     0.99678,     0.99678,     0.99678,     0.99678,     0.99678,     0.99678,     0.99678,     0.99678,     0.99678,     0.99678,     0.99678,     0.99678,     0.99678,\n",
            "            0.99678,     0.99678,     0.99678,     0.99678,     0.99642,     0.99642,     0.99642,     0.99642,     0.99642,     0.99642,     0.99642,     0.99642,     0.99642,     0.99642,     0.99642,     0.99642,     0.99642,     0.99642,     0.99642,     0.99642,     0.99623,     0.99623,     0.99623,\n",
            "            0.99623,     0.99623,     0.99623,     0.99623,     0.99623,     0.99623,     0.99623,     0.99623,     0.99623,     0.99623,     0.99623,     0.99623,     0.99623,     0.99623,     0.99623,     0.99623,     0.99623,     0.99623,     0.99623,     0.99623,     0.99623,     0.99623,     0.99623,\n",
            "            0.99623,     0.99623,     0.99623,     0.99623,     0.99623,     0.99623,     0.99623,     0.99623,     0.99623,     0.99623,     0.99623,     0.99623,     0.99623,     0.99623,     0.99623,     0.99608,     0.99608,     0.99608,     0.99608,     0.99608,     0.99608,     0.99608,     0.99608,\n",
            "            0.99608,     0.99608,     0.99608,     0.99608,     0.99608,     0.99608,     0.99608,     0.99608,     0.99608,     0.99608,     0.99608,     0.99608,     0.99608,     0.99608,     0.99608,     0.99608,     0.99608,     0.99608,     0.99608,     0.99608,     0.99608,     0.99608,     0.99608,\n",
            "            0.99608,     0.99608,     0.99608,     0.99608,     0.99608,     0.99608,     0.99608,     0.99608,     0.99608,     0.99608,     0.99608,     0.99608,     0.99608,     0.99608,     0.99589,     0.99589,     0.99589,     0.99589,     0.99589,     0.99589,     0.99589,     0.99589,     0.99589,\n",
            "            0.99589,     0.99589,     0.99589,     0.99589,     0.99589,     0.99589,     0.99589,     0.99589,     0.99589,     0.99589,     0.99589,     0.99589,     0.99589,     0.99589,     0.99589,     0.99589,     0.99589,     0.99589,     0.99589,     0.99589,     0.99589,     0.99589,     0.99589,\n",
            "            0.99589,     0.99589,     0.99589,     0.99568,     0.99568,     0.99568,     0.99568,     0.99568,     0.99568,     0.99568,     0.99568,     0.99568,     0.99568,     0.99568,     0.99568,     0.99568,     0.99568,     0.99568,     0.99568,     0.99568,     0.99568,     0.99568,     0.99568,\n",
            "            0.99568,     0.99568,     0.99568,     0.99568,     0.99568,     0.99568,     0.99568,     0.99568,     0.99568,     0.99557,     0.99557,     0.99557,     0.99557,     0.99557,     0.99557,     0.99557,     0.99557,     0.99557,     0.99557,     0.99557,     0.99557,     0.99557,     0.99557,\n",
            "            0.99557,     0.99557,     0.99557,     0.99557,     0.99557,     0.99557,     0.99557,     0.99557,     0.99557,     0.99557,     0.99557,     0.99557,     0.99557,     0.99557,     0.99557,     0.99557,     0.99557,     0.99557,     0.99557,     0.99557,     0.99557,     0.99557,     0.99557,\n",
            "            0.99557,     0.99557,     0.99557,     0.99557,     0.99557,     0.99557,     0.99524,     0.99524,     0.99492,     0.99492,     0.99477,     0.99477,     0.99477,     0.99477,     0.99477,     0.99477,     0.99477,     0.99477,     0.99477,     0.99477,     0.99477,     0.99477,     0.99477,\n",
            "            0.99477,     0.99477,     0.99477,     0.99477,     0.99477,     0.99477,     0.99477,     0.99477,     0.99477,     0.99477,     0.99477,     0.99477,     0.99477,     0.99477,     0.99477,     0.99477,     0.99448,     0.99448,     0.99448,     0.99448,     0.99448,     0.99416,     0.99386,\n",
            "            0.99386,     0.99386,     0.99354,     0.99328,     0.99328,     0.99328,     0.99328,     0.99328,     0.99328,     0.99328,     0.99307,     0.99307,     0.99307,     0.99307,     0.99307,     0.99307,     0.99307,     0.99307,     0.99307,     0.99307,     0.99307,     0.99307,     0.99307,\n",
            "            0.99307,     0.99279,     0.99279,     0.99279,     0.99279,     0.99253,     0.99253,     0.99253,     0.99253,     0.99253,     0.99253,     0.99229,     0.99229,     0.99229,     0.99229,     0.99229,     0.99229,     0.99229,     0.99202,     0.99202,     0.99202,     0.99202,     0.99202,\n",
            "            0.99118,     0.99118,     0.99118,     0.99118,     0.99118,     0.99118,     0.99118,     0.99091,     0.99091,     0.99091,     0.99091,     0.99064,     0.99064,     0.99035,     0.99009,     0.99009,     0.99009,     0.99009,     0.98982,     0.98982,     0.98958,     0.98958,     0.98958,\n",
            "            0.98958,     0.98958,     0.98931,     0.98931,     0.98902,     0.98874,     0.98848,     0.98848,     0.98791,     0.98791,     0.98765,     0.98765,     0.98738,     0.98712,     0.98712,     0.98712,     0.98685,     0.98661,     0.98661,     0.98661,     0.98633,     0.98578,     0.98578,\n",
            "            0.98496,     0.98496,     0.98472,     0.98472,     0.98472,      0.9845,      0.9845,      0.9845,      0.9845,     0.98401,     0.98401,     0.98401,     0.98401,     0.98375,     0.98349,     0.98349,     0.98323,      0.9827,      0.9827,     0.98245,     0.98219,     0.98193,     0.98167,\n",
            "            0.98115,     0.98115,     0.98091,     0.98091,     0.98066,     0.98013,     0.97988,     0.97907,     0.97858,     0.97858,     0.97805,     0.97756,     0.97756,     0.97649,      0.9757,     0.97494,     0.97468,      0.9726,      0.9726,     0.97156,     0.97052,     0.96871,     0.96821,\n",
            "            0.96695,     0.96644,      0.9636,     0.96157,     0.95749,     0.94915,     0.93171,      0.8942,     0.82739,     0.11333,           0]]), 'Recall', 'Precision'], [array([          0,    0.001001,    0.002002,    0.003003,    0.004004,    0.005005,    0.006006,    0.007007,    0.008008,    0.009009,     0.01001,    0.011011,    0.012012,    0.013013,    0.014014,    0.015015,    0.016016,    0.017017,    0.018018,    0.019019,     0.02002,    0.021021,    0.022022,    0.023023,\n",
            "          0.024024,    0.025025,    0.026026,    0.027027,    0.028028,    0.029029,     0.03003,    0.031031,    0.032032,    0.033033,    0.034034,    0.035035,    0.036036,    0.037037,    0.038038,    0.039039,     0.04004,    0.041041,    0.042042,    0.043043,    0.044044,    0.045045,    0.046046,    0.047047,\n",
            "          0.048048,    0.049049,     0.05005,    0.051051,    0.052052,    0.053053,    0.054054,    0.055055,    0.056056,    0.057057,    0.058058,    0.059059,     0.06006,    0.061061,    0.062062,    0.063063,    0.064064,    0.065065,    0.066066,    0.067067,    0.068068,    0.069069,     0.07007,    0.071071,\n",
            "          0.072072,    0.073073,    0.074074,    0.075075,    0.076076,    0.077077,    0.078078,    0.079079,     0.08008,    0.081081,    0.082082,    0.083083,    0.084084,    0.085085,    0.086086,    0.087087,    0.088088,    0.089089,     0.09009,    0.091091,    0.092092,    0.093093,    0.094094,    0.095095,\n",
            "          0.096096,    0.097097,    0.098098,    0.099099,      0.1001,      0.1011,      0.1021,      0.1031,      0.1041,     0.10511,     0.10611,     0.10711,     0.10811,     0.10911,     0.11011,     0.11111,     0.11211,     0.11311,     0.11411,     0.11512,     0.11612,     0.11712,     0.11812,     0.11912,\n",
            "           0.12012,     0.12112,     0.12212,     0.12312,     0.12412,     0.12513,     0.12613,     0.12713,     0.12813,     0.12913,     0.13013,     0.13113,     0.13213,     0.13313,     0.13413,     0.13514,     0.13614,     0.13714,     0.13814,     0.13914,     0.14014,     0.14114,     0.14214,     0.14314,\n",
            "           0.14414,     0.14515,     0.14615,     0.14715,     0.14815,     0.14915,     0.15015,     0.15115,     0.15215,     0.15315,     0.15415,     0.15516,     0.15616,     0.15716,     0.15816,     0.15916,     0.16016,     0.16116,     0.16216,     0.16316,     0.16416,     0.16517,     0.16617,     0.16717,\n",
            "           0.16817,     0.16917,     0.17017,     0.17117,     0.17217,     0.17317,     0.17417,     0.17518,     0.17618,     0.17718,     0.17818,     0.17918,     0.18018,     0.18118,     0.18218,     0.18318,     0.18418,     0.18519,     0.18619,     0.18719,     0.18819,     0.18919,     0.19019,     0.19119,\n",
            "           0.19219,     0.19319,     0.19419,      0.1952,      0.1962,      0.1972,      0.1982,      0.1992,      0.2002,      0.2012,      0.2022,      0.2032,      0.2042,     0.20521,     0.20621,     0.20721,     0.20821,     0.20921,     0.21021,     0.21121,     0.21221,     0.21321,     0.21421,     0.21522,\n",
            "           0.21622,     0.21722,     0.21822,     0.21922,     0.22022,     0.22122,     0.22222,     0.22322,     0.22422,     0.22523,     0.22623,     0.22723,     0.22823,     0.22923,     0.23023,     0.23123,     0.23223,     0.23323,     0.23423,     0.23524,     0.23624,     0.23724,     0.23824,     0.23924,\n",
            "           0.24024,     0.24124,     0.24224,     0.24324,     0.24424,     0.24525,     0.24625,     0.24725,     0.24825,     0.24925,     0.25025,     0.25125,     0.25225,     0.25325,     0.25425,     0.25526,     0.25626,     0.25726,     0.25826,     0.25926,     0.26026,     0.26126,     0.26226,     0.26326,\n",
            "           0.26426,     0.26527,     0.26627,     0.26727,     0.26827,     0.26927,     0.27027,     0.27127,     0.27227,     0.27327,     0.27427,     0.27528,     0.27628,     0.27728,     0.27828,     0.27928,     0.28028,     0.28128,     0.28228,     0.28328,     0.28428,     0.28529,     0.28629,     0.28729,\n",
            "           0.28829,     0.28929,     0.29029,     0.29129,     0.29229,     0.29329,     0.29429,      0.2953,      0.2963,      0.2973,      0.2983,      0.2993,      0.3003,      0.3013,      0.3023,      0.3033,      0.3043,     0.30531,     0.30631,     0.30731,     0.30831,     0.30931,     0.31031,     0.31131,\n",
            "           0.31231,     0.31331,     0.31431,     0.31532,     0.31632,     0.31732,     0.31832,     0.31932,     0.32032,     0.32132,     0.32232,     0.32332,     0.32432,     0.32533,     0.32633,     0.32733,     0.32833,     0.32933,     0.33033,     0.33133,     0.33233,     0.33333,     0.33433,     0.33534,\n",
            "           0.33634,     0.33734,     0.33834,     0.33934,     0.34034,     0.34134,     0.34234,     0.34334,     0.34434,     0.34535,     0.34635,     0.34735,     0.34835,     0.34935,     0.35035,     0.35135,     0.35235,     0.35335,     0.35435,     0.35536,     0.35636,     0.35736,     0.35836,     0.35936,\n",
            "           0.36036,     0.36136,     0.36236,     0.36336,     0.36436,     0.36537,     0.36637,     0.36737,     0.36837,     0.36937,     0.37037,     0.37137,     0.37237,     0.37337,     0.37437,     0.37538,     0.37638,     0.37738,     0.37838,     0.37938,     0.38038,     0.38138,     0.38238,     0.38338,\n",
            "           0.38438,     0.38539,     0.38639,     0.38739,     0.38839,     0.38939,     0.39039,     0.39139,     0.39239,     0.39339,     0.39439,      0.3954,      0.3964,      0.3974,      0.3984,      0.3994,      0.4004,      0.4014,      0.4024,      0.4034,      0.4044,     0.40541,     0.40641,     0.40741,\n",
            "           0.40841,     0.40941,     0.41041,     0.41141,     0.41241,     0.41341,     0.41441,     0.41542,     0.41642,     0.41742,     0.41842,     0.41942,     0.42042,     0.42142,     0.42242,     0.42342,     0.42442,     0.42543,     0.42643,     0.42743,     0.42843,     0.42943,     0.43043,     0.43143,\n",
            "           0.43243,     0.43343,     0.43443,     0.43544,     0.43644,     0.43744,     0.43844,     0.43944,     0.44044,     0.44144,     0.44244,     0.44344,     0.44444,     0.44545,     0.44645,     0.44745,     0.44845,     0.44945,     0.45045,     0.45145,     0.45245,     0.45345,     0.45445,     0.45546,\n",
            "           0.45646,     0.45746,     0.45846,     0.45946,     0.46046,     0.46146,     0.46246,     0.46346,     0.46446,     0.46547,     0.46647,     0.46747,     0.46847,     0.46947,     0.47047,     0.47147,     0.47247,     0.47347,     0.47447,     0.47548,     0.47648,     0.47748,     0.47848,     0.47948,\n",
            "           0.48048,     0.48148,     0.48248,     0.48348,     0.48448,     0.48549,     0.48649,     0.48749,     0.48849,     0.48949,     0.49049,     0.49149,     0.49249,     0.49349,     0.49449,      0.4955,      0.4965,      0.4975,      0.4985,      0.4995,      0.5005,      0.5015,      0.5025,      0.5035,\n",
            "            0.5045,     0.50551,     0.50651,     0.50751,     0.50851,     0.50951,     0.51051,     0.51151,     0.51251,     0.51351,     0.51451,     0.51552,     0.51652,     0.51752,     0.51852,     0.51952,     0.52052,     0.52152,     0.52252,     0.52352,     0.52452,     0.52553,     0.52653,     0.52753,\n",
            "           0.52853,     0.52953,     0.53053,     0.53153,     0.53253,     0.53353,     0.53453,     0.53554,     0.53654,     0.53754,     0.53854,     0.53954,     0.54054,     0.54154,     0.54254,     0.54354,     0.54454,     0.54555,     0.54655,     0.54755,     0.54855,     0.54955,     0.55055,     0.55155,\n",
            "           0.55255,     0.55355,     0.55455,     0.55556,     0.55656,     0.55756,     0.55856,     0.55956,     0.56056,     0.56156,     0.56256,     0.56356,     0.56456,     0.56557,     0.56657,     0.56757,     0.56857,     0.56957,     0.57057,     0.57157,     0.57257,     0.57357,     0.57457,     0.57558,\n",
            "           0.57658,     0.57758,     0.57858,     0.57958,     0.58058,     0.58158,     0.58258,     0.58358,     0.58458,     0.58559,     0.58659,     0.58759,     0.58859,     0.58959,     0.59059,     0.59159,     0.59259,     0.59359,     0.59459,      0.5956,      0.5966,      0.5976,      0.5986,      0.5996,\n",
            "            0.6006,      0.6016,      0.6026,      0.6036,      0.6046,     0.60561,     0.60661,     0.60761,     0.60861,     0.60961,     0.61061,     0.61161,     0.61261,     0.61361,     0.61461,     0.61562,     0.61662,     0.61762,     0.61862,     0.61962,     0.62062,     0.62162,     0.62262,     0.62362,\n",
            "           0.62462,     0.62563,     0.62663,     0.62763,     0.62863,     0.62963,     0.63063,     0.63163,     0.63263,     0.63363,     0.63463,     0.63564,     0.63664,     0.63764,     0.63864,     0.63964,     0.64064,     0.64164,     0.64264,     0.64364,     0.64464,     0.64565,     0.64665,     0.64765,\n",
            "           0.64865,     0.64965,     0.65065,     0.65165,     0.65265,     0.65365,     0.65465,     0.65566,     0.65666,     0.65766,     0.65866,     0.65966,     0.66066,     0.66166,     0.66266,     0.66366,     0.66466,     0.66567,     0.66667,     0.66767,     0.66867,     0.66967,     0.67067,     0.67167,\n",
            "           0.67267,     0.67367,     0.67467,     0.67568,     0.67668,     0.67768,     0.67868,     0.67968,     0.68068,     0.68168,     0.68268,     0.68368,     0.68468,     0.68569,     0.68669,     0.68769,     0.68869,     0.68969,     0.69069,     0.69169,     0.69269,     0.69369,     0.69469,      0.6957,\n",
            "            0.6967,      0.6977,      0.6987,      0.6997,      0.7007,      0.7017,      0.7027,      0.7037,      0.7047,     0.70571,     0.70671,     0.70771,     0.70871,     0.70971,     0.71071,     0.71171,     0.71271,     0.71371,     0.71471,     0.71572,     0.71672,     0.71772,     0.71872,     0.71972,\n",
            "           0.72072,     0.72172,     0.72272,     0.72372,     0.72472,     0.72573,     0.72673,     0.72773,     0.72873,     0.72973,     0.73073,     0.73173,     0.73273,     0.73373,     0.73473,     0.73574,     0.73674,     0.73774,     0.73874,     0.73974,     0.74074,     0.74174,     0.74274,     0.74374,\n",
            "           0.74474,     0.74575,     0.74675,     0.74775,     0.74875,     0.74975,     0.75075,     0.75175,     0.75275,     0.75375,     0.75475,     0.75576,     0.75676,     0.75776,     0.75876,     0.75976,     0.76076,     0.76176,     0.76276,     0.76376,     0.76476,     0.76577,     0.76677,     0.76777,\n",
            "           0.76877,     0.76977,     0.77077,     0.77177,     0.77277,     0.77377,     0.77477,     0.77578,     0.77678,     0.77778,     0.77878,     0.77978,     0.78078,     0.78178,     0.78278,     0.78378,     0.78478,     0.78579,     0.78679,     0.78779,     0.78879,     0.78979,     0.79079,     0.79179,\n",
            "           0.79279,     0.79379,     0.79479,      0.7958,      0.7968,      0.7978,      0.7988,      0.7998,      0.8008,      0.8018,      0.8028,      0.8038,      0.8048,     0.80581,     0.80681,     0.80781,     0.80881,     0.80981,     0.81081,     0.81181,     0.81281,     0.81381,     0.81481,     0.81582,\n",
            "           0.81682,     0.81782,     0.81882,     0.81982,     0.82082,     0.82182,     0.82282,     0.82382,     0.82482,     0.82583,     0.82683,     0.82783,     0.82883,     0.82983,     0.83083,     0.83183,     0.83283,     0.83383,     0.83483,     0.83584,     0.83684,     0.83784,     0.83884,     0.83984,\n",
            "           0.84084,     0.84184,     0.84284,     0.84384,     0.84484,     0.84585,     0.84685,     0.84785,     0.84885,     0.84985,     0.85085,     0.85185,     0.85285,     0.85385,     0.85485,     0.85586,     0.85686,     0.85786,     0.85886,     0.85986,     0.86086,     0.86186,     0.86286,     0.86386,\n",
            "           0.86486,     0.86587,     0.86687,     0.86787,     0.86887,     0.86987,     0.87087,     0.87187,     0.87287,     0.87387,     0.87487,     0.87588,     0.87688,     0.87788,     0.87888,     0.87988,     0.88088,     0.88188,     0.88288,     0.88388,     0.88488,     0.88589,     0.88689,     0.88789,\n",
            "           0.88889,     0.88989,     0.89089,     0.89189,     0.89289,     0.89389,     0.89489,      0.8959,      0.8969,      0.8979,      0.8989,      0.8999,      0.9009,      0.9019,      0.9029,      0.9039,      0.9049,     0.90591,     0.90691,     0.90791,     0.90891,     0.90991,     0.91091,     0.91191,\n",
            "           0.91291,     0.91391,     0.91491,     0.91592,     0.91692,     0.91792,     0.91892,     0.91992,     0.92092,     0.92192,     0.92292,     0.92392,     0.92492,     0.92593,     0.92693,     0.92793,     0.92893,     0.92993,     0.93093,     0.93193,     0.93293,     0.93393,     0.93493,     0.93594,\n",
            "           0.93694,     0.93794,     0.93894,     0.93994,     0.94094,     0.94194,     0.94294,     0.94394,     0.94494,     0.94595,     0.94695,     0.94795,     0.94895,     0.94995,     0.95095,     0.95195,     0.95295,     0.95395,     0.95495,     0.95596,     0.95696,     0.95796,     0.95896,     0.95996,\n",
            "           0.96096,     0.96196,     0.96296,     0.96396,     0.96496,     0.96597,     0.96697,     0.96797,     0.96897,     0.96997,     0.97097,     0.97197,     0.97297,     0.97397,     0.97497,     0.97598,     0.97698,     0.97798,     0.97898,     0.97998,     0.98098,     0.98198,     0.98298,     0.98398,\n",
            "           0.98498,     0.98599,     0.98699,     0.98799,     0.98899,     0.98999,     0.99099,     0.99199,     0.99299,     0.99399,     0.99499,       0.996,       0.997,       0.998,       0.999,           1]), array([[    0.16708,     0.16708,     0.29251,     0.39183,     0.47877,     0.54915,     0.60557,     0.64816,      0.6908,     0.72392,     0.75338,     0.78439,     0.80407,      0.8214,     0.83867,     0.85156,     0.86289,     0.87564,      0.8848,     0.89185,     0.89864,     0.90362,     0.90709,\n",
            "            0.91143,     0.91436,     0.91645,     0.91961,     0.92256,     0.92523,      0.9264,     0.92828,      0.9296,     0.93082,     0.93226,     0.93418,     0.93518,     0.93622,     0.93712,     0.93818,     0.93907,     0.93988,     0.94111,     0.94239,     0.94289,     0.94307,     0.94327,\n",
            "            0.94417,     0.94503,     0.94594,     0.94661,     0.94681,     0.94706,     0.94773,     0.94811,     0.94877,      0.9494,     0.94998,     0.95046,     0.95113,     0.95164,      0.9523,     0.95267,     0.95334,     0.95363,     0.95405,     0.95475,     0.95496,     0.95526,     0.95579,\n",
            "            0.95622,     0.95645,     0.95668,     0.95688,     0.95714,     0.95752,     0.95811,      0.9582,     0.95865,     0.95911,     0.95965,     0.95987,     0.95998,     0.96014,     0.96034,     0.96112,       0.962,     0.96235,     0.96283,     0.96324,      0.9634,      0.9636,     0.96394,\n",
            "            0.96429,     0.96435,     0.96467,     0.96486,     0.96519,     0.96535,     0.96546,      0.9658,      0.9664,     0.96649,     0.96655,     0.96664,     0.96713,     0.96719,     0.96729,      0.9678,     0.96791,     0.96799,       0.968,     0.96824,     0.96832,     0.96839,     0.96858,\n",
            "             0.9689,       0.969,     0.96916,     0.96949,     0.96977,     0.96992,     0.97018,     0.97049,     0.97051,     0.97061,     0.97066,     0.97071,     0.97079,     0.97104,      0.9711,     0.97118,      0.9713,     0.97137,     0.97158,     0.97177,     0.97182,     0.97186,      0.9719,\n",
            "            0.97207,     0.97214,     0.97226,     0.97241,     0.97277,     0.97297,     0.97307,     0.97314,     0.97319,     0.97339,     0.97339,     0.97367,     0.97372,     0.97391,     0.97399,     0.97418,     0.97459,     0.97464,     0.97471,     0.97474,     0.97483,     0.97489,     0.97495,\n",
            "             0.9751,     0.97514,     0.97519,     0.97522,     0.97524,     0.97526,     0.97528,      0.9753,     0.97532,     0.97533,     0.97537,     0.97547,     0.97537,     0.97543,     0.97553,     0.97563,     0.97566,      0.9757,     0.97573,     0.97579,     0.97587,     0.97609,     0.97609,\n",
            "            0.97606,     0.97623,     0.97643,     0.97646,      0.9765,     0.97654,      0.9766,     0.97666,     0.97676,     0.97708,     0.97709,     0.97701,     0.97695,     0.97696,     0.97703,     0.97696,     0.97705,     0.97708,      0.9771,     0.97713,     0.97716,     0.97715,     0.97705,\n",
            "            0.97727,     0.97733,     0.97737,     0.97741,     0.97746,     0.97753,      0.9776,     0.97751,     0.97743,     0.97765,     0.97786,     0.97793,       0.978,     0.97806,      0.9781,     0.97812,     0.97814,     0.97816,     0.97818,      0.9782,     0.97822,      0.9783,     0.97852,\n",
            "            0.97858,      0.9786,      0.9785,     0.97858,     0.97864,     0.97866,     0.97869,     0.97872,     0.97875,     0.97873,     0.97868,     0.97863,     0.97859,     0.97856,     0.97853,      0.9785,      0.9785,     0.97855,     0.97859,     0.97872,     0.97869,     0.97863,     0.97857,\n",
            "            0.97851,     0.97843,     0.97834,     0.97806,     0.97812,     0.97818,     0.97816,     0.97814,     0.97811,     0.97809,     0.97807,     0.97804,      0.9782,     0.97833,     0.97837,     0.97841,     0.97846,     0.97856,     0.97853,     0.97846,     0.97836,     0.97828,     0.97826,\n",
            "            0.97823,      0.9782,     0.97818,     0.97833,     0.97827,     0.97823,     0.97819,     0.97816,     0.97816,     0.97818,     0.97821,     0.97823,     0.97825,     0.97828,     0.97822,     0.97816,     0.97818,     0.97826,     0.97819,     0.97815,     0.97821,     0.97826,     0.97834,\n",
            "            0.97855,     0.97863,     0.97869,     0.97874,     0.97878,     0.97879,     0.97873,     0.97868,     0.97873,     0.97877,     0.97867,      0.9787,     0.97873,     0.97876,     0.97879,     0.97873,     0.97867,      0.9787,     0.97878,      0.9789,     0.97887,     0.97884,     0.97881,\n",
            "            0.97879,     0.97872,     0.97878,     0.97881,     0.97883,     0.97886,     0.97888,     0.97891,     0.97888,     0.97886,     0.97883,      0.9788,     0.97877,     0.97878,     0.97889,     0.97885,     0.97879,     0.97869,     0.97859,     0.97854,     0.97849,     0.97847,     0.97845,\n",
            "            0.97844,     0.97843,     0.97841,      0.9784,     0.97839,     0.97837,     0.97836,     0.97834,     0.97832,     0.97827,     0.97821,     0.97824,     0.97831,     0.97859,      0.9787,     0.97867,     0.97864,     0.97861,     0.97859,      0.9786,     0.97862,     0.97863,     0.97864,\n",
            "            0.97865,     0.97866,     0.97867,     0.97868,      0.9787,     0.97871,     0.97872,     0.97874,     0.97877,      0.9788,     0.97883,     0.97886,     0.97872,     0.97874,     0.97877,     0.97879,     0.97882,     0.97884,     0.97876,      0.9788,     0.97873,      0.9786,     0.97842,\n",
            "            0.97842,     0.97837,     0.97832,     0.97826,     0.97814,     0.97815,     0.97817,     0.97818,      0.9782,     0.97821,     0.97823,     0.97824,     0.97825,     0.97827,     0.97834,     0.97827,     0.97823,     0.97819,     0.97815,     0.97813,     0.97815,     0.97818,      0.9782,\n",
            "            0.97823,     0.97825,     0.97835,      0.9783,     0.97823,      0.9782,     0.97817,     0.97814,     0.97812,     0.97824,     0.97817,     0.97811,     0.97814,     0.97816,     0.97819,     0.97822,     0.97825,      0.9783,     0.97834,     0.97842,     0.97846,     0.97843,     0.97813,\n",
            "            0.97798,     0.97784,     0.97775,     0.97774,     0.97766,     0.97763,      0.9776,     0.97757,     0.97754,     0.97751,     0.97751,     0.97736,      0.9774,     0.97745,      0.9775,     0.97748,     0.97741,     0.97719,     0.97711,     0.97686,      0.9766,     0.97653,     0.97642,\n",
            "            0.97638,     0.97645,     0.97656,     0.97658,     0.97651,     0.97651,     0.97655,      0.9766,     0.97671,     0.97665,      0.9765,     0.97657,     0.97649,     0.97626,     0.97618,     0.97605,     0.97607,     0.97612,     0.97617,     0.97574,     0.97573,      0.9758,     0.97572,\n",
            "            0.97567,     0.97562,     0.97558,     0.97556,     0.97554,     0.97552,      0.9755,     0.97548,     0.97545,     0.97546,     0.97553,     0.97552,     0.97538,     0.97526,     0.97519,     0.97508,     0.97493,     0.97464,     0.97463,     0.97453,     0.97445,     0.97438,     0.97431,\n",
            "            0.97375,      0.9738,     0.97389,     0.97396,     0.97373,     0.97343,     0.97334,     0.97326,     0.97312,     0.97304,     0.97296,     0.97282,      0.9728,     0.97238,     0.97222,     0.97217,     0.97212,     0.97207,       0.972,     0.97191,     0.97177,     0.97177,     0.97172,\n",
            "            0.97167,     0.97153,     0.97117,      0.9711,     0.97102,     0.97094,     0.97073,     0.97065,     0.97025,     0.97013,     0.97006,     0.97008,     0.96997,      0.9699,     0.96964,     0.96953,     0.96946,     0.96934,     0.96904,     0.96875,     0.96845,     0.96836,     0.96829,\n",
            "            0.96815,     0.96824,      0.9682,     0.96812,     0.96787,     0.96793,     0.96793,     0.96785,     0.96774,     0.96744,     0.96715,     0.96685,     0.96641,     0.96626,     0.96616,     0.96609,     0.96595,     0.96571,     0.96563,      0.9655,     0.96535,      0.9652,     0.96476,\n",
            "             0.9648,     0.96487,      0.9648,     0.96473,     0.96385,     0.96377,     0.96385,      0.9639,     0.96358,     0.96325,      0.9633,     0.96335,     0.96325,     0.96294,     0.96235,     0.96205,      0.9619,     0.96145,     0.96114,     0.96109,     0.96097,     0.96072,     0.96015,\n",
            "            0.95984,     0.95969,     0.95939,     0.95922,     0.95907,     0.95892,     0.95862,     0.95802,       0.958,     0.95738,     0.95752,     0.95744,     0.95731,     0.95723,     0.95699,     0.95653,     0.95638,     0.95623,     0.95613,     0.95594,     0.95535,      0.9552,     0.95428,\n",
            "            0.95421,     0.95352,     0.95337,     0.95305,     0.95268,     0.95253,     0.95237,     0.95222,     0.95175,     0.95097,     0.95052,     0.94998,     0.94967,       0.949,     0.94888,     0.94872,     0.94835,     0.94772,      0.9471,     0.94648,     0.94632,     0.94601,     0.94567,\n",
            "            0.94546,     0.94499,     0.94437,     0.94406,     0.94345,     0.94244,     0.94219,      0.9413,     0.94022,     0.93985,     0.93949,     0.93825,     0.93684,     0.93559,     0.93424,     0.93361,     0.93329,      0.9325,     0.93083,     0.93049,     0.93017,     0.92921,     0.92839,\n",
            "            0.92722,     0.92611,     0.92483,     0.92347,     0.92266,     0.92151,     0.92065,     0.91966,     0.91834,     0.91766,     0.91526,     0.91363,     0.91229,     0.91024,     0.90908,     0.90842,     0.90758,     0.90652,     0.90535,     0.90419,     0.90144,     0.89993,     0.89888,\n",
            "            0.89699,     0.89578,      0.8951,     0.89207,     0.89053,     0.88944,     0.88788,     0.88633,     0.88263,     0.88124,     0.87785,     0.87697,     0.87451,     0.87303,     0.87091,     0.86688,     0.86563,     0.86292,     0.86124,     0.85854,     0.85501,     0.85337,     0.85204,\n",
            "            0.84926,     0.84792,     0.84099,     0.83904,     0.83753,     0.83452,      0.8297,     0.82704,     0.82018,     0.81746,     0.81523,     0.81133,     0.80414,     0.80053,     0.79746,     0.79206,     0.78821,      0.7859,     0.78258,     0.77295,     0.76995,      0.7655,     0.76326,\n",
            "            0.75358,      0.7495,     0.74339,     0.73179,     0.72338,     0.71883,     0.71347,     0.70968,     0.69932,     0.69292,     0.68581,     0.67458,     0.66865,     0.66339,     0.65202,      0.6446,     0.63763,      0.6245,     0.61661,     0.60748,     0.59145,     0.58534,     0.57412,\n",
            "            0.56632,     0.55423,     0.54592,     0.53215,      0.5246,     0.50875,     0.50001,       0.493,     0.47369,     0.46875,     0.45148,     0.44302,     0.43481,     0.42057,     0.41174,     0.39381,     0.38899,     0.37697,     0.36743,     0.34945,     0.33713,     0.31988,     0.31962,\n",
            "            0.30449,     0.29354,     0.27687,     0.27629,     0.26521,     0.24904,     0.23208,     0.23179,     0.21792,     0.20639,     0.19258,     0.19227,     0.17995,     0.16851,     0.16044,     0.15214,     0.15048,     0.13922,     0.12906,     0.12133,      0.1141,     0.10412,      0.1034,\n",
            "           0.098885,    0.094459,    0.087405,    0.084328,    0.083663,    0.078539,    0.072493,    0.064835,    0.061698,    0.055996,    0.055637,    0.052004,    0.048949,    0.045328,    0.043723,    0.040076,    0.037568,    0.035949,    0.033272,    0.032905,    0.031885,    0.027738,    0.026051,\n",
            "           0.024016,    0.022998,    0.022776,    0.022553,    0.022212,     0.02159,    0.020406,     0.01936,    0.017655,    0.016822,    0.016005,    0.015429,    0.014595,    0.013486,    0.012674,    0.012449,    0.012224,    0.011474,    0.011287,    0.011099,    0.010373,   0.0098906,   0.0096652,\n",
            "          0.0094397,   0.0093384,   0.0092679,   0.0091974,   0.0091269,   0.0090564,   0.0089859,   0.0089154,   0.0088449,   0.0084698,   0.0081437,   0.0078614,   0.0076776,   0.0075647,   0.0074517,   0.0073387,   0.0072257,   0.0063962,   0.0059243,   0.0056979,   0.0054961,   0.0053546,   0.0052131,\n",
            "          0.0050715,   0.0048971,   0.0046705,   0.0044439,   0.0042172,   0.0039905,   0.0037829,   0.0035939,   0.0034049,   0.0032599,   0.0031464,   0.0030329,   0.0029194,   0.0028059,   0.0027416,    0.002698,   0.0026543,   0.0026106,    0.002567,   0.0025233,   0.0024796,    0.002436,   0.0023923,\n",
            "          0.0023486,   0.0023049,   0.0022612,   0.0022163,    0.002113,   0.0020097,   0.0019065,   0.0018032,   0.0016999,   0.0015578,   0.0013954,    0.001233,  0.00083502,           0,           0,           0,           0,           0,           0,           0,           0,           0,           0,\n",
            "                  0,           0,           0,           0,           0,           0,           0,           0,           0,           0,           0,           0,           0,           0,           0,           0,           0,           0,           0,           0,           0,           0,           0,\n",
            "                  0,           0,           0,           0,           0,           0,           0,           0,           0,           0,           0,           0,           0,           0,           0,           0,           0,           0,           0,           0,           0,           0,           0,\n",
            "                  0,           0,           0,           0,           0,           0,           0,           0,           0,           0,           0,           0,           0,           0,           0,           0,           0,           0,           0,           0,           0,           0,           0,\n",
            "                  0,           0,           0,           0,           0,           0,           0,           0,           0,           0,           0]]), 'Confidence', 'F1'], [array([          0,    0.001001,    0.002002,    0.003003,    0.004004,    0.005005,    0.006006,    0.007007,    0.008008,    0.009009,     0.01001,    0.011011,    0.012012,    0.013013,    0.014014,    0.015015,    0.016016,    0.017017,    0.018018,    0.019019,     0.02002,    0.021021,    0.022022,    0.023023,\n",
            "          0.024024,    0.025025,    0.026026,    0.027027,    0.028028,    0.029029,     0.03003,    0.031031,    0.032032,    0.033033,    0.034034,    0.035035,    0.036036,    0.037037,    0.038038,    0.039039,     0.04004,    0.041041,    0.042042,    0.043043,    0.044044,    0.045045,    0.046046,    0.047047,\n",
            "          0.048048,    0.049049,     0.05005,    0.051051,    0.052052,    0.053053,    0.054054,    0.055055,    0.056056,    0.057057,    0.058058,    0.059059,     0.06006,    0.061061,    0.062062,    0.063063,    0.064064,    0.065065,    0.066066,    0.067067,    0.068068,    0.069069,     0.07007,    0.071071,\n",
            "          0.072072,    0.073073,    0.074074,    0.075075,    0.076076,    0.077077,    0.078078,    0.079079,     0.08008,    0.081081,    0.082082,    0.083083,    0.084084,    0.085085,    0.086086,    0.087087,    0.088088,    0.089089,     0.09009,    0.091091,    0.092092,    0.093093,    0.094094,    0.095095,\n",
            "          0.096096,    0.097097,    0.098098,    0.099099,      0.1001,      0.1011,      0.1021,      0.1031,      0.1041,     0.10511,     0.10611,     0.10711,     0.10811,     0.10911,     0.11011,     0.11111,     0.11211,     0.11311,     0.11411,     0.11512,     0.11612,     0.11712,     0.11812,     0.11912,\n",
            "           0.12012,     0.12112,     0.12212,     0.12312,     0.12412,     0.12513,     0.12613,     0.12713,     0.12813,     0.12913,     0.13013,     0.13113,     0.13213,     0.13313,     0.13413,     0.13514,     0.13614,     0.13714,     0.13814,     0.13914,     0.14014,     0.14114,     0.14214,     0.14314,\n",
            "           0.14414,     0.14515,     0.14615,     0.14715,     0.14815,     0.14915,     0.15015,     0.15115,     0.15215,     0.15315,     0.15415,     0.15516,     0.15616,     0.15716,     0.15816,     0.15916,     0.16016,     0.16116,     0.16216,     0.16316,     0.16416,     0.16517,     0.16617,     0.16717,\n",
            "           0.16817,     0.16917,     0.17017,     0.17117,     0.17217,     0.17317,     0.17417,     0.17518,     0.17618,     0.17718,     0.17818,     0.17918,     0.18018,     0.18118,     0.18218,     0.18318,     0.18418,     0.18519,     0.18619,     0.18719,     0.18819,     0.18919,     0.19019,     0.19119,\n",
            "           0.19219,     0.19319,     0.19419,      0.1952,      0.1962,      0.1972,      0.1982,      0.1992,      0.2002,      0.2012,      0.2022,      0.2032,      0.2042,     0.20521,     0.20621,     0.20721,     0.20821,     0.20921,     0.21021,     0.21121,     0.21221,     0.21321,     0.21421,     0.21522,\n",
            "           0.21622,     0.21722,     0.21822,     0.21922,     0.22022,     0.22122,     0.22222,     0.22322,     0.22422,     0.22523,     0.22623,     0.22723,     0.22823,     0.22923,     0.23023,     0.23123,     0.23223,     0.23323,     0.23423,     0.23524,     0.23624,     0.23724,     0.23824,     0.23924,\n",
            "           0.24024,     0.24124,     0.24224,     0.24324,     0.24424,     0.24525,     0.24625,     0.24725,     0.24825,     0.24925,     0.25025,     0.25125,     0.25225,     0.25325,     0.25425,     0.25526,     0.25626,     0.25726,     0.25826,     0.25926,     0.26026,     0.26126,     0.26226,     0.26326,\n",
            "           0.26426,     0.26527,     0.26627,     0.26727,     0.26827,     0.26927,     0.27027,     0.27127,     0.27227,     0.27327,     0.27427,     0.27528,     0.27628,     0.27728,     0.27828,     0.27928,     0.28028,     0.28128,     0.28228,     0.28328,     0.28428,     0.28529,     0.28629,     0.28729,\n",
            "           0.28829,     0.28929,     0.29029,     0.29129,     0.29229,     0.29329,     0.29429,      0.2953,      0.2963,      0.2973,      0.2983,      0.2993,      0.3003,      0.3013,      0.3023,      0.3033,      0.3043,     0.30531,     0.30631,     0.30731,     0.30831,     0.30931,     0.31031,     0.31131,\n",
            "           0.31231,     0.31331,     0.31431,     0.31532,     0.31632,     0.31732,     0.31832,     0.31932,     0.32032,     0.32132,     0.32232,     0.32332,     0.32432,     0.32533,     0.32633,     0.32733,     0.32833,     0.32933,     0.33033,     0.33133,     0.33233,     0.33333,     0.33433,     0.33534,\n",
            "           0.33634,     0.33734,     0.33834,     0.33934,     0.34034,     0.34134,     0.34234,     0.34334,     0.34434,     0.34535,     0.34635,     0.34735,     0.34835,     0.34935,     0.35035,     0.35135,     0.35235,     0.35335,     0.35435,     0.35536,     0.35636,     0.35736,     0.35836,     0.35936,\n",
            "           0.36036,     0.36136,     0.36236,     0.36336,     0.36436,     0.36537,     0.36637,     0.36737,     0.36837,     0.36937,     0.37037,     0.37137,     0.37237,     0.37337,     0.37437,     0.37538,     0.37638,     0.37738,     0.37838,     0.37938,     0.38038,     0.38138,     0.38238,     0.38338,\n",
            "           0.38438,     0.38539,     0.38639,     0.38739,     0.38839,     0.38939,     0.39039,     0.39139,     0.39239,     0.39339,     0.39439,      0.3954,      0.3964,      0.3974,      0.3984,      0.3994,      0.4004,      0.4014,      0.4024,      0.4034,      0.4044,     0.40541,     0.40641,     0.40741,\n",
            "           0.40841,     0.40941,     0.41041,     0.41141,     0.41241,     0.41341,     0.41441,     0.41542,     0.41642,     0.41742,     0.41842,     0.41942,     0.42042,     0.42142,     0.42242,     0.42342,     0.42442,     0.42543,     0.42643,     0.42743,     0.42843,     0.42943,     0.43043,     0.43143,\n",
            "           0.43243,     0.43343,     0.43443,     0.43544,     0.43644,     0.43744,     0.43844,     0.43944,     0.44044,     0.44144,     0.44244,     0.44344,     0.44444,     0.44545,     0.44645,     0.44745,     0.44845,     0.44945,     0.45045,     0.45145,     0.45245,     0.45345,     0.45445,     0.45546,\n",
            "           0.45646,     0.45746,     0.45846,     0.45946,     0.46046,     0.46146,     0.46246,     0.46346,     0.46446,     0.46547,     0.46647,     0.46747,     0.46847,     0.46947,     0.47047,     0.47147,     0.47247,     0.47347,     0.47447,     0.47548,     0.47648,     0.47748,     0.47848,     0.47948,\n",
            "           0.48048,     0.48148,     0.48248,     0.48348,     0.48448,     0.48549,     0.48649,     0.48749,     0.48849,     0.48949,     0.49049,     0.49149,     0.49249,     0.49349,     0.49449,      0.4955,      0.4965,      0.4975,      0.4985,      0.4995,      0.5005,      0.5015,      0.5025,      0.5035,\n",
            "            0.5045,     0.50551,     0.50651,     0.50751,     0.50851,     0.50951,     0.51051,     0.51151,     0.51251,     0.51351,     0.51451,     0.51552,     0.51652,     0.51752,     0.51852,     0.51952,     0.52052,     0.52152,     0.52252,     0.52352,     0.52452,     0.52553,     0.52653,     0.52753,\n",
            "           0.52853,     0.52953,     0.53053,     0.53153,     0.53253,     0.53353,     0.53453,     0.53554,     0.53654,     0.53754,     0.53854,     0.53954,     0.54054,     0.54154,     0.54254,     0.54354,     0.54454,     0.54555,     0.54655,     0.54755,     0.54855,     0.54955,     0.55055,     0.55155,\n",
            "           0.55255,     0.55355,     0.55455,     0.55556,     0.55656,     0.55756,     0.55856,     0.55956,     0.56056,     0.56156,     0.56256,     0.56356,     0.56456,     0.56557,     0.56657,     0.56757,     0.56857,     0.56957,     0.57057,     0.57157,     0.57257,     0.57357,     0.57457,     0.57558,\n",
            "           0.57658,     0.57758,     0.57858,     0.57958,     0.58058,     0.58158,     0.58258,     0.58358,     0.58458,     0.58559,     0.58659,     0.58759,     0.58859,     0.58959,     0.59059,     0.59159,     0.59259,     0.59359,     0.59459,      0.5956,      0.5966,      0.5976,      0.5986,      0.5996,\n",
            "            0.6006,      0.6016,      0.6026,      0.6036,      0.6046,     0.60561,     0.60661,     0.60761,     0.60861,     0.60961,     0.61061,     0.61161,     0.61261,     0.61361,     0.61461,     0.61562,     0.61662,     0.61762,     0.61862,     0.61962,     0.62062,     0.62162,     0.62262,     0.62362,\n",
            "           0.62462,     0.62563,     0.62663,     0.62763,     0.62863,     0.62963,     0.63063,     0.63163,     0.63263,     0.63363,     0.63463,     0.63564,     0.63664,     0.63764,     0.63864,     0.63964,     0.64064,     0.64164,     0.64264,     0.64364,     0.64464,     0.64565,     0.64665,     0.64765,\n",
            "           0.64865,     0.64965,     0.65065,     0.65165,     0.65265,     0.65365,     0.65465,     0.65566,     0.65666,     0.65766,     0.65866,     0.65966,     0.66066,     0.66166,     0.66266,     0.66366,     0.66466,     0.66567,     0.66667,     0.66767,     0.66867,     0.66967,     0.67067,     0.67167,\n",
            "           0.67267,     0.67367,     0.67467,     0.67568,     0.67668,     0.67768,     0.67868,     0.67968,     0.68068,     0.68168,     0.68268,     0.68368,     0.68468,     0.68569,     0.68669,     0.68769,     0.68869,     0.68969,     0.69069,     0.69169,     0.69269,     0.69369,     0.69469,      0.6957,\n",
            "            0.6967,      0.6977,      0.6987,      0.6997,      0.7007,      0.7017,      0.7027,      0.7037,      0.7047,     0.70571,     0.70671,     0.70771,     0.70871,     0.70971,     0.71071,     0.71171,     0.71271,     0.71371,     0.71471,     0.71572,     0.71672,     0.71772,     0.71872,     0.71972,\n",
            "           0.72072,     0.72172,     0.72272,     0.72372,     0.72472,     0.72573,     0.72673,     0.72773,     0.72873,     0.72973,     0.73073,     0.73173,     0.73273,     0.73373,     0.73473,     0.73574,     0.73674,     0.73774,     0.73874,     0.73974,     0.74074,     0.74174,     0.74274,     0.74374,\n",
            "           0.74474,     0.74575,     0.74675,     0.74775,     0.74875,     0.74975,     0.75075,     0.75175,     0.75275,     0.75375,     0.75475,     0.75576,     0.75676,     0.75776,     0.75876,     0.75976,     0.76076,     0.76176,     0.76276,     0.76376,     0.76476,     0.76577,     0.76677,     0.76777,\n",
            "           0.76877,     0.76977,     0.77077,     0.77177,     0.77277,     0.77377,     0.77477,     0.77578,     0.77678,     0.77778,     0.77878,     0.77978,     0.78078,     0.78178,     0.78278,     0.78378,     0.78478,     0.78579,     0.78679,     0.78779,     0.78879,     0.78979,     0.79079,     0.79179,\n",
            "           0.79279,     0.79379,     0.79479,      0.7958,      0.7968,      0.7978,      0.7988,      0.7998,      0.8008,      0.8018,      0.8028,      0.8038,      0.8048,     0.80581,     0.80681,     0.80781,     0.80881,     0.80981,     0.81081,     0.81181,     0.81281,     0.81381,     0.81481,     0.81582,\n",
            "           0.81682,     0.81782,     0.81882,     0.81982,     0.82082,     0.82182,     0.82282,     0.82382,     0.82482,     0.82583,     0.82683,     0.82783,     0.82883,     0.82983,     0.83083,     0.83183,     0.83283,     0.83383,     0.83483,     0.83584,     0.83684,     0.83784,     0.83884,     0.83984,\n",
            "           0.84084,     0.84184,     0.84284,     0.84384,     0.84484,     0.84585,     0.84685,     0.84785,     0.84885,     0.84985,     0.85085,     0.85185,     0.85285,     0.85385,     0.85485,     0.85586,     0.85686,     0.85786,     0.85886,     0.85986,     0.86086,     0.86186,     0.86286,     0.86386,\n",
            "           0.86486,     0.86587,     0.86687,     0.86787,     0.86887,     0.86987,     0.87087,     0.87187,     0.87287,     0.87387,     0.87487,     0.87588,     0.87688,     0.87788,     0.87888,     0.87988,     0.88088,     0.88188,     0.88288,     0.88388,     0.88488,     0.88589,     0.88689,     0.88789,\n",
            "           0.88889,     0.88989,     0.89089,     0.89189,     0.89289,     0.89389,     0.89489,      0.8959,      0.8969,      0.8979,      0.8989,      0.8999,      0.9009,      0.9019,      0.9029,      0.9039,      0.9049,     0.90591,     0.90691,     0.90791,     0.90891,     0.90991,     0.91091,     0.91191,\n",
            "           0.91291,     0.91391,     0.91491,     0.91592,     0.91692,     0.91792,     0.91892,     0.91992,     0.92092,     0.92192,     0.92292,     0.92392,     0.92492,     0.92593,     0.92693,     0.92793,     0.92893,     0.92993,     0.93093,     0.93193,     0.93293,     0.93393,     0.93493,     0.93594,\n",
            "           0.93694,     0.93794,     0.93894,     0.93994,     0.94094,     0.94194,     0.94294,     0.94394,     0.94494,     0.94595,     0.94695,     0.94795,     0.94895,     0.94995,     0.95095,     0.95195,     0.95295,     0.95395,     0.95495,     0.95596,     0.95696,     0.95796,     0.95896,     0.95996,\n",
            "           0.96096,     0.96196,     0.96296,     0.96396,     0.96496,     0.96597,     0.96697,     0.96797,     0.96897,     0.96997,     0.97097,     0.97197,     0.97297,     0.97397,     0.97497,     0.97598,     0.97698,     0.97798,     0.97898,     0.97998,     0.98098,     0.98198,     0.98298,     0.98398,\n",
            "           0.98498,     0.98599,     0.98699,     0.98799,     0.98899,     0.98999,     0.99099,     0.99199,     0.99299,     0.99399,     0.99499,       0.996,       0.997,       0.998,       0.999,           1]), array([[   0.091165,    0.091165,     0.17134,     0.24372,     0.31484,     0.37867,     0.43449,     0.47972,     0.52797,     0.56766,     0.60484,     0.64584,     0.67297,     0.69761,     0.72289,     0.74226,     0.75965,      0.7798,     0.79464,     0.80608,     0.81723,     0.82551,     0.83151,\n",
            "            0.83883,     0.84381,     0.84738,      0.8528,     0.85788,     0.86252,     0.86456,     0.86784,     0.87015,     0.87229,     0.87482,      0.8782,     0.87997,     0.88202,     0.88363,     0.88552,      0.8871,     0.88855,     0.89076,     0.89305,      0.8942,     0.89472,     0.89509,\n",
            "            0.89669,     0.89825,      0.8999,     0.90134,     0.90193,     0.90243,     0.90383,     0.90452,     0.90572,     0.90686,     0.90792,     0.90881,     0.91003,     0.91097,     0.91218,     0.91285,      0.9141,     0.91462,      0.9154,     0.91668,     0.91707,     0.91763,      0.9186,\n",
            "             0.9194,     0.91982,     0.92025,     0.92061,      0.9211,      0.9218,     0.92289,     0.92307,      0.9239,     0.92475,     0.92577,     0.92617,     0.92638,     0.92668,     0.92704,     0.92851,     0.93014,     0.93081,     0.93169,     0.93271,       0.933,     0.93339,     0.93403,\n",
            "            0.93468,      0.9348,      0.9354,     0.93576,     0.93637,     0.93667,     0.93689,     0.93752,     0.93866,     0.93883,     0.93894,      0.9391,     0.94003,     0.94014,     0.94034,     0.94129,     0.94175,     0.94192,     0.94218,     0.94263,     0.94279,     0.94292,     0.94327,\n",
            "            0.94388,     0.94407,     0.94437,     0.94499,     0.94554,     0.94582,     0.94632,      0.9469,     0.94718,     0.94738,     0.94748,     0.94758,     0.94773,      0.9482,     0.94831,     0.94847,      0.9487,     0.94884,     0.94949,     0.94985,     0.94995,     0.95002,     0.95009,\n",
            "            0.95042,     0.95055,     0.95078,     0.95108,     0.95177,     0.95214,     0.95233,     0.95247,     0.95257,     0.95295,     0.95321,     0.95374,     0.95384,     0.95421,     0.95437,     0.95473,     0.95551,     0.95561,     0.95574,     0.95606,     0.95623,     0.95634,     0.95645,\n",
            "            0.95675,     0.95683,     0.95691,     0.95698,     0.95702,     0.95706,     0.95709,     0.95713,     0.95716,      0.9572,     0.95727,     0.95749,     0.95753,     0.95764,     0.95784,     0.95803,     0.95809,     0.95816,     0.95822,     0.95834,     0.95849,     0.95891,     0.95926,\n",
            "            0.95937,      0.9597,     0.96008,     0.96015,     0.96022,      0.9603,     0.96042,     0.96053,     0.96073,     0.96134,     0.96156,     0.96156,     0.96155,     0.96163,     0.96181,      0.9619,     0.96207,     0.96212,     0.96217,     0.96222,     0.96228,     0.96231,     0.96231,\n",
            "            0.96276,     0.96288,     0.96296,     0.96304,     0.96314,     0.96327,     0.96359,     0.96359,     0.96358,     0.96401,     0.96444,     0.96457,      0.9647,     0.96482,      0.9649,     0.96494,     0.96498,     0.96502,     0.96506,      0.9651,     0.96514,     0.96529,     0.96571,\n",
            "            0.96584,     0.96593,     0.96592,     0.96608,      0.9662,     0.96626,     0.96631,     0.96637,     0.96642,     0.96644,     0.96644,     0.96643,     0.96643,     0.96643,     0.96643,     0.96642,     0.96646,     0.96655,     0.96665,      0.9669,     0.96694,     0.96694,     0.96694,\n",
            "            0.96693,     0.96693,     0.96692,     0.96692,     0.96704,     0.96716,     0.96716,     0.96716,     0.96716,     0.96716,     0.96716,     0.96716,     0.96746,     0.96771,      0.9678,     0.96788,     0.96798,     0.96816,      0.9682,      0.9682,     0.96819,     0.96819,     0.96819,\n",
            "            0.96819,     0.96818,     0.96818,     0.96853,      0.9687,      0.9687,     0.96869,     0.96869,     0.96872,     0.96877,     0.96881,     0.96886,     0.96891,     0.96895,     0.96895,     0.96895,     0.96903,     0.96918,     0.96921,     0.96924,     0.96935,     0.96946,     0.96961,\n",
            "            0.97003,     0.97018,      0.9703,     0.97039,     0.97047,     0.97052,     0.97052,     0.97052,     0.97064,     0.97078,     0.97079,     0.97085,     0.97092,     0.97098,     0.97104,     0.97103,     0.97103,     0.97113,     0.97129,     0.97156,     0.97156,     0.97156,     0.97156,\n",
            "            0.97155,     0.97155,     0.97182,     0.97187,     0.97192,     0.97197,     0.97202,     0.97208,     0.97208,     0.97207,     0.97207,     0.97207,     0.97207,     0.97233,     0.97257,     0.97259,     0.97259,     0.97258,     0.97258,     0.97258,     0.97257,     0.97257,     0.97257,\n",
            "            0.97257,     0.97257,     0.97257,     0.97257,     0.97257,     0.97257,     0.97257,     0.97257,     0.97256,     0.97256,     0.97256,     0.97265,     0.97278,      0.9736,     0.97389,     0.97388,     0.97388,     0.97388,     0.97389,     0.97391,     0.97393,     0.97396,     0.97398,\n",
            "              0.974,     0.97402,     0.97405,     0.97407,     0.97409,     0.97412,     0.97414,     0.97418,     0.97424,      0.9743,     0.97436,     0.97441,     0.97441,     0.97446,     0.97451,     0.97456,     0.97461,     0.97466,     0.97467,     0.97494,     0.97493,     0.97493,     0.97492,\n",
            "            0.97518,     0.97518,     0.97517,     0.97517,     0.97518,      0.9752,     0.97523,     0.97526,     0.97529,     0.97532,     0.97535,     0.97537,      0.9754,     0.97543,      0.9757,      0.9757,      0.9757,     0.97569,     0.97569,      0.9757,     0.97575,      0.9758,     0.97585,\n",
            "             0.9759,     0.97594,     0.97614,     0.97623,     0.97622,     0.97622,     0.97622,     0.97622,     0.97622,     0.97649,     0.97648,     0.97649,     0.97654,      0.9766,     0.97665,     0.97671,     0.97677,     0.97687,     0.97696,     0.97711,     0.97729,     0.97755,     0.97754,\n",
            "            0.97753,     0.97753,     0.97772,     0.97779,     0.97778,     0.97778,     0.97778,     0.97778,     0.97778,     0.97778,     0.97804,     0.97804,     0.97813,     0.97822,     0.97832,     0.97858,     0.97857,     0.97856,     0.97856,     0.97855,     0.97854,     0.97854,     0.97853,\n",
            "             0.9786,     0.97874,     0.97895,     0.97907,     0.97907,     0.97913,     0.97922,     0.97931,     0.97954,     0.97961,      0.9796,     0.97982,     0.97987,     0.97986,     0.97986,     0.97986,     0.97994,     0.98003,     0.98013,     0.98011,     0.98038,     0.98052,     0.98065,\n",
            "            0.98065,     0.98065,     0.98065,     0.98064,     0.98064,     0.98064,     0.98064,     0.98064,     0.98064,     0.98068,     0.98082,     0.98091,     0.98091,      0.9809,      0.9809,      0.9809,     0.98089,     0.98102,     0.98115,     0.98115,     0.98114,     0.98114,     0.98114,\n",
            "            0.98112,     0.98131,     0.98149,     0.98163,     0.98166,     0.98192,     0.98192,     0.98192,     0.98218,     0.98218,     0.98218,     0.98217,     0.98244,     0.98243,      0.9827,      0.9827,      0.9827,     0.98269,     0.98269,     0.98269,     0.98268,     0.98296,     0.98296,\n",
            "            0.98296,     0.98302,     0.98321,     0.98321,     0.98348,     0.98348,     0.98347,     0.98347,     0.98374,     0.98373,     0.98373,     0.98401,       0.984,       0.984,     0.98399,     0.98399,     0.98399,     0.98398,     0.98397,     0.98396,     0.98396,     0.98395,     0.98395,\n",
            "            0.98395,     0.98418,     0.98423,     0.98422,     0.98432,     0.98443,      0.9845,     0.98449,     0.98449,     0.98448,     0.98447,     0.98446,     0.98445,     0.98444,     0.98444,     0.98444,     0.98471,     0.98471,      0.9847,      0.9847,      0.9847,     0.98469,     0.98468,\n",
            "             0.9848,     0.98495,     0.98496,     0.98496,     0.98493,     0.98507,     0.98524,     0.98566,     0.98577,     0.98582,     0.98592,     0.98601,     0.98633,      0.9866,     0.98659,     0.98658,     0.98657,     0.98656,     0.98684,     0.98708,     0.98712,     0.98711,      0.9871,\n",
            "            0.98722,     0.98737,     0.98737,     0.98765,     0.98765,     0.98764,     0.98763,     0.98762,     0.98791,     0.98795,     0.98825,     0.98847,     0.98847,     0.98847,     0.98846,     0.98845,     0.98845,     0.98873,     0.98873,     0.98929,      0.9893,     0.98929,     0.98956,\n",
            "            0.98956,     0.98955,     0.98955,     0.98954,     0.98953,     0.98953,     0.98953,     0.98952,     0.98981,     0.99008,     0.99008,     0.99007,     0.99006,     0.99045,     0.99064,     0.99063,     0.99063,     0.99061,      0.9909,     0.99089,     0.99089,     0.99088,     0.99117,\n",
            "            0.99117,     0.99116,     0.99115,     0.99115,     0.99113,     0.99112,     0.99149,       0.992,     0.99199,     0.99198,     0.99228,     0.99226,     0.99224,     0.99222,     0.99251,      0.9925,     0.99249,     0.99265,     0.99276,     0.99307,     0.99307,     0.99305,     0.99304,\n",
            "            0.99303,     0.99301,     0.99299,     0.99297,     0.99296,     0.99326,     0.99325,     0.99324,     0.99354,     0.99385,     0.99446,     0.99445,     0.99475,     0.99473,     0.99472,     0.99471,     0.99471,     0.99469,     0.99468,     0.99467,     0.99464,     0.99462,     0.99461,\n",
            "            0.99459,     0.99491,     0.99491,     0.99555,     0.99554,     0.99553,     0.99552,      0.9955,     0.99547,     0.99546,     0.99542,     0.99542,     0.99539,     0.99538,     0.99536,     0.99568,     0.99567,     0.99564,     0.99563,      0.9956,     0.99557,     0.99556,     0.99555,\n",
            "            0.99552,     0.99588,     0.99582,      0.9958,     0.99579,     0.99577,     0.99572,      0.9957,     0.99603,     0.99601,     0.99599,     0.99596,      0.9959,     0.99587,     0.99584,     0.99621,     0.99618,     0.99616,     0.99614,     0.99606,     0.99603,       0.996,     0.99637,\n",
            "            0.99635,     0.99677,     0.99673,     0.99665,     0.99659,     0.99655,     0.99651,     0.99699,     0.99692,     0.99687,     0.99735,     0.99728,     0.99725,     0.99721,     0.99714,     0.99709,     0.99705,     0.99696,     0.99752,     0.99746,     0.99737,     0.99733,     0.99794,\n",
            "             0.9979,     0.99783,     0.99779,     0.99771,     0.99767,     0.99757,     0.99751,     0.99746,     0.99733,     0.99729,      0.9981,     0.99805,     0.99801,     0.99792,     0.99786,     0.99774,     0.99771,     0.99762,     0.99754,     0.99739,     0.99727,     0.99854,     0.99854,\n",
            "                  1,           1,           1,           1,           1,           1,           1,           1,           1,           1,           1,           1,           1,           1,           1,           1,           1,           1,           1,           1,           1,           1,           1,\n",
            "                  1,           1,           1,           1,           1,           1,           1,           1,           1,           1,           1,           1,           1,           1,           1,           1,           1,           1,           1,           1,           1,           1,           1,\n",
            "                  1,           1,           1,           1,           1,           1,           1,           1,           1,           1,           1,           1,           1,           1,           1,           1,           1,           1,           1,           1,           1,           1,           1,\n",
            "                  1,           1,           1,           1,           1,           1,           1,           1,           1,           1,           1,           1,           1,           1,           1,           1,           1,           1,           1,           1,           1,           1,           1,\n",
            "                  1,           1,           1,           1,           1,           1,           1,           1,           1,           1,           1,           1,           1,           1,           1,           1,           1,           1,           1,           1,           1,           1,           1,\n",
            "                  1,           1,           1,           1,           1,           1,           1,           1,           1,           1,           1,           1,           1,           1,           1,           1,           1,           1,           1,           1,           1,           1,           1,\n",
            "                  1,           1,           1,           1,           1,           1,           1,           1,           1,           1,           1,           1,           1,           1,           1,           1,           1,           1,           1,           1,           1,           1,           1,\n",
            "                  1,           1,           1,           1,           1,           1,           1,           1,           1,           1,           1,           1,           1,           1,           1,           1,           1,           1,           1,           1,           1,           1,           1,\n",
            "                  1,           1,           1,           1,           1,           1,           1,           1,           1,           1,           1,           1,           1,           1,           1,           1,           1,           1,           1,           1,           1,           1,           1,\n",
            "                  1,           1,           1,           1,           1,           1,           1,           1,           1,           1,           1]]), 'Confidence', 'Precision'], [array([          0,    0.001001,    0.002002,    0.003003,    0.004004,    0.005005,    0.006006,    0.007007,    0.008008,    0.009009,     0.01001,    0.011011,    0.012012,    0.013013,    0.014014,    0.015015,    0.016016,    0.017017,    0.018018,    0.019019,     0.02002,    0.021021,    0.022022,    0.023023,\n",
            "          0.024024,    0.025025,    0.026026,    0.027027,    0.028028,    0.029029,     0.03003,    0.031031,    0.032032,    0.033033,    0.034034,    0.035035,    0.036036,    0.037037,    0.038038,    0.039039,     0.04004,    0.041041,    0.042042,    0.043043,    0.044044,    0.045045,    0.046046,    0.047047,\n",
            "          0.048048,    0.049049,     0.05005,    0.051051,    0.052052,    0.053053,    0.054054,    0.055055,    0.056056,    0.057057,    0.058058,    0.059059,     0.06006,    0.061061,    0.062062,    0.063063,    0.064064,    0.065065,    0.066066,    0.067067,    0.068068,    0.069069,     0.07007,    0.071071,\n",
            "          0.072072,    0.073073,    0.074074,    0.075075,    0.076076,    0.077077,    0.078078,    0.079079,     0.08008,    0.081081,    0.082082,    0.083083,    0.084084,    0.085085,    0.086086,    0.087087,    0.088088,    0.089089,     0.09009,    0.091091,    0.092092,    0.093093,    0.094094,    0.095095,\n",
            "          0.096096,    0.097097,    0.098098,    0.099099,      0.1001,      0.1011,      0.1021,      0.1031,      0.1041,     0.10511,     0.10611,     0.10711,     0.10811,     0.10911,     0.11011,     0.11111,     0.11211,     0.11311,     0.11411,     0.11512,     0.11612,     0.11712,     0.11812,     0.11912,\n",
            "           0.12012,     0.12112,     0.12212,     0.12312,     0.12412,     0.12513,     0.12613,     0.12713,     0.12813,     0.12913,     0.13013,     0.13113,     0.13213,     0.13313,     0.13413,     0.13514,     0.13614,     0.13714,     0.13814,     0.13914,     0.14014,     0.14114,     0.14214,     0.14314,\n",
            "           0.14414,     0.14515,     0.14615,     0.14715,     0.14815,     0.14915,     0.15015,     0.15115,     0.15215,     0.15315,     0.15415,     0.15516,     0.15616,     0.15716,     0.15816,     0.15916,     0.16016,     0.16116,     0.16216,     0.16316,     0.16416,     0.16517,     0.16617,     0.16717,\n",
            "           0.16817,     0.16917,     0.17017,     0.17117,     0.17217,     0.17317,     0.17417,     0.17518,     0.17618,     0.17718,     0.17818,     0.17918,     0.18018,     0.18118,     0.18218,     0.18318,     0.18418,     0.18519,     0.18619,     0.18719,     0.18819,     0.18919,     0.19019,     0.19119,\n",
            "           0.19219,     0.19319,     0.19419,      0.1952,      0.1962,      0.1972,      0.1982,      0.1992,      0.2002,      0.2012,      0.2022,      0.2032,      0.2042,     0.20521,     0.20621,     0.20721,     0.20821,     0.20921,     0.21021,     0.21121,     0.21221,     0.21321,     0.21421,     0.21522,\n",
            "           0.21622,     0.21722,     0.21822,     0.21922,     0.22022,     0.22122,     0.22222,     0.22322,     0.22422,     0.22523,     0.22623,     0.22723,     0.22823,     0.22923,     0.23023,     0.23123,     0.23223,     0.23323,     0.23423,     0.23524,     0.23624,     0.23724,     0.23824,     0.23924,\n",
            "           0.24024,     0.24124,     0.24224,     0.24324,     0.24424,     0.24525,     0.24625,     0.24725,     0.24825,     0.24925,     0.25025,     0.25125,     0.25225,     0.25325,     0.25425,     0.25526,     0.25626,     0.25726,     0.25826,     0.25926,     0.26026,     0.26126,     0.26226,     0.26326,\n",
            "           0.26426,     0.26527,     0.26627,     0.26727,     0.26827,     0.26927,     0.27027,     0.27127,     0.27227,     0.27327,     0.27427,     0.27528,     0.27628,     0.27728,     0.27828,     0.27928,     0.28028,     0.28128,     0.28228,     0.28328,     0.28428,     0.28529,     0.28629,     0.28729,\n",
            "           0.28829,     0.28929,     0.29029,     0.29129,     0.29229,     0.29329,     0.29429,      0.2953,      0.2963,      0.2973,      0.2983,      0.2993,      0.3003,      0.3013,      0.3023,      0.3033,      0.3043,     0.30531,     0.30631,     0.30731,     0.30831,     0.30931,     0.31031,     0.31131,\n",
            "           0.31231,     0.31331,     0.31431,     0.31532,     0.31632,     0.31732,     0.31832,     0.31932,     0.32032,     0.32132,     0.32232,     0.32332,     0.32432,     0.32533,     0.32633,     0.32733,     0.32833,     0.32933,     0.33033,     0.33133,     0.33233,     0.33333,     0.33433,     0.33534,\n",
            "           0.33634,     0.33734,     0.33834,     0.33934,     0.34034,     0.34134,     0.34234,     0.34334,     0.34434,     0.34535,     0.34635,     0.34735,     0.34835,     0.34935,     0.35035,     0.35135,     0.35235,     0.35335,     0.35435,     0.35536,     0.35636,     0.35736,     0.35836,     0.35936,\n",
            "           0.36036,     0.36136,     0.36236,     0.36336,     0.36436,     0.36537,     0.36637,     0.36737,     0.36837,     0.36937,     0.37037,     0.37137,     0.37237,     0.37337,     0.37437,     0.37538,     0.37638,     0.37738,     0.37838,     0.37938,     0.38038,     0.38138,     0.38238,     0.38338,\n",
            "           0.38438,     0.38539,     0.38639,     0.38739,     0.38839,     0.38939,     0.39039,     0.39139,     0.39239,     0.39339,     0.39439,      0.3954,      0.3964,      0.3974,      0.3984,      0.3994,      0.4004,      0.4014,      0.4024,      0.4034,      0.4044,     0.40541,     0.40641,     0.40741,\n",
            "           0.40841,     0.40941,     0.41041,     0.41141,     0.41241,     0.41341,     0.41441,     0.41542,     0.41642,     0.41742,     0.41842,     0.41942,     0.42042,     0.42142,     0.42242,     0.42342,     0.42442,     0.42543,     0.42643,     0.42743,     0.42843,     0.42943,     0.43043,     0.43143,\n",
            "           0.43243,     0.43343,     0.43443,     0.43544,     0.43644,     0.43744,     0.43844,     0.43944,     0.44044,     0.44144,     0.44244,     0.44344,     0.44444,     0.44545,     0.44645,     0.44745,     0.44845,     0.44945,     0.45045,     0.45145,     0.45245,     0.45345,     0.45445,     0.45546,\n",
            "           0.45646,     0.45746,     0.45846,     0.45946,     0.46046,     0.46146,     0.46246,     0.46346,     0.46446,     0.46547,     0.46647,     0.46747,     0.46847,     0.46947,     0.47047,     0.47147,     0.47247,     0.47347,     0.47447,     0.47548,     0.47648,     0.47748,     0.47848,     0.47948,\n",
            "           0.48048,     0.48148,     0.48248,     0.48348,     0.48448,     0.48549,     0.48649,     0.48749,     0.48849,     0.48949,     0.49049,     0.49149,     0.49249,     0.49349,     0.49449,      0.4955,      0.4965,      0.4975,      0.4985,      0.4995,      0.5005,      0.5015,      0.5025,      0.5035,\n",
            "            0.5045,     0.50551,     0.50651,     0.50751,     0.50851,     0.50951,     0.51051,     0.51151,     0.51251,     0.51351,     0.51451,     0.51552,     0.51652,     0.51752,     0.51852,     0.51952,     0.52052,     0.52152,     0.52252,     0.52352,     0.52452,     0.52553,     0.52653,     0.52753,\n",
            "           0.52853,     0.52953,     0.53053,     0.53153,     0.53253,     0.53353,     0.53453,     0.53554,     0.53654,     0.53754,     0.53854,     0.53954,     0.54054,     0.54154,     0.54254,     0.54354,     0.54454,     0.54555,     0.54655,     0.54755,     0.54855,     0.54955,     0.55055,     0.55155,\n",
            "           0.55255,     0.55355,     0.55455,     0.55556,     0.55656,     0.55756,     0.55856,     0.55956,     0.56056,     0.56156,     0.56256,     0.56356,     0.56456,     0.56557,     0.56657,     0.56757,     0.56857,     0.56957,     0.57057,     0.57157,     0.57257,     0.57357,     0.57457,     0.57558,\n",
            "           0.57658,     0.57758,     0.57858,     0.57958,     0.58058,     0.58158,     0.58258,     0.58358,     0.58458,     0.58559,     0.58659,     0.58759,     0.58859,     0.58959,     0.59059,     0.59159,     0.59259,     0.59359,     0.59459,      0.5956,      0.5966,      0.5976,      0.5986,      0.5996,\n",
            "            0.6006,      0.6016,      0.6026,      0.6036,      0.6046,     0.60561,     0.60661,     0.60761,     0.60861,     0.60961,     0.61061,     0.61161,     0.61261,     0.61361,     0.61461,     0.61562,     0.61662,     0.61762,     0.61862,     0.61962,     0.62062,     0.62162,     0.62262,     0.62362,\n",
            "           0.62462,     0.62563,     0.62663,     0.62763,     0.62863,     0.62963,     0.63063,     0.63163,     0.63263,     0.63363,     0.63463,     0.63564,     0.63664,     0.63764,     0.63864,     0.63964,     0.64064,     0.64164,     0.64264,     0.64364,     0.64464,     0.64565,     0.64665,     0.64765,\n",
            "           0.64865,     0.64965,     0.65065,     0.65165,     0.65265,     0.65365,     0.65465,     0.65566,     0.65666,     0.65766,     0.65866,     0.65966,     0.66066,     0.66166,     0.66266,     0.66366,     0.66466,     0.66567,     0.66667,     0.66767,     0.66867,     0.66967,     0.67067,     0.67167,\n",
            "           0.67267,     0.67367,     0.67467,     0.67568,     0.67668,     0.67768,     0.67868,     0.67968,     0.68068,     0.68168,     0.68268,     0.68368,     0.68468,     0.68569,     0.68669,     0.68769,     0.68869,     0.68969,     0.69069,     0.69169,     0.69269,     0.69369,     0.69469,      0.6957,\n",
            "            0.6967,      0.6977,      0.6987,      0.6997,      0.7007,      0.7017,      0.7027,      0.7037,      0.7047,     0.70571,     0.70671,     0.70771,     0.70871,     0.70971,     0.71071,     0.71171,     0.71271,     0.71371,     0.71471,     0.71572,     0.71672,     0.71772,     0.71872,     0.71972,\n",
            "           0.72072,     0.72172,     0.72272,     0.72372,     0.72472,     0.72573,     0.72673,     0.72773,     0.72873,     0.72973,     0.73073,     0.73173,     0.73273,     0.73373,     0.73473,     0.73574,     0.73674,     0.73774,     0.73874,     0.73974,     0.74074,     0.74174,     0.74274,     0.74374,\n",
            "           0.74474,     0.74575,     0.74675,     0.74775,     0.74875,     0.74975,     0.75075,     0.75175,     0.75275,     0.75375,     0.75475,     0.75576,     0.75676,     0.75776,     0.75876,     0.75976,     0.76076,     0.76176,     0.76276,     0.76376,     0.76476,     0.76577,     0.76677,     0.76777,\n",
            "           0.76877,     0.76977,     0.77077,     0.77177,     0.77277,     0.77377,     0.77477,     0.77578,     0.77678,     0.77778,     0.77878,     0.77978,     0.78078,     0.78178,     0.78278,     0.78378,     0.78478,     0.78579,     0.78679,     0.78779,     0.78879,     0.78979,     0.79079,     0.79179,\n",
            "           0.79279,     0.79379,     0.79479,      0.7958,      0.7968,      0.7978,      0.7988,      0.7998,      0.8008,      0.8018,      0.8028,      0.8038,      0.8048,     0.80581,     0.80681,     0.80781,     0.80881,     0.80981,     0.81081,     0.81181,     0.81281,     0.81381,     0.81481,     0.81582,\n",
            "           0.81682,     0.81782,     0.81882,     0.81982,     0.82082,     0.82182,     0.82282,     0.82382,     0.82482,     0.82583,     0.82683,     0.82783,     0.82883,     0.82983,     0.83083,     0.83183,     0.83283,     0.83383,     0.83483,     0.83584,     0.83684,     0.83784,     0.83884,     0.83984,\n",
            "           0.84084,     0.84184,     0.84284,     0.84384,     0.84484,     0.84585,     0.84685,     0.84785,     0.84885,     0.84985,     0.85085,     0.85185,     0.85285,     0.85385,     0.85485,     0.85586,     0.85686,     0.85786,     0.85886,     0.85986,     0.86086,     0.86186,     0.86286,     0.86386,\n",
            "           0.86486,     0.86587,     0.86687,     0.86787,     0.86887,     0.86987,     0.87087,     0.87187,     0.87287,     0.87387,     0.87487,     0.87588,     0.87688,     0.87788,     0.87888,     0.87988,     0.88088,     0.88188,     0.88288,     0.88388,     0.88488,     0.88589,     0.88689,     0.88789,\n",
            "           0.88889,     0.88989,     0.89089,     0.89189,     0.89289,     0.89389,     0.89489,      0.8959,      0.8969,      0.8979,      0.8989,      0.8999,      0.9009,      0.9019,      0.9029,      0.9039,      0.9049,     0.90591,     0.90691,     0.90791,     0.90891,     0.90991,     0.91091,     0.91191,\n",
            "           0.91291,     0.91391,     0.91491,     0.91592,     0.91692,     0.91792,     0.91892,     0.91992,     0.92092,     0.92192,     0.92292,     0.92392,     0.92492,     0.92593,     0.92693,     0.92793,     0.92893,     0.92993,     0.93093,     0.93193,     0.93293,     0.93393,     0.93493,     0.93594,\n",
            "           0.93694,     0.93794,     0.93894,     0.93994,     0.94094,     0.94194,     0.94294,     0.94394,     0.94494,     0.94595,     0.94695,     0.94795,     0.94895,     0.94995,     0.95095,     0.95195,     0.95295,     0.95395,     0.95495,     0.95596,     0.95696,     0.95796,     0.95896,     0.95996,\n",
            "           0.96096,     0.96196,     0.96296,     0.96396,     0.96496,     0.96597,     0.96697,     0.96797,     0.96897,     0.96997,     0.97097,     0.97197,     0.97297,     0.97397,     0.97497,     0.97598,     0.97698,     0.97798,     0.97898,     0.97998,     0.98098,     0.98198,     0.98298,     0.98398,\n",
            "           0.98498,     0.98599,     0.98699,     0.98799,     0.98899,     0.98999,     0.99099,     0.99199,     0.99299,     0.99399,     0.99499,       0.996,       0.997,       0.998,       0.999,           1]), array([[    0.99917,     0.99917,     0.99889,     0.99889,     0.99889,     0.99889,     0.99889,     0.99889,     0.99889,     0.99889,     0.99861,     0.99861,     0.99861,     0.99861,     0.99861,     0.99861,     0.99861,     0.99833,     0.99806,     0.99806,     0.99806,     0.99806,     0.99778,\n",
            "            0.99778,     0.99778,     0.99778,     0.99778,     0.99778,     0.99778,     0.99778,     0.99778,     0.99778,     0.99778,     0.99778,     0.99778,     0.99778,      0.9975,      0.9975,      0.9975,      0.9975,      0.9975,      0.9975,      0.9975,     0.99719,     0.99695,     0.99695,\n",
            "            0.99695,     0.99695,     0.99695,     0.99667,     0.99639,     0.99633,     0.99611,     0.99611,     0.99611,     0.99611,     0.99611,     0.99611,     0.99611,     0.99611,     0.99611,     0.99611,     0.99611,     0.99611,     0.99611,     0.99611,     0.99611,     0.99611,     0.99611,\n",
            "            0.99611,     0.99611,     0.99611,     0.99611,     0.99611,     0.99611,     0.99611,     0.99611,     0.99611,     0.99611,     0.99611,     0.99611,     0.99611,     0.99611,     0.99611,     0.99611,     0.99611,     0.99611,     0.99611,     0.99584,     0.99584,     0.99584,     0.99584,\n",
            "            0.99584,     0.99584,     0.99584,     0.99584,     0.99584,     0.99584,     0.99584,     0.99584,     0.99584,     0.99584,     0.99584,     0.99584,     0.99584,     0.99584,     0.99584,     0.99584,     0.99556,     0.99556,     0.99528,     0.99528,     0.99528,     0.99528,     0.99528,\n",
            "            0.99528,     0.99528,     0.99528,     0.99528,     0.99528,     0.99528,     0.99528,     0.99528,       0.995,       0.995,       0.995,       0.995,       0.995,       0.995,       0.995,       0.995,       0.995,       0.995,     0.99473,     0.99473,     0.99473,     0.99473,     0.99473,\n",
            "            0.99473,     0.99473,     0.99473,     0.99473,     0.99473,     0.99473,     0.99473,     0.99473,     0.99473,     0.99473,     0.99445,     0.99445,     0.99445,     0.99445,     0.99445,     0.99445,     0.99445,     0.99445,     0.99445,     0.99417,     0.99417,     0.99417,     0.99417,\n",
            "            0.99417,     0.99417,     0.99417,     0.99417,     0.99417,     0.99417,     0.99417,     0.99417,     0.99417,     0.99417,     0.99417,     0.99415,     0.99389,     0.99389,     0.99389,     0.99389,     0.99389,     0.99389,     0.99389,     0.99389,     0.99389,     0.99389,     0.99352,\n",
            "            0.99334,     0.99334,     0.99334,     0.99334,     0.99334,     0.99334,     0.99334,     0.99334,     0.99334,     0.99334,     0.99312,     0.99296,     0.99285,     0.99278,     0.99275,      0.9925,      0.9925,      0.9925,      0.9925,      0.9925,      0.9925,     0.99245,     0.99225,\n",
            "            0.99223,     0.99223,     0.99223,     0.99223,     0.99223,     0.99223,     0.99202,     0.99183,     0.99169,     0.99167,     0.99167,     0.99167,     0.99167,     0.99167,     0.99167,     0.99167,     0.99167,     0.99167,     0.99167,     0.99167,     0.99167,     0.99167,     0.99167,\n",
            "            0.99167,     0.99161,     0.99141,     0.99139,     0.99139,     0.99139,     0.99139,     0.99139,     0.99139,     0.99134,     0.99124,     0.99114,     0.99107,       0.991,     0.99094,     0.99088,     0.99084,     0.99084,     0.99084,     0.99084,     0.99074,     0.99062,     0.99049,\n",
            "            0.99037,     0.99022,     0.99003,     0.98945,     0.98945,     0.98945,     0.98941,     0.98936,     0.98932,     0.98927,     0.98922,     0.98918,     0.98917,     0.98917,     0.98917,     0.98917,     0.98917,     0.98917,     0.98908,     0.98895,     0.98873,     0.98859,     0.98854,\n",
            "            0.98848,     0.98843,     0.98838,     0.98834,     0.98803,     0.98796,     0.98788,     0.98781,     0.98778,     0.98778,     0.98778,     0.98778,     0.98778,     0.98778,     0.98767,     0.98756,     0.98751,     0.98751,     0.98735,     0.98723,     0.98723,     0.98723,     0.98723,\n",
            "            0.98723,     0.98723,     0.98723,     0.98723,     0.98723,     0.98719,     0.98709,     0.98699,     0.98695,     0.98689,     0.98667,     0.98667,     0.98667,     0.98667,     0.98666,     0.98655,     0.98644,      0.9864,      0.9864,     0.98635,     0.98629,     0.98624,     0.98618,\n",
            "            0.98613,     0.98599,     0.98584,     0.98584,     0.98584,     0.98584,     0.98584,     0.98584,     0.98579,     0.98573,     0.98568,     0.98563,     0.98557,     0.98532,     0.98529,     0.98518,     0.98507,     0.98487,     0.98468,     0.98458,     0.98447,     0.98443,     0.98441,\n",
            "            0.98438,     0.98435,     0.98433,      0.9843,     0.98427,     0.98425,     0.98422,     0.98419,     0.98414,     0.98404,     0.98393,      0.9839,      0.9839,     0.98362,     0.98356,      0.9835,     0.98344,     0.98338,     0.98334,     0.98334,     0.98334,     0.98334,     0.98334,\n",
            "            0.98334,     0.98334,     0.98334,     0.98334,     0.98334,     0.98334,     0.98334,     0.98334,     0.98334,     0.98334,     0.98334,     0.98334,     0.98306,     0.98306,     0.98306,     0.98306,     0.98306,     0.98306,     0.98288,     0.98269,     0.98255,     0.98231,     0.98195,\n",
            "            0.98167,     0.98158,     0.98148,     0.98136,     0.98112,     0.98112,     0.98112,     0.98112,     0.98112,     0.98112,     0.98112,     0.98112,     0.98112,     0.98112,       0.981,     0.98086,     0.98077,      0.9807,     0.98062,     0.98057,     0.98057,     0.98057,     0.98057,\n",
            "            0.98057,     0.98057,     0.98057,     0.98038,     0.98025,     0.98019,     0.98014,     0.98008,     0.98002,        0.98,     0.97986,     0.97973,     0.97973,     0.97973,     0.97973,     0.97973,     0.97973,     0.97973,     0.97973,     0.97973,     0.97963,     0.97931,     0.97872,\n",
            "            0.97843,     0.97815,     0.97779,     0.97768,     0.97754,     0.97747,     0.97741,     0.97735,      0.9773,     0.97724,     0.97697,     0.97669,     0.97668,     0.97668,     0.97668,     0.97639,     0.97625,     0.97583,     0.97567,     0.97518,     0.97468,     0.97453,     0.97432,\n",
            "            0.97418,     0.97418,     0.97418,      0.9741,     0.97396,      0.9739,      0.9739,      0.9739,      0.9739,      0.9737,     0.97341,     0.97335,     0.97312,     0.97268,     0.97253,     0.97227,     0.97224,     0.97224,     0.97224,     0.97141,     0.97113,     0.97113,     0.97084,\n",
            "            0.97075,     0.97065,     0.97057,     0.97053,     0.97049,     0.97044,      0.9704,     0.97036,     0.97032,     0.97029,     0.97029,     0.97019,     0.96991,     0.96968,     0.96954,     0.96933,     0.96905,     0.96835,      0.9682,       0.968,     0.96785,     0.96771,     0.96757,\n",
            "             0.9665,     0.96641,     0.96641,     0.96641,     0.96592,     0.96508,     0.96491,     0.96476,     0.96422,     0.96406,     0.96392,     0.96365,     0.96335,     0.96252,     0.96196,     0.96187,     0.96177,     0.96168,     0.96153,     0.96137,     0.96109,     0.96084,     0.96074,\n",
            "            0.96065,      0.9603,     0.95943,     0.95928,     0.95886,     0.95872,      0.9583,     0.95816,     0.95712,      0.9569,     0.95676,     0.95655,     0.95634,      0.9562,     0.95569,      0.9555,     0.95535,     0.95512,     0.95456,     0.95399,     0.95343,     0.95325,     0.95311,\n",
            "            0.95286,      0.9528,     0.95268,     0.95254,     0.95197,     0.95197,     0.95191,     0.95176,     0.95155,     0.95099,     0.95043,     0.94986,     0.94902,     0.94874,     0.94855,     0.94841,     0.94789,     0.94743,     0.94728,     0.94703,     0.94675,     0.94646,     0.94562,\n",
            "            0.94559,     0.94559,     0.94546,     0.94531,     0.94365,     0.94336,     0.94336,     0.94309,     0.94237,      0.9417,      0.9417,      0.9417,     0.94123,     0.94039,     0.93927,     0.93871,     0.93843,     0.93759,     0.93675,     0.93642,     0.93618,      0.9357,     0.93464,\n",
            "            0.93393,     0.93351,     0.93295,     0.93239,      0.9321,     0.93182,     0.93126,     0.93014,     0.92985,     0.92865,     0.92865,     0.92831,     0.92806,     0.92792,     0.92745,     0.92661,     0.92633,      0.9258,     0.92561,     0.92476,     0.92366,     0.92338,     0.92143,\n",
            "            0.92129,     0.92003,     0.91974,     0.91915,     0.91848,     0.91819,     0.91791,     0.91762,     0.91651,     0.91483,     0.91399,     0.91302,     0.91245,     0.91088,      0.9105,     0.91021,     0.90953,     0.90839,       0.907,     0.90588,      0.9056,     0.90503,     0.90417,\n",
            "            0.90377,     0.90293,     0.90181,     0.90125,     0.90013,     0.89832,     0.89756,     0.89553,     0.89358,     0.89293,     0.89204,     0.88981,     0.88731,     0.88508,     0.88244,     0.88132,     0.88076,     0.87923,     0.87616,     0.87532,     0.87476,     0.87309,     0.87165,\n",
            "             0.8696,     0.86765,     0.86542,     0.86306,     0.86166,     0.85943,     0.85794,     0.85623,     0.85372,     0.85233,     0.84774,     0.84496,     0.84245,     0.83897,     0.83702,     0.83591,     0.83449,      0.8327,     0.83075,      0.8288,     0.82421,     0.82171,     0.81997,\n",
            "            0.81683,     0.81461,     0.81349,     0.80807,     0.80556,     0.80378,     0.80124,     0.79874,     0.79276,     0.79054,     0.78511,     0.78372,     0.77981,     0.77746,     0.77412,     0.76759,     0.76564,     0.76141,     0.75882,     0.75465,     0.74923,     0.74673,     0.74469,\n",
            "            0.74047,     0.73824,     0.72782,     0.72492,     0.72267,     0.71822,     0.71113,     0.70724,      0.6971,     0.69319,     0.69001,     0.68445,     0.67431,     0.66926,     0.66499,     0.65735,     0.65207,     0.64893,     0.64442,     0.63151,     0.62752,     0.62164,     0.61855,\n",
            "            0.60594,     0.60053,     0.59274,     0.57815,     0.56774,     0.56216,     0.55564,     0.55092,     0.53856,     0.53101,     0.52258,     0.50966,     0.50293,     0.49702,     0.48438,     0.47624,     0.46868,     0.45465,     0.44621,     0.43673,     0.42037,     0.41423,     0.40298,\n",
            "            0.39534,     0.38367,     0.37575,     0.36283,     0.35586,     0.34144,     0.33362,     0.32741,     0.31061,     0.30637,     0.29171,     0.28469,     0.27796,     0.26643,     0.25939,     0.24532,     0.24159,     0.23239,     0.22518,     0.21184,     0.20285,     0.19045,     0.19026,\n",
            "            0.17958,     0.17202,     0.16068,     0.16029,     0.15288,     0.14223,     0.13128,     0.13109,     0.12228,     0.11507,     0.10655,     0.10636,     0.09887,    0.092005,    0.087218,    0.082331,     0.08136,    0.074821,    0.068984,    0.064585,    0.060502,    0.054917,     0.05452,\n",
            "           0.052014,    0.049571,      0.0457,     0.04402,    0.043658,    0.040874,     0.03761,    0.033504,    0.031831,    0.028804,    0.028615,    0.026696,    0.025089,     0.02319,     0.02235,    0.020448,    0.019143,    0.018304,    0.016917,    0.016728,    0.016201,    0.014064,    0.013197,\n",
            "           0.012154,    0.011633,    0.011519,    0.011405,    0.011231,    0.010913,    0.010308,   0.0097746,   0.0089059,   0.0084825,   0.0080672,   0.0077746,   0.0073512,    0.006789,   0.0063774,   0.0062636,   0.0061498,   0.0057703,   0.0056754,   0.0055806,   0.0052134,   0.0049699,    0.004856,\n",
            "          0.0047422,   0.0046911,   0.0046555,     0.00462,   0.0045844,   0.0045488,   0.0045132,   0.0044777,   0.0044421,   0.0042529,   0.0040885,   0.0039462,   0.0038536,   0.0037967,   0.0037398,   0.0036829,   0.0036259,   0.0032084,   0.0029709,   0.0028571,   0.0027556,   0.0026845,   0.0026134,\n",
            "          0.0025422,   0.0024545,   0.0023407,   0.0022269,   0.0021131,   0.0019992,   0.0018951,   0.0018002,   0.0017053,   0.0016326,   0.0015757,   0.0015188,   0.0014618,   0.0014049,   0.0013727,   0.0013508,   0.0013289,    0.001307,   0.0012851,   0.0012632,   0.0012414,   0.0012195,   0.0011976,\n",
            "          0.0011757,   0.0011538,   0.0011319,   0.0011094,   0.0010576,   0.0010059,  0.00095414,   0.0009024,  0.00085066,  0.00077951,  0.00069821,   0.0006169,  0.00041769,           0,           0,           0,           0,           0,           0,           0,           0,           0,           0,\n",
            "                  0,           0,           0,           0,           0,           0,           0,           0,           0,           0,           0,           0,           0,           0,           0,           0,           0,           0,           0,           0,           0,           0,           0,\n",
            "                  0,           0,           0,           0,           0,           0,           0,           0,           0,           0,           0,           0,           0,           0,           0,           0,           0,           0,           0,           0,           0,           0,           0,\n",
            "                  0,           0,           0,           0,           0,           0,           0,           0,           0,           0,           0,           0,           0,           0,           0,           0,           0,           0,           0,           0,           0,           0,           0,\n",
            "                  0,           0,           0,           0,           0,           0,           0,           0,           0,           0,           0]]), 'Confidence', 'Recall']]\n",
            "fitness: 0.7300071678166306\n",
            "keys: ['metrics/precision(B)', 'metrics/recall(B)', 'metrics/mAP50(B)', 'metrics/mAP50-95(B)']\n",
            "maps: array([      0.701])\n",
            "names: {0: 'pill'}\n",
            "plot: True\n",
            "results_dict: {'metrics/precision(B)': 0.9725720989109666, 'metrics/recall(B)': 0.9844315539536541, 'metrics/mAP50(B)': 0.9910492978145827, 'metrics/mAP50-95(B)': 0.7010024867057469, 'fitness': 0.7300071678166306}\n",
            "save_dir: PosixPath('/content/drive/MyDrive/yolov8n_checkpoints/pill4')\n",
            "speed: {'preprocess': 0.17508242360528012, 'inference': 1.5184137916402891, 'loss': 0.0004689371373153077, 'postprocess': 0.9010200019734873}\n",
            "task: 'detect'\n"
          ]
        }
      ],
      "source": [
        "from ultralytics import YOLO\n",
        "import os\n",
        "\n",
        "# 체크포인트 디렉토리 설정\n",
        "checkpoint_dir = '/content/drive/MyDrive/yolov8n_checkpoints'\n",
        "os.makedirs(checkpoint_dir, exist_ok=True)\n",
        "\n",
        "# YOLOv8 모델 불러오기\n",
        "model = YOLO('yolov8n.pt')  # n: nano, s: small, m: medium, l: large, x: xlarge\n",
        "\n",
        "# 학습 실행\n",
        "results = model.train(\n",
        "    # resume = False, # resume=True로 설정하여 이전 학습 상태에서 재개\n",
        "\n",
        "    data=r'/content/drive/MyDrive/dataset/data.yaml',  # 데이터셋 설정 파일 경로\n",
        "    epochs=100,  # 총 학습 반복 횟수\n",
        "    imgsz=640,   # 입력 이미지 크기\n",
        "    batch=16,    # 배치 크기 (GPU 메모리에 따라 조정 필요) // gpu메모리 사용량이 낮으므로 높여서 학습속도를 증가시킬 수 있음(16 -> 32/64)\n",
        "    name='pill',  # 실험 이름\n",
        "\n",
        "    # 최적화 설정\n",
        "    lr0=0.001,    # 초기 학습률\n",
        "    lrf=0.0001,    # 최종 학습률 (OneCycleLR 스케줄러에서 사용)\n",
        "    momentum=0.937,  # SGD 모멘텀\n",
        "    weight_decay=0.0005,  # 가중치 감쇠 (L2 정규화)\n",
        "    warmup_epochs=2.0,  # 준비 운동(warmup) 에폭 수\n",
        "    warmup_momentum=0.8,  # 준비 운동 시 초기 모멘텀\n",
        "    warmup_bias_lr=0.1,  # 준비 운동 시 편향(bias) 학습률\n",
        "\n",
        "    # 데이터 증강 설정\n",
        "    hsv_h=0.015,  # HSV 색 공간에서 색조(Hue) 증강 정도\n",
        "    hsv_s=0.7,    # HSV 색 공간에서 채도(Saturation) 증강 정도\n",
        "    hsv_v=0.4,    # HSV 색 공간에서 명도(Value) 증강 정도\n",
        "    degrees=10.0,  # 회전 각도 범위 (±도)\n",
        "    translate=0.2,  # 평행 이동 범위 (이미지 크기의 비율)\n",
        "    scale=0.6,    # 스케일 변화 범위\n",
        "    shear=2.0,    # 전단 변환 각도 범위 (±도)\n",
        "    perspective=0,  # 원근 변환 정도 (알약은 평면이므로 0으로 설정)\n",
        "    flipud=0.01,   # 상하 뒤집기 확률 (알약은 방향이 중요하므로 0으로 설정)\n",
        "    fliplr=0.5,   # 좌우 뒤집기 확률\n",
        "    mosaic=0.5,   # 모자이크 증강 확률\n",
        "    mixup=0,    # 믹스업 증강 확률 (알약 인식에는 부적합하여 0으로 설정)\n",
        "\n",
        "    # 손실 함수 가중치\n",
        "    box=7.5,  # 바운딩 박스 손실 가중치\n",
        "    cls=0.5,  # 분류 손실 가중치\n",
        "    dfl=1.5,  # Distribution Focal Loss 가중치\n",
        "\n",
        "    # 성능 설정\n",
        "    nbs=64,  # 공칭 배치 크기 (Nominal Batch Size)\n",
        "\n",
        "    # 체크포인트 및 early stopping 설정\n",
        "    project=checkpoint_dir,\n",
        "    save_period=5,  # 5 에폭마다 저장\n",
        "    patience=20,\n",
        "\n",
        "    # 기타 설정\n",
        "    close_mosaic=10,\n",
        "    verbose=True,\n",
        "    resume=False,\n",
        "\n",
        "    # 추가 최적화 설정\n",
        "    amp=True,  # 자동 혼합 정밀도\n",
        "    multi_scale=True,  # 다중 스케일 훈련\n",
        "    cache='ram'\n",
        ")\n",
        "\n",
        "# 학습 결과 출력\n",
        "print(results)"
      ]
    },
    {
      "cell_type": "markdown",
      "source": [
        "## 학습된 YOLO 모델 테스트하기"
      ],
      "metadata": {
        "id": "tN7i9b7uMEWS"
      }
    },
    {
      "cell_type": "code",
      "execution_count": null,
      "metadata": {
        "colab": {
          "base_uri": "https://localhost:8080/",
          "height": 386
        },
        "collapsed": true,
        "id": "cNY-W-BJS-Rm",
        "outputId": "86f13b0c-5e5c-48d7-b46b-028dffe2812d"
      },
      "outputs": [
        {
          "output_type": "stream",
          "name": "stdout",
          "text": [
            "WARNING ⚠️ Environment does not support cv2.imshow() or PIL Image.show()\n",
            "\n",
            "\n",
            "image 1/1 /content/drive/MyDrive/dataset/testimage/1111.jpg: 480x640 5 pills, 7.5ms\n",
            "Speed: 2.1ms preprocess, 7.5ms inference, 1.4ms postprocess per image at shape (1, 3, 480, 640)\n",
            "Results saved to \u001b[1mruns/detect/predict3\u001b[0m\n",
            "예측이 완료되었습니다. 결과는 /content/drive/MyDrive/dataset/results에 저장되었습니다.\n",
            "\n",
            "저장된 결과 파일:\n"
          ]
        },
        {
          "output_type": "error",
          "ename": "FileNotFoundError",
          "evalue": "[Errno 2] No such file or directory: '/content/drive/MyDrive/dataset/results'",
          "traceback": [
            "\u001b[0;31m---------------------------------------------------------------------------\u001b[0m",
            "\u001b[0;31mFileNotFoundError\u001b[0m                         Traceback (most recent call last)",
            "\u001b[0;32m<ipython-input-13-3f2eebf5d263>\u001b[0m in \u001b[0;36m<cell line: 47>\u001b[0;34m()\u001b[0m\n\u001b[1;32m     45\u001b[0m \u001b[0;31m# 결과 파일 목록 출력 및 이미지 표시\u001b[0m\u001b[0;34m\u001b[0m\u001b[0;34m\u001b[0m\u001b[0m\n\u001b[1;32m     46\u001b[0m \u001b[0mprint\u001b[0m\u001b[0;34m(\u001b[0m\u001b[0;34m\"\\n저장된 결과 파일:\"\u001b[0m\u001b[0;34m)\u001b[0m\u001b[0;34m\u001b[0m\u001b[0;34m\u001b[0m\u001b[0m\n\u001b[0;32m---> 47\u001b[0;31m \u001b[0;32mfor\u001b[0m \u001b[0mfile\u001b[0m \u001b[0;32min\u001b[0m \u001b[0mos\u001b[0m\u001b[0;34m.\u001b[0m\u001b[0mlistdir\u001b[0m\u001b[0;34m(\u001b[0m\u001b[0mresults_path\u001b[0m\u001b[0;34m)\u001b[0m\u001b[0;34m:\u001b[0m\u001b[0;34m\u001b[0m\u001b[0;34m\u001b[0m\u001b[0m\n\u001b[0m\u001b[1;32m     48\u001b[0m     \u001b[0mprint\u001b[0m\u001b[0;34m(\u001b[0m\u001b[0mfile\u001b[0m\u001b[0;34m)\u001b[0m\u001b[0;34m\u001b[0m\u001b[0;34m\u001b[0m\u001b[0m\n\u001b[1;32m     49\u001b[0m     \u001b[0;32mif\u001b[0m \u001b[0mfile\u001b[0m\u001b[0;34m.\u001b[0m\u001b[0mendswith\u001b[0m\u001b[0;34m(\u001b[0m\u001b[0;34m(\u001b[0m\u001b[0;34m'.jpg'\u001b[0m\u001b[0;34m,\u001b[0m \u001b[0;34m'.png'\u001b[0m\u001b[0;34m,\u001b[0m \u001b[0;34m'.jpeg'\u001b[0m\u001b[0;34m)\u001b[0m\u001b[0;34m)\u001b[0m\u001b[0;34m:\u001b[0m\u001b[0;34m\u001b[0m\u001b[0;34m\u001b[0m\u001b[0m\n",
            "\u001b[0;31mFileNotFoundError\u001b[0m: [Errno 2] No such file or directory: '/content/drive/MyDrive/dataset/results'"
          ]
        }
      ],
      "source": [
        "# import ultralytics\n",
        "# from ultralytics import YOLO\n",
        "\n",
        "# # 훈련된 커스텀 yolo 모델을 불러오겠습니다.\n",
        "# model = YOLO(r'/content/drive/MyDrive/yolo_checkpoints/pill/weights/best.pt')\n",
        "\n",
        "# # source에 test사진의 위치를 넣어주세요G:\\내 드라이브\\01. 촬영이미지 (3)\\200702166\n",
        "# model.predict(source=r'/content/drive/MyDrive/dataset/testimage',\n",
        "# save=True, show=True, save_dir='/content/drive/MyDrive/dataset/results')\n",
        "# 필요한 라이브러리 임포트\n",
        "from google.colab import drive\n",
        "from ultralytics import YOLO\n",
        "import ultralytics\n",
        "import os\n",
        "import cv2\n",
        "import matplotlib.pyplot as plt\n",
        "\n",
        "# Google Drive 마운트\n",
        "# drive.mount('/content/drive')\n",
        "\n",
        "# 훈련된 커스텀 YOLO 모델 불러오기\n",
        "model_path = '/content/drive/MyDrive/yolo_checkpoints/pill/weights/best.pt'\n",
        "model = YOLO(model_path)\n",
        "\n",
        "# 테스트 이미지 경로 설정\n",
        "test_image_path = '/content/drive/MyDrive/dataset/testimage/1111.jpg'\n",
        "\n",
        "# 결과 저장 경로 설정\n",
        "results_path = '/content/drive/MyDrive/dataset/results'\n",
        "\n",
        "# 이미지 표시 함수 정의\n",
        "def display_image(image_path, figsize=(10, 10)):\n",
        "    img = cv2.imread(image_path)\n",
        "    img = cv2.cvtColor(img, cv2.COLOR_BGR2RGB)\n",
        "    plt.figure(figsize=figsize)\n",
        "    plt.imshow(img)\n",
        "    plt.axis('off')\n",
        "    plt.show()\n",
        "\n",
        "# 예측 실행\n",
        "results = model.predict(source=test_image_path, save=True, show=True, save_dir=results_path)\n",
        "\n",
        "print(f\"예측이 완료되었습니다. 결과는 {results_path}에 저장되었습니다.\")\n",
        "\n",
        "# 결과 파일 목록 출력 및 이미지 표시\n",
        "print(\"\\n저장된 결과 파일:\")\n",
        "for file in os.listdir(results_path):\n",
        "    print(file)\n",
        "    if file.endswith(('.jpg', '.png', '.jpeg')):\n",
        "        print(f\"결과 이미지 표시: {file}\")\n",
        "        display_image(os.path.join(results_path, file))\n",
        "\n",
        "# 입력 이미지도 표시\n",
        "print(\"\\n입력 이미지:\")\n",
        "for file in os.listdir(test_image_path):\n",
        "    if file.endswith(('.jpg', '.png', '.jpeg')):\n",
        "        print(f\"입력 이미지 표시: {file}\")\n",
        "        display_image(os.path.join(test_image_path, file))"
      ]
    },
    {
      "cell_type": "markdown",
      "source": [
        "## 학습된 YOLO모델 평가지표 시각화 하기"
      ],
      "metadata": {
        "id": "k-8AIgJxMIBl"
      }
    },
    {
      "cell_type": "code",
      "execution_count": null,
      "metadata": {
        "colab": {
          "base_uri": "https://localhost:8080/",
          "height": 1000
        },
        "id": "LS3tfAfX738a",
        "outputId": "e800d39a-6548-4790-f75d-e7a92a52eac7"
      },
      "outputs": [
        {
          "name": "stdout",
          "output_type": "stream",
          "text": [
            "Available columns in the results file:\n",
            "Index(['epoch', 'train/box_loss', 'train/cls_loss', 'train/dfl_loss',\n",
            "       'metrics/precision(B)', 'metrics/recall(B)', 'metrics/mAP50(B)',\n",
            "       'metrics/mAP50-95(B)', 'val/box_loss', 'val/cls_loss', 'val/dfl_loss',\n",
            "       'lr/pg0', 'lr/pg1', 'lr/pg2'],\n",
            "      dtype='object')\n"
          ]
        },
        {
          "data": {
            "image/png": "[encoded data removed]",
            "text/plain": [
              "<Figure size 1200x500 with 2 Axes>"
            ]
          },
          "metadata": {},
          "output_type": "display_data"
        },
        {
          "data": {
            "image/png": "[encoded data removed]",
            "text/plain": [
              "<Figure size 1000x500 with 1 Axes>"
            ]
          },
          "metadata": {},
          "output_type": "display_data"
        },
        {
          "name": "stdout",
          "output_type": "stream",
          "text": [
            "Class names: {0: 'pill'}\n"
          ]
        },
        {
          "data": {
            "text/plain": [
              "<Figure size 1200x600 with 0 Axes>"
            ]
          },
          "metadata": {},
          "output_type": "display_data"
        },
        {
          "data": {
            "image/png": "[encoded data removed]",
            "text/plain": [
              "<Figure size 640x480 with 1 Axes>"
            ]
          },
          "metadata": {},
          "output_type": "display_data"
        },
        {
          "name": "stdout",
          "output_type": "stream",
          "text": [
            "Class Performance (Example Data):\n",
            "  Class  Precision    Recall  F1 Score\n",
            "0  pill   0.277742  0.251505   0.63509\n",
            "\n",
            "Training Configuration and Final Performance:\n",
            "epoch: 12.0000\n",
            "train/box_loss: 1.2052\n",
            "train/cls_loss: 0.7032\n",
            "train/dfl_loss: 1.3354\n",
            "metrics/precision(B): 0.9867\n",
            "metrics/recall(B): 0.9861\n",
            "metrics/mAP50(B): 0.9940\n",
            "metrics/mAP50-95(B): 0.3829\n",
            "val/box_loss: 2.0834\n",
            "val/cls_loss: 0.6388\n",
            "val/dfl_loss: 1.9663\n",
            "lr/pg0: 0.0089\n",
            "lr/pg1: 0.0089\n",
            "lr/pg2: 0.0089\n"
          ]
        }
      ],
      "source": [
        "import matplotlib.pyplot as plt\n",
        "import seaborn as sns\n",
        "import pandas as pd\n",
        "import numpy as np\n",
        "from ultralytics import YOLO\n",
        "\n",
        "# 학습된 모델 로드\n",
        "model = YOLO('/content/drive/MyDrive/yolo_checkpoints/pill/weights/best.pt')\n",
        "\n",
        "# 결과 파일 로드\n",
        "results_path = '/content/drive/MyDrive/yolo_checkpoints/pill/results.csv'\n",
        "results = pd.read_csv(results_path)\n",
        "\n",
        "# 열 이름에서 앞뒤 공백 제거\n",
        "results.columns = results.columns.str.strip()\n",
        "\n",
        "print(\"Available columns in the results file:\")\n",
        "print(results.columns)\n",
        "\n",
        "# 1. 정확도와 손실 그래프\n",
        "plt.figure(figsize=(12, 5))\n",
        "\n",
        "# 학습 곡선을 그릴 열 선택\n",
        "loss_columns = [col for col in results.columns if 'loss' in col.lower()]\n",
        "map_columns = [col for col in results.columns if 'map' in col.lower()]\n",
        "\n",
        "# 손실 그래프\n",
        "plt.subplot(1, 2, 1)\n",
        "for col in loss_columns:\n",
        "    plt.plot(results.index, results[col], label=col)\n",
        "plt.xlabel('Iteration')\n",
        "plt.ylabel('Loss')\n",
        "plt.title('Training Losses')\n",
        "plt.legend()\n",
        "\n",
        "# mAP 그래프\n",
        "plt.subplot(1, 2, 2)\n",
        "for col in map_columns:\n",
        "    plt.plot(results.index, results[col], label=col)\n",
        "plt.xlabel('Iteration')\n",
        "plt.ylabel('mAP')\n",
        "plt.title('Mean Average Precision')\n",
        "plt.legend()\n",
        "\n",
        "plt.tight_layout()\n",
        "plt.show()\n",
        "\n",
        "# 2. Precision-Recall 곡선 (있을 경우)\n",
        "precision_col = [col for col in results.columns if 'precision' in col.lower()]\n",
        "recall_col = [col for col in results.columns if 'recall' in col.lower()]\n",
        "\n",
        "if precision_col and recall_col:\n",
        "    plt.figure(figsize=(10, 5))\n",
        "    plt.plot(results[recall_col[0]], results[precision_col[0]])\n",
        "    plt.xlabel('Recall')\n",
        "    plt.ylabel('Precision')\n",
        "    plt.title('Precision-Recall Curve')\n",
        "    plt.show()\n",
        "else:\n",
        "    print(\"Precision-Recall data not available in the results file.\")\n",
        "\n",
        "# 3. 클래스별 성능 (모델에서 가져온 정보 사용)\n",
        "class_names = model.names\n",
        "print(\"Class names:\", class_names)\n",
        "\n",
        "if isinstance(class_names, dict):\n",
        "    class_names = list(class_names.values())\n",
        "elif not isinstance(class_names, list):\n",
        "    class_names = ['Class ' + str(i) for i in range(len(class_names))]\n",
        "\n",
        "num_classes = len(class_names)\n",
        "\n",
        "# 예시 데이터 생성 (실제 데이터로 대체 필요)\n",
        "class_performance = pd.DataFrame({\n",
        "    'Class': class_names,\n",
        "    'Precision': np.random.rand(num_classes),\n",
        "    'Recall': np.random.rand(num_classes),\n",
        "    'F1 Score': np.random.rand(num_classes)\n",
        "})\n",
        "\n",
        "plt.figure(figsize=(12, 6))\n",
        "class_performance.plot(x='Class', y=['Precision', 'Recall', 'F1 Score'], kind='bar')\n",
        "plt.title('Performance by Class (Example Data)')\n",
        "plt.xlabel('Class')\n",
        "plt.ylabel('Score')\n",
        "plt.legend(loc='best')\n",
        "plt.tight_layout()\n",
        "plt.show()\n",
        "\n",
        "print(\"Class Performance (Example Data):\")\n",
        "print(class_performance)\n",
        "\n",
        "# 4. 학습 설정 및 최종 성능 출력\n",
        "print(\"\\nTraining Configuration and Final Performance:\")\n",
        "for col in results.columns:\n",
        "    if results[col].dtype == 'object':  # 문자열 데이터\n",
        "        print(f\"{col}: {results[col].iloc[-1]}\")\n",
        "    else:  # 숫자 데이터\n",
        "        print(f\"{col}: {results[col].iloc[-1]:.4f}\")"
      ]
    },
    {
      "cell_type": "code",
      "execution_count": null,
      "metadata": {
        "colab": {
          "base_uri": "https://localhost:8080/",
          "height": 1000
        },
        "id": "CH2XqHi386AV",
        "outputId": "3d2f0ef8-ebaf-4e11-9c32-30eaf3b939a4"
      },
      "outputs": [
        {
          "data": {
            "text/plain": [
              "<Figure size 1000x600 with 0 Axes>"
            ]
          },
          "metadata": {},
          "output_type": "display_data"
        },
        {
          "data": {
            "image/png": "[encoded data removed]",
            "text/plain": [
              "<Figure size 640x480 with 1 Axes>"
            ]
          },
          "metadata": {},
          "output_type": "display_data"
        },
        {
          "data": {
            "text/plain": [
              "<Figure size 1000x600 with 0 Axes>"
            ]
          },
          "metadata": {},
          "output_type": "display_data"
        },
        {
          "data": {
            "image/png": "[encoded data removed]",
            "text/plain": [
              "<Figure size 640x480 with 1 Axes>"
            ]
          },
          "metadata": {},
          "output_type": "display_data"
        },
        {
          "name": "stdout",
          "output_type": "stream",
          "text": [
            "Final Learning Rate: 0.008900\n",
            "\n",
            "Performance Analysis Summary:\n",
            "1. The model shows excellent performance with mAP50 of 0.9940 and mAP50-95 of 0.3829.\n",
            "2. Both Precision (0.9867) and Recall (0.9861) are very high, indicating strong overall performance.\n",
            "3. The significant difference between mAP50 and mAP50-95 suggests that the model's performance might decrease for stricter IoU thresholds.\n",
            "4. There is a noticeable difference between training and validation losses, particularly for box loss and DFL loss.\n",
            "   This could indicate some degree of overfitting, and further regularization might be beneficial.\n",
            "5. The final learning rate of 0.008900 suggests that the learning rate scheduling worked as expected.\n",
            "\n",
            "Recommendations:\n",
            "1. Consider applying additional regularization techniques to reduce the gap between training and validation losses.\n",
            "2. Experiment with data augmentation to improve performance on stricter IoU thresholds.\n",
            "3. If possible, evaluate the model on a separate test set to get a more accurate measure of its generalization ability.\n",
            "4. For future training runs, consider implementing early stopping to prevent potential overfitting.\n"
          ]
        }
      ],
      "source": [
        "import matplotlib.pyplot as plt\n",
        "import numpy as np\n",
        "import pandas as pd\n",
        "\n",
        "# 성능 지표 데이터\n",
        "performance_data = {\n",
        "    'Metric': ['mAP50', 'mAP50-95', 'Precision', 'Recall'],\n",
        "    'Value': [0.9940, 0.3829, 0.9867, 0.9861]\n",
        "}\n",
        "\n",
        "# 손실 데이터\n",
        "loss_data = {\n",
        "    'Loss Type': ['Box Loss', 'Class Loss', 'DFL Loss'],\n",
        "    'Train': [1.2052, 0.7032, 1.3354],\n",
        "    'Validation': [2.0834, 0.6388, 1.9663]\n",
        "}\n",
        "\n",
        "# 1. 성능 지표 시각화\n",
        "plt.figure(figsize=(10, 6))\n",
        "df_performance = pd.DataFrame(performance_data)\n",
        "df_performance.plot(x='Metric', y='Value', kind='bar')\n",
        "plt.title('Model Performance Metrics')\n",
        "plt.ylabel('Score')\n",
        "plt.ylim(0, 1)\n",
        "for i, v in enumerate(df_performance['Value']):\n",
        "    plt.text(i, v, f'{v:.4f}', ha='center', va='bottom')\n",
        "plt.tight_layout()\n",
        "plt.show()\n",
        "\n",
        "# 2. 학습 및 검증 손실 비교\n",
        "plt.figure(figsize=(10, 6))\n",
        "df_loss = pd.DataFrame(loss_data)\n",
        "df_loss.set_index('Loss Type').plot(kind='bar')\n",
        "plt.title('Training vs Validation Loss')\n",
        "plt.ylabel('Loss Value')\n",
        "plt.legend(title='Dataset')\n",
        "for i in range(len(df_loss)):\n",
        "    plt.text(i, df_loss['Train'][i], f'{df_loss[\"Train\"][i]:.4f}', ha='center', va='bottom')\n",
        "    plt.text(i, df_loss['Validation'][i], f'{df_loss[\"Validation\"][i]:.4f}', ha='center', va='bottom')\n",
        "plt.tight_layout()\n",
        "plt.show()\n",
        "\n",
        "# 3. 학습률 출력\n",
        "print(f\"Final Learning Rate: {0.0089:.6f}\")\n",
        "\n",
        "# 4. 성능 분석 요약\n",
        "print(\"\\nPerformance Analysis Summary:\")\n",
        "print(f\"1. The model shows excellent performance with mAP50 of {0.9940:.4f} and mAP50-95 of {0.3829:.4f}.\")\n",
        "print(f\"2. Both Precision ({0.9867:.4f}) and Recall ({0.9861:.4f}) are very high, indicating strong overall performance.\")\n",
        "print(\"3. The significant difference between mAP50 and mAP50-95 suggests that the model's performance might decrease for stricter IoU thresholds.\")\n",
        "print(\"4. There is a noticeable difference between training and validation losses, particularly for box loss and DFL loss.\")\n",
        "print(\"   This could indicate some degree of overfitting, and further regularization might be beneficial.\")\n",
        "print(\"5. The final learning rate of 0.008900 suggests that the learning rate scheduling worked as expected.\")\n",
        "print(\"\\nRecommendations:\")\n",
        "print(\"1. Consider applying additional regularization techniques to reduce the gap between training and validation losses.\")\n",
        "print(\"2. Experiment with data augmentation to improve performance on stricter IoU thresholds.\")\n",
        "print(\"3. If possible, evaluate the model on a separate test set to get a more accurate measure of its generalization ability.\")\n",
        "print(\"4. For future training runs, consider implementing early stopping to prevent potential overfitting.\")"
      ]
    },
    {
      "cell_type": "code",
      "execution_count": null,
      "metadata": {
        "colab": {
          "base_uri": "https://localhost:8080/"
        },
        "collapsed": true,
        "id": "iLYCgZVvhu60",
        "outputId": "7c9cf315-565f-4280-8ab4-8988842f1a23"
      },
      "outputs": [
        {
          "name": "stdout",
          "output_type": "stream",
          "text": [
            "파일 복사 완료: /content/drive/MyDrive/dataset/valid/images/200800284/200800284_001.jpg -> /content/drive/MyDrive/dataset/valid/images/200800284_001.jpg\n",
            "파일 복사 완료: /content/drive/MyDrive/dataset/valid/images/200800284/200800284_003.jpg -> /content/drive/MyDrive/dataset/valid/images/200800284_003.jpg\n",
            "파일 복사 완료: /content/drive/MyDrive/dataset/valid/images/200800284/200800284_002.jpg -> /content/drive/MyDrive/dataset/valid/images/200800284_002.jpg\n",
            "파일 복사 완료: /content/drive/MyDrive/dataset/valid/images/200800284/200800284_004.jpg -> /content/drive/MyDrive/dataset/valid/images/200800284_004.jpg\n",
            "파일 복사 완료: /content/drive/MyDrive/dataset/valid/images/200800284/200800284_005.jpg -> /content/drive/MyDrive/dataset/valid/images/200800284_005.jpg\n",
            "파일 복사 완료: /content/drive/MyDrive/dataset/valid/images/200800284/200800284_006.jpg -> /content/drive/MyDrive/dataset/valid/images/200800284_006.jpg\n",
            "파일 복사 완료: /content/drive/MyDrive/dataset/valid/images/200800284/200800284_007.jpg -> /content/drive/MyDrive/dataset/valid/images/200800284_007.jpg\n",
            "파일 복사 완료: /content/drive/MyDrive/dataset/valid/images/200800284/200800284_008.jpg -> /content/drive/MyDrive/dataset/valid/images/200800284_008.jpg\n",
            "파일 복사 완료: /content/drive/MyDrive/dataset/valid/images/200800284/200800284_009.jpg -> /content/drive/MyDrive/dataset/valid/images/200800284_009.jpg\n",
            "파일 복사 완료: /content/drive/MyDrive/dataset/valid/images/200800284/200800284_010.jpg -> /content/drive/MyDrive/dataset/valid/images/200800284_010.jpg\n",
            "파일 복사 완료: /content/drive/MyDrive/dataset/valid/images/200800284/200800284_012.jpg -> /content/drive/MyDrive/dataset/valid/images/200800284_012.jpg\n",
            "파일 복사 완료: /content/drive/MyDrive/dataset/valid/images/200800284/200800284_011.jpg -> /content/drive/MyDrive/dataset/valid/images/200800284_011.jpg\n",
            "파일 복사 완료: /content/drive/MyDrive/dataset/valid/images/200800284/200800284_013.jpg -> /content/drive/MyDrive/dataset/valid/images/200800284_013.jpg\n",
            "파일 복사 완료: /content/drive/MyDrive/dataset/valid/images/200800284/200800284_015.jpg -> /content/drive/MyDrive/dataset/valid/images/200800284_015.jpg\n",
            "파일 복사 완료: /content/drive/MyDrive/dataset/valid/images/200800284/200800284_014.jpg -> /content/drive/MyDrive/dataset/valid/images/200800284_014.jpg\n",
            "파일 복사 완료: /content/drive/MyDrive/dataset/valid/images/200800284/200800284_016.jpg -> /content/drive/MyDrive/dataset/valid/images/200800284_016.jpg\n",
            "파일 복사 완료: /content/drive/MyDrive/dataset/valid/images/200800284/200800284_017.jpg -> /content/drive/MyDrive/dataset/valid/images/200800284_017.jpg\n",
            "파일 복사 완료: /content/drive/MyDrive/dataset/valid/images/200800284/200800284_018.jpg -> /content/drive/MyDrive/dataset/valid/images/200800284_018.jpg\n",
            "파일 복사 완료: /content/drive/MyDrive/dataset/valid/images/200800284/200800284_019.jpg -> /content/drive/MyDrive/dataset/valid/images/200800284_019.jpg\n",
            "파일 복사 완료: /content/drive/MyDrive/dataset/valid/images/200800284/200800284_020.jpg -> /content/drive/MyDrive/dataset/valid/images/200800284_020.jpg\n",
            "파일 복사 완료: /content/drive/MyDrive/dataset/valid/images/200800284/200800284_021.jpg -> /content/drive/MyDrive/dataset/valid/images/200800284_021.jpg\n",
            "파일 복사 완료: /content/drive/MyDrive/dataset/valid/images/200800284/200800284_022.jpg -> /content/drive/MyDrive/dataset/valid/images/200800284_022.jpg\n",
            "파일 복사 완료: /content/drive/MyDrive/dataset/valid/images/200800284/200800284_023.jpg -> /content/drive/MyDrive/dataset/valid/images/200800284_023.jpg\n",
            "파일 복사 완료: /content/drive/MyDrive/dataset/valid/images/200800284/200800284_025.jpg -> /content/drive/MyDrive/dataset/valid/images/200800284_025.jpg\n",
            "파일 복사 완료: /content/drive/MyDrive/dataset/valid/images/200800284/200800284_024.jpg -> /content/drive/MyDrive/dataset/valid/images/200800284_024.jpg\n",
            "파일 복사 완료: /content/drive/MyDrive/dataset/valid/images/200800284/200800284_026.jpg -> /content/drive/MyDrive/dataset/valid/images/200800284_026.jpg\n",
            "파일 복사 완료: /content/drive/MyDrive/dataset/valid/images/200800284/200800284_028.jpg -> /content/drive/MyDrive/dataset/valid/images/200800284_028.jpg\n",
            "파일 복사 완료: /content/drive/MyDrive/dataset/valid/images/200800284/200800284_027.jpg -> /content/drive/MyDrive/dataset/valid/images/200800284_027.jpg\n",
            "파일 복사 완료: /content/drive/MyDrive/dataset/valid/images/200800284/200800284_029.jpg -> /content/drive/MyDrive/dataset/valid/images/200800284_029.jpg\n",
            "파일 복사 완료: /content/drive/MyDrive/dataset/valid/images/200800284/200800284_030.jpg -> /content/drive/MyDrive/dataset/valid/images/200800284_030.jpg\n",
            "파일 복사 완료: /content/drive/MyDrive/dataset/valid/images/200800284/200800284_031.jpg -> /content/drive/MyDrive/dataset/valid/images/200800284_031.jpg\n",
            "파일 복사 완료: /content/drive/MyDrive/dataset/valid/images/200800284/200800284_032.jpg -> /content/drive/MyDrive/dataset/valid/images/200800284_032.jpg\n",
            "파일 복사 완료: /content/drive/MyDrive/dataset/valid/images/200800284/200800284_033.jpg -> /content/drive/MyDrive/dataset/valid/images/200800284_033.jpg\n",
            "파일 복사 완료: /content/drive/MyDrive/dataset/valid/images/200800284/200800284_034.jpg -> /content/drive/MyDrive/dataset/valid/images/200800284_034.jpg\n",
            "파일 복사 완료: /content/drive/MyDrive/dataset/valid/images/200800284/200800284_035.jpg -> /content/drive/MyDrive/dataset/valid/images/200800284_035.jpg\n",
            "파일 복사 완료: /content/drive/MyDrive/dataset/valid/images/200800284/200800284_037.jpg -> /content/drive/MyDrive/dataset/valid/images/200800284_037.jpg\n",
            "파일 복사 완료: /content/drive/MyDrive/dataset/valid/images/200800284/200800284_036.jpg -> /content/drive/MyDrive/dataset/valid/images/200800284_036.jpg\n",
            "파일 복사 완료: /content/drive/MyDrive/dataset/valid/images/200800284/200800284_038.jpg -> /content/drive/MyDrive/dataset/valid/images/200800284_038.jpg\n",
            "파일 복사 완료: /content/drive/MyDrive/dataset/valid/images/200800284/200800284_040.jpg -> /content/drive/MyDrive/dataset/valid/images/200800284_040.jpg\n",
            "파일 복사 완료: /content/drive/MyDrive/dataset/valid/images/200800284/200800284_039.jpg -> /content/drive/MyDrive/dataset/valid/images/200800284_039.jpg\n",
            "파일 복사 완료: /content/drive/MyDrive/dataset/valid/images/200800291/200800291_002.jpg -> /content/drive/MyDrive/dataset/valid/images/200800291_002.jpg\n",
            "파일 복사 완료: /content/drive/MyDrive/dataset/valid/images/200800291/200800291_001.jpg -> /content/drive/MyDrive/dataset/valid/images/200800291_001.jpg\n",
            "파일 복사 완료: /content/drive/MyDrive/dataset/valid/images/200800291/200800291_003.jpg -> /content/drive/MyDrive/dataset/valid/images/200800291_003.jpg\n",
            "파일 복사 완료: /content/drive/MyDrive/dataset/valid/images/200800291/200800291_005.jpg -> /content/drive/MyDrive/dataset/valid/images/200800291_005.jpg\n",
            "파일 복사 완료: /content/drive/MyDrive/dataset/valid/images/200800291/200800291_004.jpg -> /content/drive/MyDrive/dataset/valid/images/200800291_004.jpg\n",
            "파일 복사 완료: /content/drive/MyDrive/dataset/valid/images/200800291/200800291_006.jpg -> /content/drive/MyDrive/dataset/valid/images/200800291_006.jpg\n",
            "파일 복사 완료: /content/drive/MyDrive/dataset/valid/images/200800291/200800291_008.jpg -> /content/drive/MyDrive/dataset/valid/images/200800291_008.jpg\n",
            "파일 복사 완료: /content/drive/MyDrive/dataset/valid/images/200800291/200800291_007.jpg -> /content/drive/MyDrive/dataset/valid/images/200800291_007.jpg\n",
            "파일 복사 완료: /content/drive/MyDrive/dataset/valid/images/200800291/200800291_009.jpg -> /content/drive/MyDrive/dataset/valid/images/200800291_009.jpg\n",
            "파일 복사 완료: /content/drive/MyDrive/dataset/valid/images/200800291/200800291_010.jpg -> /content/drive/MyDrive/dataset/valid/images/200800291_010.jpg\n",
            "파일 복사 완료: /content/drive/MyDrive/dataset/valid/images/200800291/200800291_011.jpg -> /content/drive/MyDrive/dataset/valid/images/200800291_011.jpg\n",
            "파일 복사 완료: /content/drive/MyDrive/dataset/valid/images/200800291/200800291_012.jpg -> /content/drive/MyDrive/dataset/valid/images/200800291_012.jpg\n",
            "파일 복사 완료: /content/drive/MyDrive/dataset/valid/images/200800291/200800291_014.jpg -> /content/drive/MyDrive/dataset/valid/images/200800291_014.jpg\n",
            "파일 복사 완료: /content/drive/MyDrive/dataset/valid/images/200800291/200800291_013.jpg -> /content/drive/MyDrive/dataset/valid/images/200800291_013.jpg\n",
            "파일 복사 완료: /content/drive/MyDrive/dataset/valid/images/200800291/200800291_015.jpg -> /content/drive/MyDrive/dataset/valid/images/200800291_015.jpg\n",
            "파일 복사 완료: /content/drive/MyDrive/dataset/valid/images/200800291/200800291_017.jpg -> /content/drive/MyDrive/dataset/valid/images/200800291_017.jpg\n",
            "파일 복사 완료: /content/drive/MyDrive/dataset/valid/images/200800291/200800291_016.jpg -> /content/drive/MyDrive/dataset/valid/images/200800291_016.jpg\n",
            "파일 복사 완료: /content/drive/MyDrive/dataset/valid/images/200800291/200800291_018.jpg -> /content/drive/MyDrive/dataset/valid/images/200800291_018.jpg\n",
            "파일 복사 완료: /content/drive/MyDrive/dataset/valid/images/200800291/200800291_019.jpg -> /content/drive/MyDrive/dataset/valid/images/200800291_019.jpg\n",
            "파일 복사 완료: /content/drive/MyDrive/dataset/valid/images/200800291/200800291_020.jpg -> /content/drive/MyDrive/dataset/valid/images/200800291_020.jpg\n",
            "파일 복사 완료: /content/drive/MyDrive/dataset/valid/images/200800291/200800291_021.jpg -> /content/drive/MyDrive/dataset/valid/images/200800291_021.jpg\n",
            "파일 복사 완료: /content/drive/MyDrive/dataset/valid/images/200800291/200800291_022.jpg -> /content/drive/MyDrive/dataset/valid/images/200800291_022.jpg\n",
            "파일 복사 완료: /content/drive/MyDrive/dataset/valid/images/200800291/200800291_023.jpg -> /content/drive/MyDrive/dataset/valid/images/200800291_023.jpg\n",
            "파일 복사 완료: /content/drive/MyDrive/dataset/valid/images/200800291/200800291_024.jpg -> /content/drive/MyDrive/dataset/valid/images/200800291_024.jpg\n",
            "파일 복사 완료: /content/drive/MyDrive/dataset/valid/images/200800291/200800291_025.jpg -> /content/drive/MyDrive/dataset/valid/images/200800291_025.jpg\n",
            "파일 복사 완료: /content/drive/MyDrive/dataset/valid/images/200800291/200800291_026.jpg -> /content/drive/MyDrive/dataset/valid/images/200800291_026.jpg\n",
            "파일 복사 완료: /content/drive/MyDrive/dataset/valid/images/200800291/200800291_027.jpg -> /content/drive/MyDrive/dataset/valid/images/200800291_027.jpg\n",
            "파일 복사 완료: /content/drive/MyDrive/dataset/valid/images/200800291/200800291_028.jpg -> /content/drive/MyDrive/dataset/valid/images/200800291_028.jpg\n",
            "파일 복사 완료: /content/drive/MyDrive/dataset/valid/images/200800291/200800291_029.jpg -> /content/drive/MyDrive/dataset/valid/images/200800291_029.jpg\n",
            "파일 복사 완료: /content/drive/MyDrive/dataset/valid/images/200800291/200800291_031.jpg -> /content/drive/MyDrive/dataset/valid/images/200800291_031.jpg\n",
            "파일 복사 완료: /content/drive/MyDrive/dataset/valid/images/200800291/200800291_030.jpg -> /content/drive/MyDrive/dataset/valid/images/200800291_030.jpg\n",
            "파일 복사 완료: /content/drive/MyDrive/dataset/valid/images/200800291/200800291_032.jpg -> /content/drive/MyDrive/dataset/valid/images/200800291_032.jpg\n",
            "파일 복사 완료: /content/drive/MyDrive/dataset/valid/images/200800291/200800291_034.jpg -> /content/drive/MyDrive/dataset/valid/images/200800291_034.jpg\n",
            "파일 복사 완료: /content/drive/MyDrive/dataset/valid/images/200800291/200800291_033.jpg -> /content/drive/MyDrive/dataset/valid/images/200800291_033.jpg\n",
            "파일 복사 완료: /content/drive/MyDrive/dataset/valid/images/200800291/200800291_035.jpg -> /content/drive/MyDrive/dataset/valid/images/200800291_035.jpg\n",
            "파일 복사 완료: /content/drive/MyDrive/dataset/valid/images/200800291/200800291_037.jpg -> /content/drive/MyDrive/dataset/valid/images/200800291_037.jpg\n",
            "파일 복사 완료: /content/drive/MyDrive/dataset/valid/images/200800291/200800291_036.jpg -> /content/drive/MyDrive/dataset/valid/images/200800291_036.jpg\n",
            "파일 복사 완료: /content/drive/MyDrive/dataset/valid/images/200800291/200800291_038.jpg -> /content/drive/MyDrive/dataset/valid/images/200800291_038.jpg\n",
            "파일 복사 완료: /content/drive/MyDrive/dataset/valid/images/200800291/200800291_040.jpg -> /content/drive/MyDrive/dataset/valid/images/200800291_040.jpg\n",
            "파일 복사 완료: /content/drive/MyDrive/dataset/valid/images/200800291/200800291_039.jpg -> /content/drive/MyDrive/dataset/valid/images/200800291_039.jpg\n",
            "파일 복사 완료: /content/drive/MyDrive/dataset/valid/images/200800316/200800316_001.jpg -> /content/drive/MyDrive/dataset/valid/images/200800316_001.jpg\n",
            "파일 복사 완료: /content/drive/MyDrive/dataset/valid/images/200800316/200800316_002.jpg -> /content/drive/MyDrive/dataset/valid/images/200800316_002.jpg\n",
            "파일 복사 완료: /content/drive/MyDrive/dataset/valid/images/200800316/200800316_004.jpg -> /content/drive/MyDrive/dataset/valid/images/200800316_004.jpg\n",
            "파일 복사 완료: /content/drive/MyDrive/dataset/valid/images/200800316/200800316_003.jpg -> /content/drive/MyDrive/dataset/valid/images/200800316_003.jpg\n",
            "파일 복사 완료: /content/drive/MyDrive/dataset/valid/images/200800316/200800316_005.jpg -> /content/drive/MyDrive/dataset/valid/images/200800316_005.jpg\n",
            "파일 복사 완료: /content/drive/MyDrive/dataset/valid/images/200800316/200800316_007.jpg -> /content/drive/MyDrive/dataset/valid/images/200800316_007.jpg\n",
            "파일 복사 완료: /content/drive/MyDrive/dataset/valid/images/200800316/200800316_006.jpg -> /content/drive/MyDrive/dataset/valid/images/200800316_006.jpg\n",
            "파일 복사 완료: /content/drive/MyDrive/dataset/valid/images/200800316/200800316_008.jpg -> /content/drive/MyDrive/dataset/valid/images/200800316_008.jpg\n",
            "파일 복사 완료: /content/drive/MyDrive/dataset/valid/images/200800316/200800316_009.jpg -> /content/drive/MyDrive/dataset/valid/images/200800316_009.jpg\n",
            "파일 복사 완료: /content/drive/MyDrive/dataset/valid/images/200800316/200800316_010.jpg -> /content/drive/MyDrive/dataset/valid/images/200800316_010.jpg\n",
            "파일 복사 완료: /content/drive/MyDrive/dataset/valid/images/200800316/200800316_011.jpg -> /content/drive/MyDrive/dataset/valid/images/200800316_011.jpg\n",
            "파일 복사 완료: /content/drive/MyDrive/dataset/valid/images/200800316/200800316_013.jpg -> /content/drive/MyDrive/dataset/valid/images/200800316_013.jpg\n",
            "파일 복사 완료: /content/drive/MyDrive/dataset/valid/images/200800316/200800316_012.jpg -> /content/drive/MyDrive/dataset/valid/images/200800316_012.jpg\n",
            "파일 복사 완료: /content/drive/MyDrive/dataset/valid/images/200800316/200800316_014.jpg -> /content/drive/MyDrive/dataset/valid/images/200800316_014.jpg\n",
            "파일 복사 완료: /content/drive/MyDrive/dataset/valid/images/200800316/200800316_016.jpg -> /content/drive/MyDrive/dataset/valid/images/200800316_016.jpg\n",
            "파일 복사 완료: /content/drive/MyDrive/dataset/valid/images/200800316/200800316_015.jpg -> /content/drive/MyDrive/dataset/valid/images/200800316_015.jpg\n",
            "파일 복사 완료: /content/drive/MyDrive/dataset/valid/images/200800316/200800316_017.jpg -> /content/drive/MyDrive/dataset/valid/images/200800316_017.jpg\n",
            "파일 복사 완료: /content/drive/MyDrive/dataset/valid/images/200800316/200800316_018.jpg -> /content/drive/MyDrive/dataset/valid/images/200800316_018.jpg\n",
            "파일 복사 완료: /content/drive/MyDrive/dataset/valid/images/200800316/200800316_019.jpg -> /content/drive/MyDrive/dataset/valid/images/200800316_019.jpg\n",
            "파일 복사 완료: /content/drive/MyDrive/dataset/valid/images/200800316/200800316_020.jpg -> /content/drive/MyDrive/dataset/valid/images/200800316_020.jpg\n",
            "파일 복사 완료: /content/drive/MyDrive/dataset/valid/images/200800316/200800316_021.jpg -> /content/drive/MyDrive/dataset/valid/images/200800316_021.jpg\n",
            "파일 복사 완료: /content/drive/MyDrive/dataset/valid/images/200800316/200800316_022.jpg -> /content/drive/MyDrive/dataset/valid/images/200800316_022.jpg\n",
            "파일 복사 완료: /content/drive/MyDrive/dataset/valid/images/200800316/200800316_023.jpg -> /content/drive/MyDrive/dataset/valid/images/200800316_023.jpg\n",
            "파일 복사 완료: /content/drive/MyDrive/dataset/valid/images/200800316/200800316_024.jpg -> /content/drive/MyDrive/dataset/valid/images/200800316_024.jpg\n",
            "파일 복사 완료: /content/drive/MyDrive/dataset/valid/images/200800316/200800316_025.jpg -> /content/drive/MyDrive/dataset/valid/images/200800316_025.jpg\n",
            "파일 복사 완료: /content/drive/MyDrive/dataset/valid/images/200800316/200800316_026.jpg -> /content/drive/MyDrive/dataset/valid/images/200800316_026.jpg\n",
            "파일 복사 완료: /content/drive/MyDrive/dataset/valid/images/200800316/200800316_027.jpg -> /content/drive/MyDrive/dataset/valid/images/200800316_027.jpg\n",
            "파일 복사 완료: /content/drive/MyDrive/dataset/valid/images/200800316/200800316_028.jpg -> /content/drive/MyDrive/dataset/valid/images/200800316_028.jpg\n",
            "파일 복사 완료: /content/drive/MyDrive/dataset/valid/images/200800316/200800316_029.jpg -> /content/drive/MyDrive/dataset/valid/images/200800316_029.jpg\n",
            "파일 복사 완료: /content/drive/MyDrive/dataset/valid/images/200800316/200800316_030.jpg -> /content/drive/MyDrive/dataset/valid/images/200800316_030.jpg\n",
            "파일 복사 완료: /content/drive/MyDrive/dataset/valid/images/200800316/200800316_031.jpg -> /content/drive/MyDrive/dataset/valid/images/200800316_031.jpg\n",
            "파일 복사 완료: /content/drive/MyDrive/dataset/valid/images/200800316/200800316_032.jpg -> /content/drive/MyDrive/dataset/valid/images/200800316_032.jpg\n",
            "파일 복사 완료: /content/drive/MyDrive/dataset/valid/images/200800316/200800316_033.jpg -> /content/drive/MyDrive/dataset/valid/images/200800316_033.jpg\n",
            "파일 복사 완료: /content/drive/MyDrive/dataset/valid/images/200800316/200800316_034.jpg -> /content/drive/MyDrive/dataset/valid/images/200800316_034.jpg\n",
            "파일 복사 완료: /content/drive/MyDrive/dataset/valid/images/200800316/200800316_035.jpg -> /content/drive/MyDrive/dataset/valid/images/200800316_035.jpg\n",
            "파일 복사 완료: /content/drive/MyDrive/dataset/valid/images/200800316/200800316_037.jpg -> /content/drive/MyDrive/dataset/valid/images/200800316_037.jpg\n",
            "파일 복사 완료: /content/drive/MyDrive/dataset/valid/images/200800316/200800316_036.jpg -> /content/drive/MyDrive/dataset/valid/images/200800316_036.jpg\n",
            "파일 복사 완료: /content/drive/MyDrive/dataset/valid/images/200800316/200800316_038.jpg -> /content/drive/MyDrive/dataset/valid/images/200800316_038.jpg\n",
            "파일 복사 완료: /content/drive/MyDrive/dataset/valid/images/200800316/200800316_039.jpg -> /content/drive/MyDrive/dataset/valid/images/200800316_039.jpg\n",
            "파일 복사 완료: /content/drive/MyDrive/dataset/valid/images/200800316/200800316_040.jpg -> /content/drive/MyDrive/dataset/valid/images/200800316_040.jpg\n",
            "파일 복사 완료: /content/drive/MyDrive/dataset/valid/images/200800320/200800320_002.jpg -> /content/drive/MyDrive/dataset/valid/images/200800320_002.jpg\n",
            "파일 복사 완료: /content/drive/MyDrive/dataset/valid/images/200800320/200800320_001.jpg -> /content/drive/MyDrive/dataset/valid/images/200800320_001.jpg\n",
            "파일 복사 완료: /content/drive/MyDrive/dataset/valid/images/200800320/200800320_003.jpg -> /content/drive/MyDrive/dataset/valid/images/200800320_003.jpg\n",
            "파일 복사 완료: /content/drive/MyDrive/dataset/valid/images/200800320/200800320_005.jpg -> /content/drive/MyDrive/dataset/valid/images/200800320_005.jpg\n",
            "파일 복사 완료: /content/drive/MyDrive/dataset/valid/images/200800320/200800320_004.jpg -> /content/drive/MyDrive/dataset/valid/images/200800320_004.jpg\n",
            "파일 복사 완료: /content/drive/MyDrive/dataset/valid/images/200800320/200800320_006.jpg -> /content/drive/MyDrive/dataset/valid/images/200800320_006.jpg\n",
            "파일 복사 완료: /content/drive/MyDrive/dataset/valid/images/200800320/200800320_008.jpg -> /content/drive/MyDrive/dataset/valid/images/200800320_008.jpg\n",
            "파일 복사 완료: /content/drive/MyDrive/dataset/valid/images/200800320/200800320_007.jpg -> /content/drive/MyDrive/dataset/valid/images/200800320_007.jpg\n",
            "파일 복사 완료: /content/drive/MyDrive/dataset/valid/images/200800320/200800320_009.jpg -> /content/drive/MyDrive/dataset/valid/images/200800320_009.jpg\n",
            "파일 복사 완료: /content/drive/MyDrive/dataset/valid/images/200800320/200800320_011.jpg -> /content/drive/MyDrive/dataset/valid/images/200800320_011.jpg\n",
            "파일 복사 완료: /content/drive/MyDrive/dataset/valid/images/200800320/200800320_010.jpg -> /content/drive/MyDrive/dataset/valid/images/200800320_010.jpg\n",
            "파일 복사 완료: /content/drive/MyDrive/dataset/valid/images/200800320/200800320_012.jpg -> /content/drive/MyDrive/dataset/valid/images/200800320_012.jpg\n",
            "파일 복사 완료: /content/drive/MyDrive/dataset/valid/images/200800320/200800320_014.jpg -> /content/drive/MyDrive/dataset/valid/images/200800320_014.jpg\n",
            "파일 복사 완료: /content/drive/MyDrive/dataset/valid/images/200800320/200800320_013.jpg -> /content/drive/MyDrive/dataset/valid/images/200800320_013.jpg\n",
            "파일 복사 완료: /content/drive/MyDrive/dataset/valid/images/200800320/200800320_015.jpg -> /content/drive/MyDrive/dataset/valid/images/200800320_015.jpg\n",
            "파일 복사 완료: /content/drive/MyDrive/dataset/valid/images/200800320/200800320_017.jpg -> /content/drive/MyDrive/dataset/valid/images/200800320_017.jpg\n",
            "파일 복사 완료: /content/drive/MyDrive/dataset/valid/images/200800320/200800320_016.jpg -> /content/drive/MyDrive/dataset/valid/images/200800320_016.jpg\n",
            "파일 복사 완료: /content/drive/MyDrive/dataset/valid/images/200800320/200800320_018.jpg -> /content/drive/MyDrive/dataset/valid/images/200800320_018.jpg\n",
            "파일 복사 완료: /content/drive/MyDrive/dataset/valid/images/200800320/200800320_019.jpg -> /content/drive/MyDrive/dataset/valid/images/200800320_019.jpg\n",
            "파일 복사 완료: /content/drive/MyDrive/dataset/valid/images/200800320/200800320_020.jpg -> /content/drive/MyDrive/dataset/valid/images/200800320_020.jpg\n",
            "파일 복사 완료: /content/drive/MyDrive/dataset/valid/images/200800320/200800320_021.jpg -> /content/drive/MyDrive/dataset/valid/images/200800320_021.jpg\n",
            "파일 복사 완료: /content/drive/MyDrive/dataset/valid/images/200800320/200800320_022.jpg -> /content/drive/MyDrive/dataset/valid/images/200800320_022.jpg\n",
            "파일 복사 완료: /content/drive/MyDrive/dataset/valid/images/200800320/200800320_024.jpg -> /content/drive/MyDrive/dataset/valid/images/200800320_024.jpg\n",
            "파일 복사 완료: /content/drive/MyDrive/dataset/valid/images/200800320/200800320_023.jpg -> /content/drive/MyDrive/dataset/valid/images/200800320_023.jpg\n",
            "파일 복사 완료: /content/drive/MyDrive/dataset/valid/images/200800320/200800320_025.jpg -> /content/drive/MyDrive/dataset/valid/images/200800320_025.jpg\n",
            "파일 복사 완료: /content/drive/MyDrive/dataset/valid/images/200800320/200800320_026.jpg -> /content/drive/MyDrive/dataset/valid/images/200800320_026.jpg\n",
            "파일 복사 완료: /content/drive/MyDrive/dataset/valid/images/200800320/200800320_027.jpg -> /content/drive/MyDrive/dataset/valid/images/200800320_027.jpg\n",
            "파일 복사 완료: /content/drive/MyDrive/dataset/valid/images/200800320/200800320_028.jpg -> /content/drive/MyDrive/dataset/valid/images/200800320_028.jpg\n",
            "파일 복사 완료: /content/drive/MyDrive/dataset/valid/images/200800320/200800320_030.jpg -> /content/drive/MyDrive/dataset/valid/images/200800320_030.jpg\n",
            "파일 복사 완료: /content/drive/MyDrive/dataset/valid/images/200800320/200800320_029.jpg -> /content/drive/MyDrive/dataset/valid/images/200800320_029.jpg\n",
            "파일 복사 완료: /content/drive/MyDrive/dataset/valid/images/200800320/200800320_031.jpg -> /content/drive/MyDrive/dataset/valid/images/200800320_031.jpg\n",
            "파일 복사 완료: /content/drive/MyDrive/dataset/valid/images/200800320/200800320_033.jpg -> /content/drive/MyDrive/dataset/valid/images/200800320_033.jpg\n",
            "파일 복사 완료: /content/drive/MyDrive/dataset/valid/images/200800320/200800320_032.jpg -> /content/drive/MyDrive/dataset/valid/images/200800320_032.jpg\n",
            "파일 복사 완료: /content/drive/MyDrive/dataset/valid/images/200800320/200800320_034.jpg -> /content/drive/MyDrive/dataset/valid/images/200800320_034.jpg\n",
            "파일 복사 완료: /content/drive/MyDrive/dataset/valid/images/200800320/200800320_035.jpg -> /content/drive/MyDrive/dataset/valid/images/200800320_035.jpg\n",
            "파일 복사 완료: /content/drive/MyDrive/dataset/valid/images/200800320/200800320_036.jpg -> /content/drive/MyDrive/dataset/valid/images/200800320_036.jpg\n",
            "파일 복사 완료: /content/drive/MyDrive/dataset/valid/images/200800320/200800320_037.jpg -> /content/drive/MyDrive/dataset/valid/images/200800320_037.jpg\n",
            "파일 복사 완료: /content/drive/MyDrive/dataset/valid/images/200800320/200800320_038.jpg -> /content/drive/MyDrive/dataset/valid/images/200800320_038.jpg\n",
            "파일 복사 완료: /content/drive/MyDrive/dataset/valid/images/200800320/200800320_039.jpg -> /content/drive/MyDrive/dataset/valid/images/200800320_039.jpg\n",
            "파일 복사 완료: /content/drive/MyDrive/dataset/valid/images/200800320/200800320_040.jpg -> /content/drive/MyDrive/dataset/valid/images/200800320_040.jpg\n",
            "파일 복사 완료: /content/drive/MyDrive/dataset/valid/images/200800330/200800330_001.jpg -> /content/drive/MyDrive/dataset/valid/images/200800330_001.jpg\n",
            "파일 복사 완료: /content/drive/MyDrive/dataset/valid/images/200800330/200800330_002.jpg -> /content/drive/MyDrive/dataset/valid/images/200800330_002.jpg\n",
            "파일 복사 완료: /content/drive/MyDrive/dataset/valid/images/200800330/200800330_003.jpg -> /content/drive/MyDrive/dataset/valid/images/200800330_003.jpg\n",
            "파일 복사 완료: /content/drive/MyDrive/dataset/valid/images/200800330/200800330_004.jpg -> /content/drive/MyDrive/dataset/valid/images/200800330_004.jpg\n",
            "파일 복사 완료: /content/drive/MyDrive/dataset/valid/images/200800330/200800330_005.jpg -> /content/drive/MyDrive/dataset/valid/images/200800330_005.jpg\n",
            "파일 복사 완료: /content/drive/MyDrive/dataset/valid/images/200800330/200800330_006.jpg -> /content/drive/MyDrive/dataset/valid/images/200800330_006.jpg\n",
            "파일 복사 완료: /content/drive/MyDrive/dataset/valid/images/200800330/200800330_007.jpg -> /content/drive/MyDrive/dataset/valid/images/200800330_007.jpg\n",
            "파일 복사 완료: /content/drive/MyDrive/dataset/valid/images/200800330/200800330_008.jpg -> /content/drive/MyDrive/dataset/valid/images/200800330_008.jpg\n",
            "파일 복사 완료: /content/drive/MyDrive/dataset/valid/images/200800330/200800330_009.jpg -> /content/drive/MyDrive/dataset/valid/images/200800330_009.jpg\n",
            "파일 복사 완료: /content/drive/MyDrive/dataset/valid/images/200800330/200800330_010.jpg -> /content/drive/MyDrive/dataset/valid/images/200800330_010.jpg\n",
            "파일 복사 완료: /content/drive/MyDrive/dataset/valid/images/200800330/200800330_011.jpg -> /content/drive/MyDrive/dataset/valid/images/200800330_011.jpg\n",
            "파일 복사 완료: /content/drive/MyDrive/dataset/valid/images/200800330/200800330_012.jpg -> /content/drive/MyDrive/dataset/valid/images/200800330_012.jpg\n",
            "파일 복사 완료: /content/drive/MyDrive/dataset/valid/images/200800330/200800330_013.jpg -> /content/drive/MyDrive/dataset/valid/images/200800330_013.jpg\n",
            "파일 복사 완료: /content/drive/MyDrive/dataset/valid/images/200800330/200800330_014.jpg -> /content/drive/MyDrive/dataset/valid/images/200800330_014.jpg\n",
            "파일 복사 완료: /content/drive/MyDrive/dataset/valid/images/200800330/200800330_015.jpg -> /content/drive/MyDrive/dataset/valid/images/200800330_015.jpg\n",
            "파일 복사 완료: /content/drive/MyDrive/dataset/valid/images/200800330/200800330_016.jpg -> /content/drive/MyDrive/dataset/valid/images/200800330_016.jpg\n",
            "파일 복사 완료: /content/drive/MyDrive/dataset/valid/images/200800330/200800330_017.jpg -> /content/drive/MyDrive/dataset/valid/images/200800330_017.jpg\n",
            "파일 복사 완료: /content/drive/MyDrive/dataset/valid/images/200800330/200800330_018.jpg -> /content/drive/MyDrive/dataset/valid/images/200800330_018.jpg\n",
            "파일 복사 완료: /content/drive/MyDrive/dataset/valid/images/200800330/200800330_019.jpg -> /content/drive/MyDrive/dataset/valid/images/200800330_019.jpg\n",
            "파일 복사 완료: /content/drive/MyDrive/dataset/valid/images/200800330/200800330_020.jpg -> /content/drive/MyDrive/dataset/valid/images/200800330_020.jpg\n",
            "파일 복사 완료: /content/drive/MyDrive/dataset/valid/images/200800330/200800330_021.jpg -> /content/drive/MyDrive/dataset/valid/images/200800330_021.jpg\n",
            "파일 복사 완료: /content/drive/MyDrive/dataset/valid/images/200800330/200800330_022.jpg -> /content/drive/MyDrive/dataset/valid/images/200800330_022.jpg\n",
            "파일 복사 완료: /content/drive/MyDrive/dataset/valid/images/200800330/200800330_024.jpg -> /content/drive/MyDrive/dataset/valid/images/200800330_024.jpg\n",
            "파일 복사 완료: /content/drive/MyDrive/dataset/valid/images/200800330/200800330_023.jpg -> /content/drive/MyDrive/dataset/valid/images/200800330_023.jpg\n",
            "파일 복사 완료: /content/drive/MyDrive/dataset/valid/images/200800330/200800330_025.jpg -> /content/drive/MyDrive/dataset/valid/images/200800330_025.jpg\n",
            "파일 복사 완료: /content/drive/MyDrive/dataset/valid/images/200800330/200800330_026.jpg -> /content/drive/MyDrive/dataset/valid/images/200800330_026.jpg\n",
            "파일 복사 완료: /content/drive/MyDrive/dataset/valid/images/200800330/200800330_027.jpg -> /content/drive/MyDrive/dataset/valid/images/200800330_027.jpg\n",
            "파일 복사 완료: /content/drive/MyDrive/dataset/valid/images/200800330/200800330_028.jpg -> /content/drive/MyDrive/dataset/valid/images/200800330_028.jpg\n",
            "파일 복사 완료: /content/drive/MyDrive/dataset/valid/images/200800330/200800330_030.jpg -> /content/drive/MyDrive/dataset/valid/images/200800330_030.jpg\n",
            "파일 복사 완료: /content/drive/MyDrive/dataset/valid/images/200800330/200800330_029.jpg -> /content/drive/MyDrive/dataset/valid/images/200800330_029.jpg\n",
            "파일 복사 완료: /content/drive/MyDrive/dataset/valid/images/200800330/200800330_031.jpg -> /content/drive/MyDrive/dataset/valid/images/200800330_031.jpg\n",
            "파일 복사 완료: /content/drive/MyDrive/dataset/valid/images/200800330/200800330_032.jpg -> /content/drive/MyDrive/dataset/valid/images/200800330_032.jpg\n",
            "파일 복사 완료: /content/drive/MyDrive/dataset/valid/images/200800330/200800330_033.jpg -> /content/drive/MyDrive/dataset/valid/images/200800330_033.jpg\n",
            "파일 복사 완료: /content/drive/MyDrive/dataset/valid/images/200800330/200800330_034.jpg -> /content/drive/MyDrive/dataset/valid/images/200800330_034.jpg\n",
            "파일 복사 완료: /content/drive/MyDrive/dataset/valid/images/200800330/200800330_036.jpg -> /content/drive/MyDrive/dataset/valid/images/200800330_036.jpg\n",
            "파일 복사 완료: /content/drive/MyDrive/dataset/valid/images/200800330/200800330_035.jpg -> /content/drive/MyDrive/dataset/valid/images/200800330_035.jpg\n",
            "파일 복사 완료: /content/drive/MyDrive/dataset/valid/images/200800330/200800330_037.jpg -> /content/drive/MyDrive/dataset/valid/images/200800330_037.jpg\n",
            "파일 복사 완료: /content/drive/MyDrive/dataset/valid/images/200800330/200800330_039.jpg -> /content/drive/MyDrive/dataset/valid/images/200800330_039.jpg\n",
            "파일 복사 완료: /content/drive/MyDrive/dataset/valid/images/200800330/200800330_038.jpg -> /content/drive/MyDrive/dataset/valid/images/200800330_038.jpg\n",
            "파일 복사 완료: /content/drive/MyDrive/dataset/valid/images/200800330/200800330_040.jpg -> /content/drive/MyDrive/dataset/valid/images/200800330_040.jpg\n",
            "파일 복사 완료: /content/drive/MyDrive/dataset/valid/images/200800331/200800331_001.jpg -> /content/drive/MyDrive/dataset/valid/images/200800331_001.jpg\n",
            "파일 복사 완료: /content/drive/MyDrive/dataset/valid/images/200800331/200800331_002.jpg -> /content/drive/MyDrive/dataset/valid/images/200800331_002.jpg\n",
            "파일 복사 완료: /content/drive/MyDrive/dataset/valid/images/200800331/200800331_004.jpg -> /content/drive/MyDrive/dataset/valid/images/200800331_004.jpg\n",
            "파일 복사 완료: /content/drive/MyDrive/dataset/valid/images/200800331/200800331_003.jpg -> /content/drive/MyDrive/dataset/valid/images/200800331_003.jpg\n",
            "파일 복사 완료: /content/drive/MyDrive/dataset/valid/images/200800331/200800331_005.jpg -> /content/drive/MyDrive/dataset/valid/images/200800331_005.jpg\n",
            "파일 복사 완료: /content/drive/MyDrive/dataset/valid/images/200800331/200800331_006.jpg -> /content/drive/MyDrive/dataset/valid/images/200800331_006.jpg\n",
            "파일 복사 완료: /content/drive/MyDrive/dataset/valid/images/200800331/200800331_007.jpg -> /content/drive/MyDrive/dataset/valid/images/200800331_007.jpg\n",
            "파일 복사 완료: /content/drive/MyDrive/dataset/valid/images/200800331/200800331_008.jpg -> /content/drive/MyDrive/dataset/valid/images/200800331_008.jpg\n",
            "파일 복사 완료: /content/drive/MyDrive/dataset/valid/images/200800331/200800331_009.jpg -> /content/drive/MyDrive/dataset/valid/images/200800331_009.jpg\n",
            "파일 복사 완료: /content/drive/MyDrive/dataset/valid/images/200800331/200800331_010.jpg -> /content/drive/MyDrive/dataset/valid/images/200800331_010.jpg\n",
            "파일 복사 완료: /content/drive/MyDrive/dataset/valid/images/200800331/200800331_011.jpg -> /content/drive/MyDrive/dataset/valid/images/200800331_011.jpg\n",
            "파일 복사 완료: /content/drive/MyDrive/dataset/valid/images/200800331/200800331_012.jpg -> /content/drive/MyDrive/dataset/valid/images/200800331_012.jpg\n",
            "파일 복사 완료: /content/drive/MyDrive/dataset/valid/images/200800331/200800331_013.jpg -> /content/drive/MyDrive/dataset/valid/images/200800331_013.jpg\n",
            "파일 복사 완료: /content/drive/MyDrive/dataset/valid/images/200800331/200800331_014.jpg -> /content/drive/MyDrive/dataset/valid/images/200800331_014.jpg\n",
            "파일 복사 완료: /content/drive/MyDrive/dataset/valid/images/200800331/200800331_015.jpg -> /content/drive/MyDrive/dataset/valid/images/200800331_015.jpg\n",
            "파일 복사 완료: /content/drive/MyDrive/dataset/valid/images/200800331/200800331_016.jpg -> /content/drive/MyDrive/dataset/valid/images/200800331_016.jpg\n",
            "파일 복사 완료: /content/drive/MyDrive/dataset/valid/images/200800331/200800331_017.jpg -> /content/drive/MyDrive/dataset/valid/images/200800331_017.jpg\n",
            "파일 복사 완료: /content/drive/MyDrive/dataset/valid/images/200800331/200800331_018.jpg -> /content/drive/MyDrive/dataset/valid/images/200800331_018.jpg\n",
            "파일 복사 완료: /content/drive/MyDrive/dataset/valid/images/200800331/200800331_019.jpg -> /content/drive/MyDrive/dataset/valid/images/200800331_019.jpg\n",
            "파일 복사 완료: /content/drive/MyDrive/dataset/valid/images/200800331/200800331_020.jpg -> /content/drive/MyDrive/dataset/valid/images/200800331_020.jpg\n",
            "파일 복사 완료: /content/drive/MyDrive/dataset/valid/images/200800331/200800331_021.jpg -> /content/drive/MyDrive/dataset/valid/images/200800331_021.jpg\n",
            "파일 복사 완료: /content/drive/MyDrive/dataset/valid/images/200800331/200800331_022.jpg -> /content/drive/MyDrive/dataset/valid/images/200800331_022.jpg\n",
            "파일 복사 완료: /content/drive/MyDrive/dataset/valid/images/200800331/200800331_023.jpg -> /content/drive/MyDrive/dataset/valid/images/200800331_023.jpg\n",
            "파일 복사 완료: /content/drive/MyDrive/dataset/valid/images/200800331/200800331_024.jpg -> /content/drive/MyDrive/dataset/valid/images/200800331_024.jpg\n",
            "파일 복사 완료: /content/drive/MyDrive/dataset/valid/images/200800331/200800331_025.jpg -> /content/drive/MyDrive/dataset/valid/images/200800331_025.jpg\n",
            "파일 복사 완료: /content/drive/MyDrive/dataset/valid/images/200800331/200800331_026.jpg -> /content/drive/MyDrive/dataset/valid/images/200800331_026.jpg\n",
            "파일 복사 완료: /content/drive/MyDrive/dataset/valid/images/200800331/200800331_027.jpg -> /content/drive/MyDrive/dataset/valid/images/200800331_027.jpg\n",
            "파일 복사 완료: /content/drive/MyDrive/dataset/valid/images/200800331/200800331_028.jpg -> /content/drive/MyDrive/dataset/valid/images/200800331_028.jpg\n",
            "파일 복사 완료: /content/drive/MyDrive/dataset/valid/images/200800331/200800331_030.jpg -> /content/drive/MyDrive/dataset/valid/images/200800331_030.jpg\n",
            "파일 복사 완료: /content/drive/MyDrive/dataset/valid/images/200800331/200800331_029.jpg -> /content/drive/MyDrive/dataset/valid/images/200800331_029.jpg\n",
            "파일 복사 완료: /content/drive/MyDrive/dataset/valid/images/200800331/200800331_031.jpg -> /content/drive/MyDrive/dataset/valid/images/200800331_031.jpg\n",
            "파일 복사 완료: /content/drive/MyDrive/dataset/valid/images/200800331/200800331_032.jpg -> /content/drive/MyDrive/dataset/valid/images/200800331_032.jpg\n",
            "파일 복사 완료: /content/drive/MyDrive/dataset/valid/images/200800331/200800331_033.jpg -> /content/drive/MyDrive/dataset/valid/images/200800331_033.jpg\n",
            "파일 복사 완료: /content/drive/MyDrive/dataset/valid/images/200800331/200800331_034.jpg -> /content/drive/MyDrive/dataset/valid/images/200800331_034.jpg\n",
            "파일 복사 완료: /content/drive/MyDrive/dataset/valid/images/200800331/200800331_036.jpg -> /content/drive/MyDrive/dataset/valid/images/200800331_036.jpg\n",
            "파일 복사 완료: /content/drive/MyDrive/dataset/valid/images/200800331/200800331_035.jpg -> /content/drive/MyDrive/dataset/valid/images/200800331_035.jpg\n",
            "파일 복사 완료: /content/drive/MyDrive/dataset/valid/images/200800331/200800331_037.jpg -> /content/drive/MyDrive/dataset/valid/images/200800331_037.jpg\n",
            "파일 복사 완료: /content/drive/MyDrive/dataset/valid/images/200800331/200800331_038.jpg -> /content/drive/MyDrive/dataset/valid/images/200800331_038.jpg\n",
            "파일 복사 완료: /content/drive/MyDrive/dataset/valid/images/200800331/200800331_039.jpg -> /content/drive/MyDrive/dataset/valid/images/200800331_039.jpg\n",
            "파일 복사 완료: /content/drive/MyDrive/dataset/valid/images/200800331/200800331_040.jpg -> /content/drive/MyDrive/dataset/valid/images/200800331_040.jpg\n",
            "파일 복사 완료: /content/drive/MyDrive/dataset/valid/images/200800339/200800339_001.jpg -> /content/drive/MyDrive/dataset/valid/images/200800339_001.jpg\n",
            "파일 복사 완료: /content/drive/MyDrive/dataset/valid/images/200800339/200800339_003.jpg -> /content/drive/MyDrive/dataset/valid/images/200800339_003.jpg\n",
            "파일 복사 완료: /content/drive/MyDrive/dataset/valid/images/200800339/200800339_002.jpg -> /content/drive/MyDrive/dataset/valid/images/200800339_002.jpg\n",
            "파일 복사 완료: /content/drive/MyDrive/dataset/valid/images/200800339/200800339_004.jpg -> /content/drive/MyDrive/dataset/valid/images/200800339_004.jpg\n",
            "파일 복사 완료: /content/drive/MyDrive/dataset/valid/images/200800339/200800339_006.jpg -> /content/drive/MyDrive/dataset/valid/images/200800339_006.jpg\n",
            "파일 복사 완료: /content/drive/MyDrive/dataset/valid/images/200800339/200800339_005.jpg -> /content/drive/MyDrive/dataset/valid/images/200800339_005.jpg\n",
            "파일 복사 완료: /content/drive/MyDrive/dataset/valid/images/200800339/200800339_007.jpg -> /content/drive/MyDrive/dataset/valid/images/200800339_007.jpg\n",
            "파일 복사 완료: /content/drive/MyDrive/dataset/valid/images/200800339/200800339_008.jpg -> /content/drive/MyDrive/dataset/valid/images/200800339_008.jpg\n",
            "파일 복사 완료: /content/drive/MyDrive/dataset/valid/images/200800339/200800339_009.jpg -> /content/drive/MyDrive/dataset/valid/images/200800339_009.jpg\n",
            "파일 복사 완료: /content/drive/MyDrive/dataset/valid/images/200800339/200800339_010.jpg -> /content/drive/MyDrive/dataset/valid/images/200800339_010.jpg\n",
            "파일 복사 완료: /content/drive/MyDrive/dataset/valid/images/200800339/200800339_012.jpg -> /content/drive/MyDrive/dataset/valid/images/200800339_012.jpg\n",
            "파일 복사 완료: /content/drive/MyDrive/dataset/valid/images/200800339/200800339_011.jpg -> /content/drive/MyDrive/dataset/valid/images/200800339_011.jpg\n",
            "파일 복사 완료: /content/drive/MyDrive/dataset/valid/images/200800339/200800339_013.jpg -> /content/drive/MyDrive/dataset/valid/images/200800339_013.jpg\n",
            "파일 복사 완료: /content/drive/MyDrive/dataset/valid/images/200800339/200800339_015.jpg -> /content/drive/MyDrive/dataset/valid/images/200800339_015.jpg\n",
            "파일 복사 완료: /content/drive/MyDrive/dataset/valid/images/200800339/200800339_014.jpg -> /content/drive/MyDrive/dataset/valid/images/200800339_014.jpg\n",
            "파일 복사 완료: /content/drive/MyDrive/dataset/valid/images/200800339/200800339_016.jpg -> /content/drive/MyDrive/dataset/valid/images/200800339_016.jpg\n",
            "파일 복사 완료: /content/drive/MyDrive/dataset/valid/images/200800339/200800339_018.jpg -> /content/drive/MyDrive/dataset/valid/images/200800339_018.jpg\n",
            "파일 복사 완료: /content/drive/MyDrive/dataset/valid/images/200800339/200800339_017.jpg -> /content/drive/MyDrive/dataset/valid/images/200800339_017.jpg\n",
            "파일 복사 완료: /content/drive/MyDrive/dataset/valid/images/200800339/200800339_020.jpg -> /content/drive/MyDrive/dataset/valid/images/200800339_020.jpg\n",
            "파일 복사 완료: /content/drive/MyDrive/dataset/valid/images/200800339/200800339_019.jpg -> /content/drive/MyDrive/dataset/valid/images/200800339_019.jpg\n",
            "파일 복사 완료: /content/drive/MyDrive/dataset/valid/images/200800339/200800339_021.jpg -> /content/drive/MyDrive/dataset/valid/images/200800339_021.jpg\n",
            "파일 복사 완료: /content/drive/MyDrive/dataset/valid/images/200800339/200800339_022.jpg -> /content/drive/MyDrive/dataset/valid/images/200800339_022.jpg\n",
            "파일 복사 완료: /content/drive/MyDrive/dataset/valid/images/200800339/200800339_023.jpg -> /content/drive/MyDrive/dataset/valid/images/200800339_023.jpg\n",
            "파일 복사 완료: /content/drive/MyDrive/dataset/valid/images/200800339/200800339_024.jpg -> /content/drive/MyDrive/dataset/valid/images/200800339_024.jpg\n",
            "파일 복사 완료: /content/drive/MyDrive/dataset/valid/images/200800339/200800339_025.jpg -> /content/drive/MyDrive/dataset/valid/images/200800339_025.jpg\n",
            "파일 복사 완료: /content/drive/MyDrive/dataset/valid/images/200800339/200800339_026.jpg -> /content/drive/MyDrive/dataset/valid/images/200800339_026.jpg\n",
            "파일 복사 완료: /content/drive/MyDrive/dataset/valid/images/200800339/200800339_027.jpg -> /content/drive/MyDrive/dataset/valid/images/200800339_027.jpg\n",
            "파일 복사 완료: /content/drive/MyDrive/dataset/valid/images/200800339/200800339_028.jpg -> /content/drive/MyDrive/dataset/valid/images/200800339_028.jpg\n",
            "파일 복사 완료: /content/drive/MyDrive/dataset/valid/images/200800339/200800339_029.jpg -> /content/drive/MyDrive/dataset/valid/images/200800339_029.jpg\n",
            "파일 복사 완료: /content/drive/MyDrive/dataset/valid/images/200800339/200800339_031.jpg -> /content/drive/MyDrive/dataset/valid/images/200800339_031.jpg\n",
            "파일 복사 완료: /content/drive/MyDrive/dataset/valid/images/200800339/200800339_030.jpg -> /content/drive/MyDrive/dataset/valid/images/200800339_030.jpg\n",
            "파일 복사 완료: /content/drive/MyDrive/dataset/valid/images/200800339/200800339_032.jpg -> /content/drive/MyDrive/dataset/valid/images/200800339_032.jpg\n",
            "파일 복사 완료: /content/drive/MyDrive/dataset/valid/images/200800339/200800339_034.jpg -> /content/drive/MyDrive/dataset/valid/images/200800339_034.jpg\n",
            "파일 복사 완료: /content/drive/MyDrive/dataset/valid/images/200800339/200800339_033.jpg -> /content/drive/MyDrive/dataset/valid/images/200800339_033.jpg\n",
            "파일 복사 완료: /content/drive/MyDrive/dataset/valid/images/200800339/200800339_035.jpg -> /content/drive/MyDrive/dataset/valid/images/200800339_035.jpg\n",
            "파일 복사 완료: /content/drive/MyDrive/dataset/valid/images/200800339/200800339_036.jpg -> /content/drive/MyDrive/dataset/valid/images/200800339_036.jpg\n",
            "파일 복사 완료: /content/drive/MyDrive/dataset/valid/images/200800339/200800339_037.jpg -> /content/drive/MyDrive/dataset/valid/images/200800339_037.jpg\n",
            "파일 복사 완료: /content/drive/MyDrive/dataset/valid/images/200800339/200800339_038.jpg -> /content/drive/MyDrive/dataset/valid/images/200800339_038.jpg\n",
            "파일 복사 완료: /content/drive/MyDrive/dataset/valid/images/200800339/200800339_039.jpg -> /content/drive/MyDrive/dataset/valid/images/200800339_039.jpg\n",
            "파일 복사 완료: /content/drive/MyDrive/dataset/valid/images/200800339/200800339_040.jpg -> /content/drive/MyDrive/dataset/valid/images/200800339_040.jpg\n",
            "파일 복사 완료: /content/drive/MyDrive/dataset/valid/images/200800347/200800347_002.jpg -> /content/drive/MyDrive/dataset/valid/images/200800347_002.jpg\n",
            "파일 복사 완료: /content/drive/MyDrive/dataset/valid/images/200800347/200800347_001.jpg -> /content/drive/MyDrive/dataset/valid/images/200800347_001.jpg\n",
            "파일 복사 완료: /content/drive/MyDrive/dataset/valid/images/200800347/200800347_003.jpg -> /content/drive/MyDrive/dataset/valid/images/200800347_003.jpg\n",
            "파일 복사 완료: /content/drive/MyDrive/dataset/valid/images/200800347/200800347_004.jpg -> /content/drive/MyDrive/dataset/valid/images/200800347_004.jpg\n",
            "파일 복사 완료: /content/drive/MyDrive/dataset/valid/images/200800347/200800347_005.jpg -> /content/drive/MyDrive/dataset/valid/images/200800347_005.jpg\n",
            "파일 복사 완료: /content/drive/MyDrive/dataset/valid/images/200800347/200800347_006.jpg -> /content/drive/MyDrive/dataset/valid/images/200800347_006.jpg\n",
            "파일 복사 완료: /content/drive/MyDrive/dataset/valid/images/200800347/200800347_007.jpg -> /content/drive/MyDrive/dataset/valid/images/200800347_007.jpg\n",
            "파일 복사 완료: /content/drive/MyDrive/dataset/valid/images/200800347/200800347_008.jpg -> /content/drive/MyDrive/dataset/valid/images/200800347_008.jpg\n",
            "파일 복사 완료: /content/drive/MyDrive/dataset/valid/images/200800347/200800347_009.jpg -> /content/drive/MyDrive/dataset/valid/images/200800347_009.jpg\n",
            "파일 복사 완료: /content/drive/MyDrive/dataset/valid/images/200800347/200800347_010.jpg -> /content/drive/MyDrive/dataset/valid/images/200800347_010.jpg\n",
            "파일 복사 완료: /content/drive/MyDrive/dataset/valid/images/200800347/200800347_011.jpg -> /content/drive/MyDrive/dataset/valid/images/200800347_011.jpg\n",
            "파일 복사 완료: /content/drive/MyDrive/dataset/valid/images/200800347/200800347_012.jpg -> /content/drive/MyDrive/dataset/valid/images/200800347_012.jpg\n",
            "파일 복사 완료: /content/drive/MyDrive/dataset/valid/images/200800347/200800347_014.jpg -> /content/drive/MyDrive/dataset/valid/images/200800347_014.jpg\n",
            "파일 복사 완료: /content/drive/MyDrive/dataset/valid/images/200800347/200800347_013.jpg -> /content/drive/MyDrive/dataset/valid/images/200800347_013.jpg\n",
            "파일 복사 완료: /content/drive/MyDrive/dataset/valid/images/200800347/200800347_015.jpg -> /content/drive/MyDrive/dataset/valid/images/200800347_015.jpg\n",
            "파일 복사 완료: /content/drive/MyDrive/dataset/valid/images/200800347/200800347_016.jpg -> /content/drive/MyDrive/dataset/valid/images/200800347_016.jpg\n",
            "파일 복사 완료: /content/drive/MyDrive/dataset/valid/images/200800347/200800347_017.jpg -> /content/drive/MyDrive/dataset/valid/images/200800347_017.jpg\n",
            "파일 복사 완료: /content/drive/MyDrive/dataset/valid/images/200800347/200800347_018.jpg -> /content/drive/MyDrive/dataset/valid/images/200800347_018.jpg\n",
            "파일 복사 완료: /content/drive/MyDrive/dataset/valid/images/200800347/200800347_020.jpg -> /content/drive/MyDrive/dataset/valid/images/200800347_020.jpg\n",
            "파일 복사 완료: /content/drive/MyDrive/dataset/valid/images/200800347/200800347_019.jpg -> /content/drive/MyDrive/dataset/valid/images/200800347_019.jpg\n",
            "파일 복사 완료: /content/drive/MyDrive/dataset/valid/images/200800347/200800347_022.jpg -> /content/drive/MyDrive/dataset/valid/images/200800347_022.jpg\n",
            "파일 복사 완료: /content/drive/MyDrive/dataset/valid/images/200800347/200800347_021.jpg -> /content/drive/MyDrive/dataset/valid/images/200800347_021.jpg\n",
            "파일 복사 완료: /content/drive/MyDrive/dataset/valid/images/200800347/200800347_023.jpg -> /content/drive/MyDrive/dataset/valid/images/200800347_023.jpg\n",
            "파일 복사 완료: /content/drive/MyDrive/dataset/valid/images/200800347/200800347_025.jpg -> /content/drive/MyDrive/dataset/valid/images/200800347_025.jpg\n",
            "파일 복사 완료: /content/drive/MyDrive/dataset/valid/images/200800347/200800347_024.jpg -> /content/drive/MyDrive/dataset/valid/images/200800347_024.jpg\n",
            "파일 복사 완료: /content/drive/MyDrive/dataset/valid/images/200800347/200800347_026.jpg -> /content/drive/MyDrive/dataset/valid/images/200800347_026.jpg\n",
            "파일 복사 완료: /content/drive/MyDrive/dataset/valid/images/200800347/200800347_028.jpg -> /content/drive/MyDrive/dataset/valid/images/200800347_028.jpg\n",
            "파일 복사 완료: /content/drive/MyDrive/dataset/valid/images/200800347/200800347_027.jpg -> /content/drive/MyDrive/dataset/valid/images/200800347_027.jpg\n",
            "파일 복사 완료: /content/drive/MyDrive/dataset/valid/images/200800347/200800347_029.jpg -> /content/drive/MyDrive/dataset/valid/images/200800347_029.jpg\n",
            "파일 복사 완료: /content/drive/MyDrive/dataset/valid/images/200800347/200800347_031.jpg -> /content/drive/MyDrive/dataset/valid/images/200800347_031.jpg\n",
            "파일 복사 완료: /content/drive/MyDrive/dataset/valid/images/200800347/200800347_030.jpg -> /content/drive/MyDrive/dataset/valid/images/200800347_030.jpg\n",
            "파일 복사 완료: /content/drive/MyDrive/dataset/valid/images/200800347/200800347_032.jpg -> /content/drive/MyDrive/dataset/valid/images/200800347_032.jpg\n",
            "파일 복사 완료: /content/drive/MyDrive/dataset/valid/images/200800347/200800347_034.jpg -> /content/drive/MyDrive/dataset/valid/images/200800347_034.jpg\n",
            "파일 복사 완료: /content/drive/MyDrive/dataset/valid/images/200800347/200800347_033.jpg -> /content/drive/MyDrive/dataset/valid/images/200800347_033.jpg\n",
            "파일 복사 완료: /content/drive/MyDrive/dataset/valid/images/200800347/200800347_035.jpg -> /content/drive/MyDrive/dataset/valid/images/200800347_035.jpg\n",
            "파일 복사 완료: /content/drive/MyDrive/dataset/valid/images/200800347/200800347_036.jpg -> /content/drive/MyDrive/dataset/valid/images/200800347_036.jpg\n",
            "파일 복사 완료: /content/drive/MyDrive/dataset/valid/images/200800347/200800347_037.jpg -> /content/drive/MyDrive/dataset/valid/images/200800347_037.jpg\n",
            "파일 복사 완료: /content/drive/MyDrive/dataset/valid/images/200800347/200800347_038.jpg -> /content/drive/MyDrive/dataset/valid/images/200800347_038.jpg\n",
            "파일 복사 완료: /content/drive/MyDrive/dataset/valid/images/200800347/200800347_039.jpg -> /content/drive/MyDrive/dataset/valid/images/200800347_039.jpg\n",
            "파일 복사 완료: /content/drive/MyDrive/dataset/valid/images/200800347/200800347_040.jpg -> /content/drive/MyDrive/dataset/valid/images/200800347_040.jpg\n",
            "파일 복사 완료: /content/drive/MyDrive/dataset/valid/images/200800405/200800405_001.jpg -> /content/drive/MyDrive/dataset/valid/images/200800405_001.jpg\n",
            "파일 복사 완료: /content/drive/MyDrive/dataset/valid/images/200800405/200800405_002.jpg -> /content/drive/MyDrive/dataset/valid/images/200800405_002.jpg\n",
            "파일 복사 완료: /content/drive/MyDrive/dataset/valid/images/200800405/200800405_003.jpg -> /content/drive/MyDrive/dataset/valid/images/200800405_003.jpg\n",
            "파일 복사 완료: /content/drive/MyDrive/dataset/valid/images/200800405/200800405_004.jpg -> /content/drive/MyDrive/dataset/valid/images/200800405_004.jpg\n",
            "파일 복사 완료: /content/drive/MyDrive/dataset/valid/images/200800405/200800405_006.jpg -> /content/drive/MyDrive/dataset/valid/images/200800405_006.jpg\n",
            "파일 복사 완료: /content/drive/MyDrive/dataset/valid/images/200800405/200800405_005.jpg -> /content/drive/MyDrive/dataset/valid/images/200800405_005.jpg\n",
            "파일 복사 완료: /content/drive/MyDrive/dataset/valid/images/200800405/200800405_007.jpg -> /content/drive/MyDrive/dataset/valid/images/200800405_007.jpg\n",
            "파일 복사 완료: /content/drive/MyDrive/dataset/valid/images/200800405/200800405_009.jpg -> /content/drive/MyDrive/dataset/valid/images/200800405_009.jpg\n",
            "파일 복사 완료: /content/drive/MyDrive/dataset/valid/images/200800405/200800405_008.jpg -> /content/drive/MyDrive/dataset/valid/images/200800405_008.jpg\n",
            "파일 복사 완료: /content/drive/MyDrive/dataset/valid/images/200800405/200800405_010.jpg -> /content/drive/MyDrive/dataset/valid/images/200800405_010.jpg\n",
            "파일 복사 완료: /content/drive/MyDrive/dataset/valid/images/200800405/200800405_012.jpg -> /content/drive/MyDrive/dataset/valid/images/200800405_012.jpg\n",
            "파일 복사 완료: /content/drive/MyDrive/dataset/valid/images/200800405/200800405_011.jpg -> /content/drive/MyDrive/dataset/valid/images/200800405_011.jpg\n",
            "파일 복사 완료: /content/drive/MyDrive/dataset/valid/images/200800405/200800405_013.jpg -> /content/drive/MyDrive/dataset/valid/images/200800405_013.jpg\n",
            "파일 복사 완료: /content/drive/MyDrive/dataset/valid/images/200800405/200800405_014.jpg -> /content/drive/MyDrive/dataset/valid/images/200800405_014.jpg\n",
            "파일 복사 완료: /content/drive/MyDrive/dataset/valid/images/200800405/200800405_015.jpg -> /content/drive/MyDrive/dataset/valid/images/200800405_015.jpg\n",
            "파일 복사 완료: /content/drive/MyDrive/dataset/valid/images/200800405/200800405_016.jpg -> /content/drive/MyDrive/dataset/valid/images/200800405_016.jpg\n",
            "파일 복사 완료: /content/drive/MyDrive/dataset/valid/images/200800405/200800405_017.jpg -> /content/drive/MyDrive/dataset/valid/images/200800405_017.jpg\n",
            "파일 복사 완료: /content/drive/MyDrive/dataset/valid/images/200800405/200800405_018.jpg -> /content/drive/MyDrive/dataset/valid/images/200800405_018.jpg\n",
            "파일 복사 완료: /content/drive/MyDrive/dataset/valid/images/200800405/200800405_019.jpg -> /content/drive/MyDrive/dataset/valid/images/200800405_019.jpg\n",
            "파일 복사 완료: /content/drive/MyDrive/dataset/valid/images/200800405/200800405_020.jpg -> /content/drive/MyDrive/dataset/valid/images/200800405_020.jpg\n",
            "파일 복사 완료: /content/drive/MyDrive/dataset/valid/images/200800405/200800405_022.jpg -> /content/drive/MyDrive/dataset/valid/images/200800405_022.jpg\n",
            "파일 복사 완료: /content/drive/MyDrive/dataset/valid/images/200800405/200800405_021.jpg -> /content/drive/MyDrive/dataset/valid/images/200800405_021.jpg\n",
            "파일 복사 완료: /content/drive/MyDrive/dataset/valid/images/200800405/200800405_023.jpg -> /content/drive/MyDrive/dataset/valid/images/200800405_023.jpg\n",
            "파일 복사 완료: /content/drive/MyDrive/dataset/valid/images/200800405/200800405_024.jpg -> /content/drive/MyDrive/dataset/valid/images/200800405_024.jpg\n",
            "파일 복사 완료: /content/drive/MyDrive/dataset/valid/images/200800405/200800405_025.jpg -> /content/drive/MyDrive/dataset/valid/images/200800405_025.jpg\n",
            "파일 복사 완료: /content/drive/MyDrive/dataset/valid/images/200800405/200800405_026.jpg -> /content/drive/MyDrive/dataset/valid/images/200800405_026.jpg\n",
            "파일 복사 완료: /content/drive/MyDrive/dataset/valid/images/200800405/200800405_028.jpg -> /content/drive/MyDrive/dataset/valid/images/200800405_028.jpg\n",
            "파일 복사 완료: /content/drive/MyDrive/dataset/valid/images/200800405/200800405_027.jpg -> /content/drive/MyDrive/dataset/valid/images/200800405_027.jpg\n",
            "파일 복사 완료: /content/drive/MyDrive/dataset/valid/images/200800405/200800405_029.jpg -> /content/drive/MyDrive/dataset/valid/images/200800405_029.jpg\n",
            "파일 복사 완료: /content/drive/MyDrive/dataset/valid/images/200800405/200800405_031.jpg -> /content/drive/MyDrive/dataset/valid/images/200800405_031.jpg\n",
            "파일 복사 완료: /content/drive/MyDrive/dataset/valid/images/200800405/200800405_030.jpg -> /content/drive/MyDrive/dataset/valid/images/200800405_030.jpg\n",
            "파일 복사 완료: /content/drive/MyDrive/dataset/valid/images/200800405/200800405_032.jpg -> /content/drive/MyDrive/dataset/valid/images/200800405_032.jpg\n",
            "파일 복사 완료: /content/drive/MyDrive/dataset/valid/images/200800405/200800405_033.jpg -> /content/drive/MyDrive/dataset/valid/images/200800405_033.jpg\n",
            "파일 복사 완료: /content/drive/MyDrive/dataset/valid/images/200800405/200800405_034.jpg -> /content/drive/MyDrive/dataset/valid/images/200800405_034.jpg\n",
            "파일 복사 완료: /content/drive/MyDrive/dataset/valid/images/200800405/200800405_035.jpg -> /content/drive/MyDrive/dataset/valid/images/200800405_035.jpg\n",
            "파일 복사 완료: /content/drive/MyDrive/dataset/valid/images/200800405/200800405_036.jpg -> /content/drive/MyDrive/dataset/valid/images/200800405_036.jpg\n",
            "파일 복사 완료: /content/drive/MyDrive/dataset/valid/images/200800405/200800405_037.jpg -> /content/drive/MyDrive/dataset/valid/images/200800405_037.jpg\n",
            "파일 복사 완료: /content/drive/MyDrive/dataset/valid/images/200800405/200800405_038.jpg -> /content/drive/MyDrive/dataset/valid/images/200800405_038.jpg\n",
            "파일 복사 완료: /content/drive/MyDrive/dataset/valid/images/200800405/200800405_040.jpg -> /content/drive/MyDrive/dataset/valid/images/200800405_040.jpg\n",
            "파일 복사 완료: /content/drive/MyDrive/dataset/valid/images/200800405/200800405_039.jpg -> /content/drive/MyDrive/dataset/valid/images/200800405_039.jpg\n",
            "파일 복사 완료: /content/drive/MyDrive/dataset/valid/images/200800411/200800411_001.jpg -> /content/drive/MyDrive/dataset/valid/images/200800411_001.jpg\n",
            "파일 복사 완료: /content/drive/MyDrive/dataset/valid/images/200800411/200800411_002.jpg -> /content/drive/MyDrive/dataset/valid/images/200800411_002.jpg\n",
            "파일 복사 완료: /content/drive/MyDrive/dataset/valid/images/200800411/200800411_004.jpg -> /content/drive/MyDrive/dataset/valid/images/200800411_004.jpg\n",
            "파일 복사 완료: /content/drive/MyDrive/dataset/valid/images/200800411/200800411_003.jpg -> /content/drive/MyDrive/dataset/valid/images/200800411_003.jpg\n",
            "파일 복사 완료: /content/drive/MyDrive/dataset/valid/images/200800411/200800411_005.jpg -> /content/drive/MyDrive/dataset/valid/images/200800411_005.jpg\n",
            "파일 복사 완료: /content/drive/MyDrive/dataset/valid/images/200800411/200800411_006.jpg -> /content/drive/MyDrive/dataset/valid/images/200800411_006.jpg\n",
            "파일 복사 완료: /content/drive/MyDrive/dataset/valid/images/200800411/200800411_007.jpg -> /content/drive/MyDrive/dataset/valid/images/200800411_007.jpg\n",
            "파일 복사 완료: /content/drive/MyDrive/dataset/valid/images/200800411/200800411_008.jpg -> /content/drive/MyDrive/dataset/valid/images/200800411_008.jpg\n",
            "파일 복사 완료: /content/drive/MyDrive/dataset/valid/images/200800411/200800411_009.jpg -> /content/drive/MyDrive/dataset/valid/images/200800411_009.jpg\n",
            "파일 복사 완료: /content/drive/MyDrive/dataset/valid/images/200800411/200800411_010.jpg -> /content/drive/MyDrive/dataset/valid/images/200800411_010.jpg\n",
            "파일 복사 완료: /content/drive/MyDrive/dataset/valid/images/200800411/200800411_011.jpg -> /content/drive/MyDrive/dataset/valid/images/200800411_011.jpg\n",
            "파일 복사 완료: /content/drive/MyDrive/dataset/valid/images/200800411/200800411_013.jpg -> /content/drive/MyDrive/dataset/valid/images/200800411_013.jpg\n",
            "파일 복사 완료: /content/drive/MyDrive/dataset/valid/images/200800411/200800411_012.jpg -> /content/drive/MyDrive/dataset/valid/images/200800411_012.jpg\n",
            "파일 복사 완료: /content/drive/MyDrive/dataset/valid/images/200800411/200800411_014.jpg -> /content/drive/MyDrive/dataset/valid/images/200800411_014.jpg\n",
            "파일 복사 완료: /content/drive/MyDrive/dataset/valid/images/200800411/200800411_015.jpg -> /content/drive/MyDrive/dataset/valid/images/200800411_015.jpg\n",
            "파일 복사 완료: /content/drive/MyDrive/dataset/valid/images/200800411/200800411_016.jpg -> /content/drive/MyDrive/dataset/valid/images/200800411_016.jpg\n",
            "파일 복사 완료: /content/drive/MyDrive/dataset/valid/images/200800411/200800411_017.jpg -> /content/drive/MyDrive/dataset/valid/images/200800411_017.jpg\n",
            "파일 복사 완료: /content/drive/MyDrive/dataset/valid/images/200800411/200800411_018.jpg -> /content/drive/MyDrive/dataset/valid/images/200800411_018.jpg\n",
            "파일 복사 완료: /content/drive/MyDrive/dataset/valid/images/200800411/200800411_019.jpg -> /content/drive/MyDrive/dataset/valid/images/200800411_019.jpg\n",
            "파일 복사 완료: /content/drive/MyDrive/dataset/valid/images/200800411/200800411_020.jpg -> /content/drive/MyDrive/dataset/valid/images/200800411_020.jpg\n",
            "파일 복사 완료: /content/drive/MyDrive/dataset/valid/images/200800411/200800411_021.jpg -> /content/drive/MyDrive/dataset/valid/images/200800411_021.jpg\n",
            "파일 복사 완료: /content/drive/MyDrive/dataset/valid/images/200800411/200800411_022.jpg -> /content/drive/MyDrive/dataset/valid/images/200800411_022.jpg\n",
            "파일 복사 완료: /content/drive/MyDrive/dataset/valid/images/200800411/200800411_023.jpg -> /content/drive/MyDrive/dataset/valid/images/200800411_023.jpg\n",
            "파일 복사 완료: /content/drive/MyDrive/dataset/valid/images/200800411/200800411_024.jpg -> /content/drive/MyDrive/dataset/valid/images/200800411_024.jpg\n",
            "파일 복사 완료: /content/drive/MyDrive/dataset/valid/images/200800411/200800411_025.jpg -> /content/drive/MyDrive/dataset/valid/images/200800411_025.jpg\n",
            "파일 복사 완료: /content/drive/MyDrive/dataset/valid/images/200800411/200800411_026.jpg -> /content/drive/MyDrive/dataset/valid/images/200800411_026.jpg\n",
            "파일 복사 완료: /content/drive/MyDrive/dataset/valid/images/200800411/200800411_027.jpg -> /content/drive/MyDrive/dataset/valid/images/200800411_027.jpg\n",
            "파일 복사 완료: /content/drive/MyDrive/dataset/valid/images/200800411/200800411_028.jpg -> /content/drive/MyDrive/dataset/valid/images/200800411_028.jpg\n",
            "파일 복사 완료: /content/drive/MyDrive/dataset/valid/images/200800411/200800411_029.jpg -> /content/drive/MyDrive/dataset/valid/images/200800411_029.jpg\n",
            "파일 복사 완료: /content/drive/MyDrive/dataset/valid/images/200800411/200800411_030.jpg -> /content/drive/MyDrive/dataset/valid/images/200800411_030.jpg\n",
            "파일 복사 완료: /content/drive/MyDrive/dataset/valid/images/200800411/200800411_032.jpg -> /content/drive/MyDrive/dataset/valid/images/200800411_032.jpg\n",
            "파일 복사 완료: /content/drive/MyDrive/dataset/valid/images/200800411/200800411_031.jpg -> /content/drive/MyDrive/dataset/valid/images/200800411_031.jpg\n",
            "파일 복사 완료: /content/drive/MyDrive/dataset/valid/images/200800411/200800411_033.jpg -> /content/drive/MyDrive/dataset/valid/images/200800411_033.jpg\n",
            "파일 복사 완료: /content/drive/MyDrive/dataset/valid/images/200800411/200800411_035.jpg -> /content/drive/MyDrive/dataset/valid/images/200800411_035.jpg\n",
            "파일 복사 완료: /content/drive/MyDrive/dataset/valid/images/200800411/200800411_034.jpg -> /content/drive/MyDrive/dataset/valid/images/200800411_034.jpg\n",
            "파일 복사 완료: /content/drive/MyDrive/dataset/valid/images/200800411/200800411_036.jpg -> /content/drive/MyDrive/dataset/valid/images/200800411_036.jpg\n",
            "파일 복사 완료: /content/drive/MyDrive/dataset/valid/images/200800411/200800411_038.jpg -> /content/drive/MyDrive/dataset/valid/images/200800411_038.jpg\n",
            "파일 복사 완료: /content/drive/MyDrive/dataset/valid/images/200800411/200800411_037.jpg -> /content/drive/MyDrive/dataset/valid/images/200800411_037.jpg\n",
            "파일 복사 완료: /content/drive/MyDrive/dataset/valid/images/200800411/200800411_039.jpg -> /content/drive/MyDrive/dataset/valid/images/200800411_039.jpg\n",
            "파일 복사 완료: /content/drive/MyDrive/dataset/valid/images/200800411/200800411_040.jpg -> /content/drive/MyDrive/dataset/valid/images/200800411_040.jpg\n",
            "파일 복사 완료: /content/drive/MyDrive/dataset/valid/images/200800569/200800569_001.jpg -> /content/drive/MyDrive/dataset/valid/images/200800569_001.jpg\n",
            "파일 복사 완료: /content/drive/MyDrive/dataset/valid/images/200800569/200800569_002.jpg -> /content/drive/MyDrive/dataset/valid/images/200800569_002.jpg\n",
            "파일 복사 완료: /content/drive/MyDrive/dataset/valid/images/200800569/200800569_003.jpg -> /content/drive/MyDrive/dataset/valid/images/200800569_003.jpg\n",
            "파일 복사 완료: /content/drive/MyDrive/dataset/valid/images/200800569/200800569_004.jpg -> /content/drive/MyDrive/dataset/valid/images/200800569_004.jpg\n",
            "파일 복사 완료: /content/drive/MyDrive/dataset/valid/images/200800569/200800569_005.jpg -> /content/drive/MyDrive/dataset/valid/images/200800569_005.jpg\n",
            "파일 복사 완료: /content/drive/MyDrive/dataset/valid/images/200800569/200800569_006.jpg -> /content/drive/MyDrive/dataset/valid/images/200800569_006.jpg\n",
            "파일 복사 완료: /content/drive/MyDrive/dataset/valid/images/200800569/200800569_007.jpg -> /content/drive/MyDrive/dataset/valid/images/200800569_007.jpg\n",
            "파일 복사 완료: /content/drive/MyDrive/dataset/valid/images/200800569/200800569_008.jpg -> /content/drive/MyDrive/dataset/valid/images/200800569_008.jpg\n",
            "파일 복사 완료: /content/drive/MyDrive/dataset/valid/images/200800569/200800569_009.jpg -> /content/drive/MyDrive/dataset/valid/images/200800569_009.jpg\n",
            "파일 복사 완료: /content/drive/MyDrive/dataset/valid/images/200800569/200800569_010.jpg -> /content/drive/MyDrive/dataset/valid/images/200800569_010.jpg\n",
            "파일 복사 완료: /content/drive/MyDrive/dataset/valid/images/200800569/200800569_011.jpg -> /content/drive/MyDrive/dataset/valid/images/200800569_011.jpg\n",
            "파일 복사 완료: /content/drive/MyDrive/dataset/valid/images/200800569/200800569_012.jpg -> /content/drive/MyDrive/dataset/valid/images/200800569_012.jpg\n",
            "파일 복사 완료: /content/drive/MyDrive/dataset/valid/images/200800569/200800569_013.jpg -> /content/drive/MyDrive/dataset/valid/images/200800569_013.jpg\n",
            "파일 복사 완료: /content/drive/MyDrive/dataset/valid/images/200800569/200800569_014.jpg -> /content/drive/MyDrive/dataset/valid/images/200800569_014.jpg\n",
            "파일 복사 완료: /content/drive/MyDrive/dataset/valid/images/200800569/200800569_015.jpg -> /content/drive/MyDrive/dataset/valid/images/200800569_015.jpg\n",
            "파일 복사 완료: /content/drive/MyDrive/dataset/valid/images/200800569/200800569_017.jpg -> /content/drive/MyDrive/dataset/valid/images/200800569_017.jpg\n",
            "파일 복사 완료: /content/drive/MyDrive/dataset/valid/images/200800569/200800569_016.jpg -> /content/drive/MyDrive/dataset/valid/images/200800569_016.jpg\n",
            "파일 복사 완료: /content/drive/MyDrive/dataset/valid/images/200800569/200800569_018.jpg -> /content/drive/MyDrive/dataset/valid/images/200800569_018.jpg\n",
            "파일 복사 완료: /content/drive/MyDrive/dataset/valid/images/200800569/200800569_019.jpg -> /content/drive/MyDrive/dataset/valid/images/200800569_019.jpg\n",
            "파일 복사 완료: /content/drive/MyDrive/dataset/valid/images/200800569/200800569_020.jpg -> /content/drive/MyDrive/dataset/valid/images/200800569_020.jpg\n",
            "파일 복사 완료: /content/drive/MyDrive/dataset/valid/images/200800569/200800569_021.jpg -> /content/drive/MyDrive/dataset/valid/images/200800569_021.jpg\n",
            "파일 복사 완료: /content/drive/MyDrive/dataset/valid/images/200800569/200800569_022.jpg -> /content/drive/MyDrive/dataset/valid/images/200800569_022.jpg\n",
            "파일 복사 완료: /content/drive/MyDrive/dataset/valid/images/200800569/200800569_023.jpg -> /content/drive/MyDrive/dataset/valid/images/200800569_023.jpg\n",
            "파일 복사 완료: /content/drive/MyDrive/dataset/valid/images/200800569/200800569_024.jpg -> /content/drive/MyDrive/dataset/valid/images/200800569_024.jpg\n",
            "파일 복사 완료: /content/drive/MyDrive/dataset/valid/images/200800569/200800569_025.jpg -> /content/drive/MyDrive/dataset/valid/images/200800569_025.jpg\n",
            "파일 복사 완료: /content/drive/MyDrive/dataset/valid/images/200800569/200800569_026.jpg -> /content/drive/MyDrive/dataset/valid/images/200800569_026.jpg\n",
            "파일 복사 완료: /content/drive/MyDrive/dataset/valid/images/200800569/200800569_027.jpg -> /content/drive/MyDrive/dataset/valid/images/200800569_027.jpg\n",
            "파일 복사 완료: /content/drive/MyDrive/dataset/valid/images/200800569/200800569_028.jpg -> /content/drive/MyDrive/dataset/valid/images/200800569_028.jpg\n",
            "파일 복사 완료: /content/drive/MyDrive/dataset/valid/images/200800569/200800569_029.jpg -> /content/drive/MyDrive/dataset/valid/images/200800569_029.jpg\n",
            "파일 복사 완료: /content/drive/MyDrive/dataset/valid/images/200800569/200800569_030.jpg -> /content/drive/MyDrive/dataset/valid/images/200800569_030.jpg\n",
            "파일 복사 완료: /content/drive/MyDrive/dataset/valid/images/200800569/200800569_031.jpg -> /content/drive/MyDrive/dataset/valid/images/200800569_031.jpg\n",
            "파일 복사 완료: /content/drive/MyDrive/dataset/valid/images/200800569/200800569_032.jpg -> /content/drive/MyDrive/dataset/valid/images/200800569_032.jpg\n",
            "파일 복사 완료: /content/drive/MyDrive/dataset/valid/images/200800569/200800569_033.jpg -> /content/drive/MyDrive/dataset/valid/images/200800569_033.jpg\n",
            "파일 복사 완료: /content/drive/MyDrive/dataset/valid/images/200800569/200800569_034.jpg -> /content/drive/MyDrive/dataset/valid/images/200800569_034.jpg\n",
            "파일 복사 완료: /content/drive/MyDrive/dataset/valid/images/200800569/200800569_035.jpg -> /content/drive/MyDrive/dataset/valid/images/200800569_035.jpg\n",
            "파일 복사 완료: /content/drive/MyDrive/dataset/valid/images/200800569/200800569_036.jpg -> /content/drive/MyDrive/dataset/valid/images/200800569_036.jpg\n",
            "파일 복사 완료: /content/drive/MyDrive/dataset/valid/images/200800569/200800569_037.jpg -> /content/drive/MyDrive/dataset/valid/images/200800569_037.jpg\n",
            "파일 복사 완료: /content/drive/MyDrive/dataset/valid/images/200800569/200800569_038.jpg -> /content/drive/MyDrive/dataset/valid/images/200800569_038.jpg\n",
            "파일 복사 완료: /content/drive/MyDrive/dataset/valid/images/200800569/200800569_039.jpg -> /content/drive/MyDrive/dataset/valid/images/200800569_039.jpg\n",
            "파일 복사 완료: /content/drive/MyDrive/dataset/valid/images/200800569/200800569_040.jpg -> /content/drive/MyDrive/dataset/valid/images/200800569_040.jpg\n",
            "파일 복사 완료: /content/drive/MyDrive/dataset/valid/images/200800614/200800614_001.jpg -> /content/drive/MyDrive/dataset/valid/images/200800614_001.jpg\n",
            "파일 복사 완료: /content/drive/MyDrive/dataset/valid/images/200800614/200800614_002.jpg -> /content/drive/MyDrive/dataset/valid/images/200800614_002.jpg\n",
            "파일 복사 완료: /content/drive/MyDrive/dataset/valid/images/200800614/200800614_004.jpg -> /content/drive/MyDrive/dataset/valid/images/200800614_004.jpg\n",
            "파일 복사 완료: /content/drive/MyDrive/dataset/valid/images/200800614/200800614_003.jpg -> /content/drive/MyDrive/dataset/valid/images/200800614_003.jpg\n",
            "파일 복사 완료: /content/drive/MyDrive/dataset/valid/images/200800614/200800614_005.jpg -> /content/drive/MyDrive/dataset/valid/images/200800614_005.jpg\n",
            "파일 복사 완료: /content/drive/MyDrive/dataset/valid/images/200800614/200800614_006.jpg -> /content/drive/MyDrive/dataset/valid/images/200800614_006.jpg\n",
            "파일 복사 완료: /content/drive/MyDrive/dataset/valid/images/200800614/200800614_007.jpg -> /content/drive/MyDrive/dataset/valid/images/200800614_007.jpg\n",
            "파일 복사 완료: /content/drive/MyDrive/dataset/valid/images/200800614/200800614_008.jpg -> /content/drive/MyDrive/dataset/valid/images/200800614_008.jpg\n",
            "파일 복사 완료: /content/drive/MyDrive/dataset/valid/images/200800614/200800614_010.jpg -> /content/drive/MyDrive/dataset/valid/images/200800614_010.jpg\n",
            "파일 복사 완료: /content/drive/MyDrive/dataset/valid/images/200800614/200800614_009.jpg -> /content/drive/MyDrive/dataset/valid/images/200800614_009.jpg\n",
            "파일 복사 완료: /content/drive/MyDrive/dataset/valid/images/200800614/200800614_011.jpg -> /content/drive/MyDrive/dataset/valid/images/200800614_011.jpg\n",
            "파일 복사 완료: /content/drive/MyDrive/dataset/valid/images/200800614/200800614_013.jpg -> /content/drive/MyDrive/dataset/valid/images/200800614_013.jpg\n",
            "파일 복사 완료: /content/drive/MyDrive/dataset/valid/images/200800614/200800614_012.jpg -> /content/drive/MyDrive/dataset/valid/images/200800614_012.jpg\n",
            "파일 복사 완료: /content/drive/MyDrive/dataset/valid/images/200800614/200800614_014.jpg -> /content/drive/MyDrive/dataset/valid/images/200800614_014.jpg\n",
            "파일 복사 완료: /content/drive/MyDrive/dataset/valid/images/200800614/200800614_016.jpg -> /content/drive/MyDrive/dataset/valid/images/200800614_016.jpg\n",
            "파일 복사 완료: /content/drive/MyDrive/dataset/valid/images/200800614/200800614_015.jpg -> /content/drive/MyDrive/dataset/valid/images/200800614_015.jpg\n",
            "파일 복사 완료: /content/drive/MyDrive/dataset/valid/images/200800614/200800614_017.jpg -> /content/drive/MyDrive/dataset/valid/images/200800614_017.jpg\n",
            "파일 복사 완료: /content/drive/MyDrive/dataset/valid/images/200800614/200800614_018.jpg -> /content/drive/MyDrive/dataset/valid/images/200800614_018.jpg\n",
            "파일 복사 완료: /content/drive/MyDrive/dataset/valid/images/200800614/200800614_019.jpg -> /content/drive/MyDrive/dataset/valid/images/200800614_019.jpg\n",
            "파일 복사 완료: /content/drive/MyDrive/dataset/valid/images/200800614/200800614_020.jpg -> /content/drive/MyDrive/dataset/valid/images/200800614_020.jpg\n",
            "파일 복사 완료: /content/drive/MyDrive/dataset/valid/images/200800614/200800614_021.jpg -> /content/drive/MyDrive/dataset/valid/images/200800614_021.jpg\n",
            "파일 복사 완료: /content/drive/MyDrive/dataset/valid/images/200800614/200800614_022.jpg -> /content/drive/MyDrive/dataset/valid/images/200800614_022.jpg\n",
            "파일 복사 완료: /content/drive/MyDrive/dataset/valid/images/200800614/200800614_024.jpg -> /content/drive/MyDrive/dataset/valid/images/200800614_024.jpg\n",
            "파일 복사 완료: /content/drive/MyDrive/dataset/valid/images/200800614/200800614_023.jpg -> /content/drive/MyDrive/dataset/valid/images/200800614_023.jpg\n",
            "파일 복사 완료: /content/drive/MyDrive/dataset/valid/images/200800614/200800614_025.jpg -> /content/drive/MyDrive/dataset/valid/images/200800614_025.jpg\n",
            "파일 복사 완료: /content/drive/MyDrive/dataset/valid/images/200800614/200800614_026.jpg -> /content/drive/MyDrive/dataset/valid/images/200800614_026.jpg\n",
            "파일 복사 완료: /content/drive/MyDrive/dataset/valid/images/200800614/200800614_027.jpg -> /content/drive/MyDrive/dataset/valid/images/200800614_027.jpg\n",
            "파일 복사 완료: /content/drive/MyDrive/dataset/valid/images/200800614/200800614_028.jpg -> /content/drive/MyDrive/dataset/valid/images/200800614_028.jpg\n",
            "파일 복사 완료: /content/drive/MyDrive/dataset/valid/images/200800614/200800614_030.jpg -> /content/drive/MyDrive/dataset/valid/images/200800614_030.jpg\n",
            "파일 복사 완료: /content/drive/MyDrive/dataset/valid/images/200800614/200800614_029.jpg -> /content/drive/MyDrive/dataset/valid/images/200800614_029.jpg\n",
            "파일 복사 완료: /content/drive/MyDrive/dataset/valid/images/200800614/200800614_031.jpg -> /content/drive/MyDrive/dataset/valid/images/200800614_031.jpg\n",
            "파일 복사 완료: /content/drive/MyDrive/dataset/valid/images/200800614/200800614_032.jpg -> /content/drive/MyDrive/dataset/valid/images/200800614_032.jpg\n",
            "파일 복사 완료: /content/drive/MyDrive/dataset/valid/images/200800614/200800614_033.jpg -> /content/drive/MyDrive/dataset/valid/images/200800614_033.jpg\n",
            "파일 복사 완료: /content/drive/MyDrive/dataset/valid/images/200800614/200800614_034.jpg -> /content/drive/MyDrive/dataset/valid/images/200800614_034.jpg\n",
            "파일 복사 완료: /content/drive/MyDrive/dataset/valid/images/200800614/200800614_036.jpg -> /content/drive/MyDrive/dataset/valid/images/200800614_036.jpg\n",
            "파일 복사 완료: /content/drive/MyDrive/dataset/valid/images/200800614/200800614_035.jpg -> /content/drive/MyDrive/dataset/valid/images/200800614_035.jpg\n",
            "파일 복사 완료: /content/drive/MyDrive/dataset/valid/images/200800614/200800614_037.jpg -> /content/drive/MyDrive/dataset/valid/images/200800614_037.jpg\n",
            "파일 복사 완료: /content/drive/MyDrive/dataset/valid/images/200800614/200800614_038.jpg -> /content/drive/MyDrive/dataset/valid/images/200800614_038.jpg\n",
            "파일 복사 완료: /content/drive/MyDrive/dataset/valid/images/200800614/200800614_039.jpg -> /content/drive/MyDrive/dataset/valid/images/200800614_039.jpg\n",
            "파일 복사 완료: /content/drive/MyDrive/dataset/valid/images/200800614/200800614_040.jpg -> /content/drive/MyDrive/dataset/valid/images/200800614_040.jpg\n",
            "파일 복사 완료: /content/drive/MyDrive/dataset/valid/images/201000300/201000300_002.jpg -> /content/drive/MyDrive/dataset/valid/images/201000300_002.jpg\n",
            "파일 복사 완료: /content/drive/MyDrive/dataset/valid/images/201000300/201000300_001.jpg -> /content/drive/MyDrive/dataset/valid/images/201000300_001.jpg\n",
            "파일 복사 완료: /content/drive/MyDrive/dataset/valid/images/201000300/201000300_003.jpg -> /content/drive/MyDrive/dataset/valid/images/201000300_003.jpg\n",
            "파일 복사 완료: /content/drive/MyDrive/dataset/valid/images/201000300/201000300_005.jpg -> /content/drive/MyDrive/dataset/valid/images/201000300_005.jpg\n",
            "파일 복사 완료: /content/drive/MyDrive/dataset/valid/images/201000300/201000300_004.jpg -> /content/drive/MyDrive/dataset/valid/images/201000300_004.jpg\n",
            "파일 복사 완료: /content/drive/MyDrive/dataset/valid/images/201000300/201000300_006.jpg -> /content/drive/MyDrive/dataset/valid/images/201000300_006.jpg\n",
            "파일 복사 완료: /content/drive/MyDrive/dataset/valid/images/201000300/201000300_007.jpg -> /content/drive/MyDrive/dataset/valid/images/201000300_007.jpg\n",
            "파일 복사 완료: /content/drive/MyDrive/dataset/valid/images/201000300/201000300_008.jpg -> /content/drive/MyDrive/dataset/valid/images/201000300_008.jpg\n",
            "파일 복사 완료: /content/drive/MyDrive/dataset/valid/images/201000300/201000300_009.jpg -> /content/drive/MyDrive/dataset/valid/images/201000300_009.jpg\n",
            "파일 복사 완료: /content/drive/MyDrive/dataset/valid/images/201000300/201000300_010.jpg -> /content/drive/MyDrive/dataset/valid/images/201000300_010.jpg\n",
            "파일 복사 완료: /content/drive/MyDrive/dataset/valid/images/201000300/201000300_011.jpg -> /content/drive/MyDrive/dataset/valid/images/201000300_011.jpg\n",
            "파일 복사 완료: /content/drive/MyDrive/dataset/valid/images/201000300/201000300_012.jpg -> /content/drive/MyDrive/dataset/valid/images/201000300_012.jpg\n",
            "파일 복사 완료: /content/drive/MyDrive/dataset/valid/images/201000300/201000300_013.jpg -> /content/drive/MyDrive/dataset/valid/images/201000300_013.jpg\n",
            "파일 복사 완료: /content/drive/MyDrive/dataset/valid/images/201000300/201000300_014.jpg -> /content/drive/MyDrive/dataset/valid/images/201000300_014.jpg\n",
            "파일 복사 완료: /content/drive/MyDrive/dataset/valid/images/201000300/201000300_016.jpg -> /content/drive/MyDrive/dataset/valid/images/201000300_016.jpg\n",
            "파일 복사 완료: /content/drive/MyDrive/dataset/valid/images/201000300/201000300_015.jpg -> /content/drive/MyDrive/dataset/valid/images/201000300_015.jpg\n",
            "파일 복사 완료: /content/drive/MyDrive/dataset/valid/images/201000300/201000300_017.jpg -> /content/drive/MyDrive/dataset/valid/images/201000300_017.jpg\n",
            "파일 복사 완료: /content/drive/MyDrive/dataset/valid/images/201000300/201000300_018.jpg -> /content/drive/MyDrive/dataset/valid/images/201000300_018.jpg\n",
            "파일 복사 완료: /content/drive/MyDrive/dataset/valid/images/201000300/201000300_019.jpg -> /content/drive/MyDrive/dataset/valid/images/201000300_019.jpg\n",
            "파일 복사 완료: /content/drive/MyDrive/dataset/valid/images/201000300/201000300_020.jpg -> /content/drive/MyDrive/dataset/valid/images/201000300_020.jpg\n",
            "파일 복사 완료: /content/drive/MyDrive/dataset/valid/images/201000300/201000300_021.jpg -> /content/drive/MyDrive/dataset/valid/images/201000300_021.jpg\n",
            "파일 복사 완료: /content/drive/MyDrive/dataset/valid/images/201000300/201000300_023.jpg -> /content/drive/MyDrive/dataset/valid/images/201000300_023.jpg\n",
            "파일 복사 완료: /content/drive/MyDrive/dataset/valid/images/201000300/201000300_022.jpg -> /content/drive/MyDrive/dataset/valid/images/201000300_022.jpg\n",
            "파일 복사 완료: /content/drive/MyDrive/dataset/valid/images/201000300/201000300_024.jpg -> /content/drive/MyDrive/dataset/valid/images/201000300_024.jpg\n",
            "파일 복사 완료: /content/drive/MyDrive/dataset/valid/images/201000300/201000300_025.jpg -> /content/drive/MyDrive/dataset/valid/images/201000300_025.jpg\n",
            "파일 복사 완료: /content/drive/MyDrive/dataset/valid/images/201000300/201000300_026.jpg -> /content/drive/MyDrive/dataset/valid/images/201000300_026.jpg\n",
            "파일 복사 완료: /content/drive/MyDrive/dataset/valid/images/201000300/201000300_027.jpg -> /content/drive/MyDrive/dataset/valid/images/201000300_027.jpg\n",
            "파일 복사 완료: /content/drive/MyDrive/dataset/valid/images/201000300/201000300_028.jpg -> /content/drive/MyDrive/dataset/valid/images/201000300_028.jpg\n",
            "파일 복사 완료: /content/drive/MyDrive/dataset/valid/images/201000300/201000300_029.jpg -> /content/drive/MyDrive/dataset/valid/images/201000300_029.jpg\n",
            "파일 복사 완료: /content/drive/MyDrive/dataset/valid/images/201000300/201000300_030.jpg -> /content/drive/MyDrive/dataset/valid/images/201000300_030.jpg\n",
            "파일 복사 완료: /content/drive/MyDrive/dataset/valid/images/201000300/201000300_032.jpg -> /content/drive/MyDrive/dataset/valid/images/201000300_032.jpg\n",
            "파일 복사 완료: /content/drive/MyDrive/dataset/valid/images/201000300/201000300_031.jpg -> /content/drive/MyDrive/dataset/valid/images/201000300_031.jpg\n",
            "파일 복사 완료: /content/drive/MyDrive/dataset/valid/images/201000300/201000300_033.jpg -> /content/drive/MyDrive/dataset/valid/images/201000300_033.jpg\n",
            "파일 복사 완료: /content/drive/MyDrive/dataset/valid/images/201000300/201000300_035.jpg -> /content/drive/MyDrive/dataset/valid/images/201000300_035.jpg\n",
            "파일 복사 완료: /content/drive/MyDrive/dataset/valid/images/201000300/201000300_034.jpg -> /content/drive/MyDrive/dataset/valid/images/201000300_034.jpg\n",
            "파일 복사 완료: /content/drive/MyDrive/dataset/valid/images/201000300/201000300_036.jpg -> /content/drive/MyDrive/dataset/valid/images/201000300_036.jpg\n",
            "파일 복사 완료: /content/drive/MyDrive/dataset/valid/images/201000300/201000300_038.jpg -> /content/drive/MyDrive/dataset/valid/images/201000300_038.jpg\n",
            "파일 복사 완료: /content/drive/MyDrive/dataset/valid/images/201000300/201000300_037.jpg -> /content/drive/MyDrive/dataset/valid/images/201000300_037.jpg\n",
            "파일 복사 완료: /content/drive/MyDrive/dataset/valid/images/201000300/201000300_039.jpg -> /content/drive/MyDrive/dataset/valid/images/201000300_039.jpg\n",
            "파일 복사 완료: /content/drive/MyDrive/dataset/valid/images/201000300/201000300_040.jpg -> /content/drive/MyDrive/dataset/valid/images/201000300_040.jpg\n",
            "파일 복사 완료: /content/drive/MyDrive/dataset/valid/images/201000406/201000406_001.jpg -> /content/drive/MyDrive/dataset/valid/images/201000406_001.jpg\n",
            "파일 복사 완료: /content/drive/MyDrive/dataset/valid/images/201000406/201000406_002.jpg -> /content/drive/MyDrive/dataset/valid/images/201000406_002.jpg\n",
            "파일 복사 완료: /content/drive/MyDrive/dataset/valid/images/201000406/201000406_003.jpg -> /content/drive/MyDrive/dataset/valid/images/201000406_003.jpg\n",
            "파일 복사 완료: /content/drive/MyDrive/dataset/valid/images/201000406/201000406_004.jpg -> /content/drive/MyDrive/dataset/valid/images/201000406_004.jpg\n",
            "파일 복사 완료: /content/drive/MyDrive/dataset/valid/images/201000406/201000406_006.jpg -> /content/drive/MyDrive/dataset/valid/images/201000406_006.jpg\n",
            "파일 복사 완료: /content/drive/MyDrive/dataset/valid/images/201000406/201000406_005.jpg -> /content/drive/MyDrive/dataset/valid/images/201000406_005.jpg\n",
            "파일 복사 완료: /content/drive/MyDrive/dataset/valid/images/201000406/201000406_007.jpg -> /content/drive/MyDrive/dataset/valid/images/201000406_007.jpg\n",
            "파일 복사 완료: /content/drive/MyDrive/dataset/valid/images/201000406/201000406_008.jpg -> /content/drive/MyDrive/dataset/valid/images/201000406_008.jpg\n",
            "파일 복사 완료: /content/drive/MyDrive/dataset/valid/images/201000406/201000406_009.jpg -> /content/drive/MyDrive/dataset/valid/images/201000406_009.jpg\n",
            "파일 복사 완료: /content/drive/MyDrive/dataset/valid/images/201000406/201000406_010.jpg -> /content/drive/MyDrive/dataset/valid/images/201000406_010.jpg\n",
            "파일 복사 완료: /content/drive/MyDrive/dataset/valid/images/201000406/201000406_012.jpg -> /content/drive/MyDrive/dataset/valid/images/201000406_012.jpg\n",
            "파일 복사 완료: /content/drive/MyDrive/dataset/valid/images/201000406/201000406_011.jpg -> /content/drive/MyDrive/dataset/valid/images/201000406_011.jpg\n",
            "파일 복사 완료: /content/drive/MyDrive/dataset/valid/images/201000406/201000406_013.jpg -> /content/drive/MyDrive/dataset/valid/images/201000406_013.jpg\n",
            "파일 복사 완료: /content/drive/MyDrive/dataset/valid/images/201000406/201000406_014.jpg -> /content/drive/MyDrive/dataset/valid/images/201000406_014.jpg\n",
            "파일 복사 완료: /content/drive/MyDrive/dataset/valid/images/201000406/201000406_015.jpg -> /content/drive/MyDrive/dataset/valid/images/201000406_015.jpg\n",
            "파일 복사 완료: /content/drive/MyDrive/dataset/valid/images/201000406/201000406_016.jpg -> /content/drive/MyDrive/dataset/valid/images/201000406_016.jpg\n",
            "파일 복사 완료: /content/drive/MyDrive/dataset/valid/images/201000406/201000406_017.jpg -> /content/drive/MyDrive/dataset/valid/images/201000406_017.jpg\n",
            "파일 복사 완료: /content/drive/MyDrive/dataset/valid/images/201000406/201000406_018.jpg -> /content/drive/MyDrive/dataset/valid/images/201000406_018.jpg\n",
            "파일 복사 완료: /content/drive/MyDrive/dataset/valid/images/201000406/201000406_019.jpg -> /content/drive/MyDrive/dataset/valid/images/201000406_019.jpg\n",
            "파일 복사 완료: /content/drive/MyDrive/dataset/valid/images/201000406/201000406_020.jpg -> /content/drive/MyDrive/dataset/valid/images/201000406_020.jpg\n",
            "파일 복사 완료: /content/drive/MyDrive/dataset/valid/images/201000406/201000406_022.jpg -> /content/drive/MyDrive/dataset/valid/images/201000406_022.jpg\n",
            "파일 복사 완료: /content/drive/MyDrive/dataset/valid/images/201000406/201000406_021.jpg -> /content/drive/MyDrive/dataset/valid/images/201000406_021.jpg\n",
            "파일 복사 완료: /content/drive/MyDrive/dataset/valid/images/201000406/201000406_023.jpg -> /content/drive/MyDrive/dataset/valid/images/201000406_023.jpg\n",
            "파일 복사 완료: /content/drive/MyDrive/dataset/valid/images/201000406/201000406_025.jpg -> /content/drive/MyDrive/dataset/valid/images/201000406_025.jpg\n",
            "파일 복사 완료: /content/drive/MyDrive/dataset/valid/images/201000406/201000406_024.jpg -> /content/drive/MyDrive/dataset/valid/images/201000406_024.jpg\n",
            "파일 복사 완료: /content/drive/MyDrive/dataset/valid/images/201000406/201000406_026.jpg -> /content/drive/MyDrive/dataset/valid/images/201000406_026.jpg\n",
            "파일 복사 완료: /content/drive/MyDrive/dataset/valid/images/201000406/201000406_027.jpg -> /content/drive/MyDrive/dataset/valid/images/201000406_027.jpg\n",
            "파일 복사 완료: /content/drive/MyDrive/dataset/valid/images/201000406/201000406_028.jpg -> /content/drive/MyDrive/dataset/valid/images/201000406_028.jpg\n",
            "파일 복사 완료: /content/drive/MyDrive/dataset/valid/images/201000406/201000406_029.jpg -> /content/drive/MyDrive/dataset/valid/images/201000406_029.jpg\n",
            "파일 복사 완료: /content/drive/MyDrive/dataset/valid/images/201000406/201000406_031.jpg -> /content/drive/MyDrive/dataset/valid/images/201000406_031.jpg\n",
            "파일 복사 완료: /content/drive/MyDrive/dataset/valid/images/201000406/201000406_030.jpg -> /content/drive/MyDrive/dataset/valid/images/201000406_030.jpg\n",
            "파일 복사 완료: /content/drive/MyDrive/dataset/valid/images/201000406/201000406_032.jpg -> /content/drive/MyDrive/dataset/valid/images/201000406_032.jpg\n",
            "파일 복사 완료: /content/drive/MyDrive/dataset/valid/images/201000406/201000406_033.jpg -> /content/drive/MyDrive/dataset/valid/images/201000406_033.jpg\n",
            "파일 복사 완료: /content/drive/MyDrive/dataset/valid/images/201000406/201000406_034.jpg -> /content/drive/MyDrive/dataset/valid/images/201000406_034.jpg\n",
            "파일 복사 완료: /content/drive/MyDrive/dataset/valid/images/201000406/201000406_035.jpg -> /content/drive/MyDrive/dataset/valid/images/201000406_035.jpg\n",
            "파일 복사 완료: /content/drive/MyDrive/dataset/valid/images/201000406/201000406_036.jpg -> /content/drive/MyDrive/dataset/valid/images/201000406_036.jpg\n",
            "파일 복사 완료: /content/drive/MyDrive/dataset/valid/images/201000406/201000406_038.jpg -> /content/drive/MyDrive/dataset/valid/images/201000406_038.jpg\n",
            "파일 복사 완료: /content/drive/MyDrive/dataset/valid/images/201000406/201000406_037.jpg -> /content/drive/MyDrive/dataset/valid/images/201000406_037.jpg\n",
            "파일 복사 완료: /content/drive/MyDrive/dataset/valid/images/201000406/201000406_039.jpg -> /content/drive/MyDrive/dataset/valid/images/201000406_039.jpg\n",
            "파일 복사 완료: /content/drive/MyDrive/dataset/valid/images/201000406/201000406_040.jpg -> /content/drive/MyDrive/dataset/valid/images/201000406_040.jpg\n",
            "파일 복사 완료: /content/drive/MyDrive/dataset/valid/images/201000637/201000637_001.jpg -> /content/drive/MyDrive/dataset/valid/images/201000637_001.jpg\n",
            "파일 복사 완료: /content/drive/MyDrive/dataset/valid/images/201000637/201000637_002.jpg -> /content/drive/MyDrive/dataset/valid/images/201000637_002.jpg\n",
            "파일 복사 완료: /content/drive/MyDrive/dataset/valid/images/201000637/201000637_003.jpg -> /content/drive/MyDrive/dataset/valid/images/201000637_003.jpg\n",
            "파일 복사 완료: /content/drive/MyDrive/dataset/valid/images/201000637/201000637_004.jpg -> /content/drive/MyDrive/dataset/valid/images/201000637_004.jpg\n",
            "파일 복사 완료: /content/drive/MyDrive/dataset/valid/images/201000637/201000637_005.jpg -> /content/drive/MyDrive/dataset/valid/images/201000637_005.jpg\n",
            "파일 복사 완료: /content/drive/MyDrive/dataset/valid/images/201000637/201000637_006.jpg -> /content/drive/MyDrive/dataset/valid/images/201000637_006.jpg\n",
            "파일 복사 완료: /content/drive/MyDrive/dataset/valid/images/201000637/201000637_007.jpg -> /content/drive/MyDrive/dataset/valid/images/201000637_007.jpg\n",
            "파일 복사 완료: /content/drive/MyDrive/dataset/valid/images/201000637/201000637_009.jpg -> /content/drive/MyDrive/dataset/valid/images/201000637_009.jpg\n",
            "파일 복사 완료: /content/drive/MyDrive/dataset/valid/images/201000637/201000637_008.jpg -> /content/drive/MyDrive/dataset/valid/images/201000637_008.jpg\n",
            "파일 복사 완료: /content/drive/MyDrive/dataset/valid/images/201000637/201000637_010.jpg -> /content/drive/MyDrive/dataset/valid/images/201000637_010.jpg\n",
            "파일 복사 완료: /content/drive/MyDrive/dataset/valid/images/201000637/201000637_011.jpg -> /content/drive/MyDrive/dataset/valid/images/201000637_011.jpg\n",
            "파일 복사 완료: /content/drive/MyDrive/dataset/valid/images/201000637/201000637_012.jpg -> /content/drive/MyDrive/dataset/valid/images/201000637_012.jpg\n",
            "파일 복사 완료: /content/drive/MyDrive/dataset/valid/images/201000637/201000637_013.jpg -> /content/drive/MyDrive/dataset/valid/images/201000637_013.jpg\n",
            "파일 복사 완료: /content/drive/MyDrive/dataset/valid/images/201000637/201000637_014.jpg -> /content/drive/MyDrive/dataset/valid/images/201000637_014.jpg\n",
            "파일 복사 완료: /content/drive/MyDrive/dataset/valid/images/201000637/201000637_015.jpg -> /content/drive/MyDrive/dataset/valid/images/201000637_015.jpg\n",
            "파일 복사 완료: /content/drive/MyDrive/dataset/valid/images/201000637/201000637_016.jpg -> /content/drive/MyDrive/dataset/valid/images/201000637_016.jpg\n",
            "파일 복사 완료: /content/drive/MyDrive/dataset/valid/images/201000637/201000637_017.jpg -> /content/drive/MyDrive/dataset/valid/images/201000637_017.jpg\n",
            "파일 복사 완료: /content/drive/MyDrive/dataset/valid/images/201000637/201000637_018.jpg -> /content/drive/MyDrive/dataset/valid/images/201000637_018.jpg\n",
            "파일 복사 완료: /content/drive/MyDrive/dataset/valid/images/201000637/201000637_020.jpg -> /content/drive/MyDrive/dataset/valid/images/201000637_020.jpg\n",
            "파일 복사 완료: /content/drive/MyDrive/dataset/valid/images/201000637/201000637_019.jpg -> /content/drive/MyDrive/dataset/valid/images/201000637_019.jpg\n",
            "파일 복사 완료: /content/drive/MyDrive/dataset/valid/images/201000637/201000637_021.jpg -> /content/drive/MyDrive/dataset/valid/images/201000637_021.jpg\n",
            "파일 복사 완료: /content/drive/MyDrive/dataset/valid/images/201000637/201000637_022.jpg -> /content/drive/MyDrive/dataset/valid/images/201000637_022.jpg\n",
            "파일 복사 완료: /content/drive/MyDrive/dataset/valid/images/201000637/201000637_023.jpg -> /content/drive/MyDrive/dataset/valid/images/201000637_023.jpg\n",
            "파일 복사 완료: /content/drive/MyDrive/dataset/valid/images/201000637/201000637_025.jpg -> /content/drive/MyDrive/dataset/valid/images/201000637_025.jpg\n",
            "파일 복사 완료: /content/drive/MyDrive/dataset/valid/images/201000637/201000637_024.jpg -> /content/drive/MyDrive/dataset/valid/images/201000637_024.jpg\n",
            "파일 복사 완료: /content/drive/MyDrive/dataset/valid/images/201000637/201000637_026.jpg -> /content/drive/MyDrive/dataset/valid/images/201000637_026.jpg\n",
            "파일 복사 완료: /content/drive/MyDrive/dataset/valid/images/201000637/201000637_027.jpg -> /content/drive/MyDrive/dataset/valid/images/201000637_027.jpg\n",
            "파일 복사 완료: /content/drive/MyDrive/dataset/valid/images/201000637/201000637_028.jpg -> /content/drive/MyDrive/dataset/valid/images/201000637_028.jpg\n",
            "파일 복사 완료: /content/drive/MyDrive/dataset/valid/images/201000637/201000637_029.jpg -> /content/drive/MyDrive/dataset/valid/images/201000637_029.jpg\n",
            "파일 복사 완료: /content/drive/MyDrive/dataset/valid/images/201000637/201000637_031.jpg -> /content/drive/MyDrive/dataset/valid/images/201000637_031.jpg\n",
            "파일 복사 완료: /content/drive/MyDrive/dataset/valid/images/201000637/201000637_030.jpg -> /content/drive/MyDrive/dataset/valid/images/201000637_030.jpg\n",
            "파일 복사 완료: /content/drive/MyDrive/dataset/valid/images/201000637/201000637_032.jpg -> /content/drive/MyDrive/dataset/valid/images/201000637_032.jpg\n",
            "파일 복사 완료: /content/drive/MyDrive/dataset/valid/images/201000637/201000637_034.jpg -> /content/drive/MyDrive/dataset/valid/images/201000637_034.jpg\n",
            "파일 복사 완료: /content/drive/MyDrive/dataset/valid/images/201000637/201000637_033.jpg -> /content/drive/MyDrive/dataset/valid/images/201000637_033.jpg\n",
            "파일 복사 완료: /content/drive/MyDrive/dataset/valid/images/201000637/201000637_035.jpg -> /content/drive/MyDrive/dataset/valid/images/201000637_035.jpg\n",
            "파일 복사 완료: /content/drive/MyDrive/dataset/valid/images/201000637/201000637_037.jpg -> /content/drive/MyDrive/dataset/valid/images/201000637_037.jpg\n",
            "파일 복사 완료: /content/drive/MyDrive/dataset/valid/images/201000637/201000637_036.jpg -> /content/drive/MyDrive/dataset/valid/images/201000637_036.jpg\n",
            "파일 복사 완료: /content/drive/MyDrive/dataset/valid/images/201000637/201000637_038.jpg -> /content/drive/MyDrive/dataset/valid/images/201000637_038.jpg\n",
            "파일 복사 완료: /content/drive/MyDrive/dataset/valid/images/201000637/201000637_039.jpg -> /content/drive/MyDrive/dataset/valid/images/201000637_039.jpg\n",
            "파일 복사 완료: /content/drive/MyDrive/dataset/valid/images/201000637/201000637_040.jpg -> /content/drive/MyDrive/dataset/valid/images/201000637_040.jpg\n",
            "파일 복사 완료: /content/drive/MyDrive/dataset/valid/images/201000674/201000674_001.jpg -> /content/drive/MyDrive/dataset/valid/images/201000674_001.jpg\n",
            "파일 복사 완료: /content/drive/MyDrive/dataset/valid/images/201000674/201000674_002.jpg -> /content/drive/MyDrive/dataset/valid/images/201000674_002.jpg\n",
            "파일 복사 완료: /content/drive/MyDrive/dataset/valid/images/201000674/201000674_004.jpg -> /content/drive/MyDrive/dataset/valid/images/201000674_004.jpg\n",
            "파일 복사 완료: /content/drive/MyDrive/dataset/valid/images/201000674/201000674_003.jpg -> /content/drive/MyDrive/dataset/valid/images/201000674_003.jpg\n",
            "파일 복사 완료: /content/drive/MyDrive/dataset/valid/images/201000674/201000674_005.jpg -> /content/drive/MyDrive/dataset/valid/images/201000674_005.jpg\n",
            "파일 복사 완료: /content/drive/MyDrive/dataset/valid/images/201000674/201000674_006.jpg -> /content/drive/MyDrive/dataset/valid/images/201000674_006.jpg\n",
            "파일 복사 완료: /content/drive/MyDrive/dataset/valid/images/201000674/201000674_007.jpg -> /content/drive/MyDrive/dataset/valid/images/201000674_007.jpg\n",
            "파일 복사 완료: /content/drive/MyDrive/dataset/valid/images/201000674/201000674_008.jpg -> /content/drive/MyDrive/dataset/valid/images/201000674_008.jpg\n",
            "파일 복사 완료: /content/drive/MyDrive/dataset/valid/images/201000674/201000674_009.jpg -> /content/drive/MyDrive/dataset/valid/images/201000674_009.jpg\n",
            "파일 복사 완료: /content/drive/MyDrive/dataset/valid/images/201000674/201000674_010.jpg -> /content/drive/MyDrive/dataset/valid/images/201000674_010.jpg\n",
            "파일 복사 완료: /content/drive/MyDrive/dataset/valid/images/201000674/201000674_011.jpg -> /content/drive/MyDrive/dataset/valid/images/201000674_011.jpg\n",
            "파일 복사 완료: /content/drive/MyDrive/dataset/valid/images/201000674/201000674_013.jpg -> /content/drive/MyDrive/dataset/valid/images/201000674_013.jpg\n",
            "파일 복사 완료: /content/drive/MyDrive/dataset/valid/images/201000674/201000674_012.jpg -> /content/drive/MyDrive/dataset/valid/images/201000674_012.jpg\n",
            "파일 복사 완료: /content/drive/MyDrive/dataset/valid/images/201000674/201000674_014.jpg -> /content/drive/MyDrive/dataset/valid/images/201000674_014.jpg\n",
            "파일 복사 완료: /content/drive/MyDrive/dataset/valid/images/201000674/201000674_016.jpg -> /content/drive/MyDrive/dataset/valid/images/201000674_016.jpg\n",
            "파일 복사 완료: /content/drive/MyDrive/dataset/valid/images/201000674/201000674_015.jpg -> /content/drive/MyDrive/dataset/valid/images/201000674_015.jpg\n",
            "파일 복사 완료: /content/drive/MyDrive/dataset/valid/images/201000674/201000674_017.jpg -> /content/drive/MyDrive/dataset/valid/images/201000674_017.jpg\n",
            "파일 복사 완료: /content/drive/MyDrive/dataset/valid/images/201000674/201000674_018.jpg -> /content/drive/MyDrive/dataset/valid/images/201000674_018.jpg\n",
            "파일 복사 완료: /content/drive/MyDrive/dataset/valid/images/201000674/201000674_019.jpg -> /content/drive/MyDrive/dataset/valid/images/201000674_019.jpg\n",
            "파일 복사 완료: /content/drive/MyDrive/dataset/valid/images/201000674/201000674_020.jpg -> /content/drive/MyDrive/dataset/valid/images/201000674_020.jpg\n",
            "파일 복사 완료: /content/drive/MyDrive/dataset/valid/images/201000674/201000674_022.jpg -> /content/drive/MyDrive/dataset/valid/images/201000674_022.jpg\n",
            "파일 복사 완료: /content/drive/MyDrive/dataset/valid/images/201000674/201000674_021.jpg -> /content/drive/MyDrive/dataset/valid/images/201000674_021.jpg\n",
            "파일 복사 완료: /content/drive/MyDrive/dataset/valid/images/201000674/201000674_023.jpg -> /content/drive/MyDrive/dataset/valid/images/201000674_023.jpg\n",
            "파일 복사 완료: /content/drive/MyDrive/dataset/valid/images/201000674/201000674_024.jpg -> /content/drive/MyDrive/dataset/valid/images/201000674_024.jpg\n",
            "파일 복사 완료: /content/drive/MyDrive/dataset/valid/images/201000674/201000674_025.jpg -> /content/drive/MyDrive/dataset/valid/images/201000674_025.jpg\n",
            "파일 복사 완료: /content/drive/MyDrive/dataset/valid/images/201000674/201000674_026.jpg -> /content/drive/MyDrive/dataset/valid/images/201000674_026.jpg\n",
            "파일 복사 완료: /content/drive/MyDrive/dataset/valid/images/201000674/201000674_027.jpg -> /content/drive/MyDrive/dataset/valid/images/201000674_027.jpg\n",
            "파일 복사 완료: /content/drive/MyDrive/dataset/valid/images/201000674/201000674_028.jpg -> /content/drive/MyDrive/dataset/valid/images/201000674_028.jpg\n",
            "파일 복사 완료: /content/drive/MyDrive/dataset/valid/images/201000674/201000674_029.jpg -> /content/drive/MyDrive/dataset/valid/images/201000674_029.jpg\n",
            "파일 복사 완료: /content/drive/MyDrive/dataset/valid/images/201000674/201000674_031.jpg -> /content/drive/MyDrive/dataset/valid/images/201000674_031.jpg\n",
            "파일 복사 완료: /content/drive/MyDrive/dataset/valid/images/201000674/201000674_030.jpg -> /content/drive/MyDrive/dataset/valid/images/201000674_030.jpg\n",
            "파일 복사 완료: /content/drive/MyDrive/dataset/valid/images/201000674/201000674_032.jpg -> /content/drive/MyDrive/dataset/valid/images/201000674_032.jpg\n",
            "파일 복사 완료: /content/drive/MyDrive/dataset/valid/images/201000674/201000674_033.jpg -> /content/drive/MyDrive/dataset/valid/images/201000674_033.jpg\n",
            "파일 복사 완료: /content/drive/MyDrive/dataset/valid/images/201000674/201000674_034.jpg -> /content/drive/MyDrive/dataset/valid/images/201000674_034.jpg\n",
            "파일 복사 완료: /content/drive/MyDrive/dataset/valid/images/201000674/201000674_035.jpg -> /content/drive/MyDrive/dataset/valid/images/201000674_035.jpg\n",
            "파일 복사 완료: /content/drive/MyDrive/dataset/valid/images/201000674/201000674_037.jpg -> /content/drive/MyDrive/dataset/valid/images/201000674_037.jpg\n",
            "파일 복사 완료: /content/drive/MyDrive/dataset/valid/images/201000674/201000674_036.jpg -> /content/drive/MyDrive/dataset/valid/images/201000674_036.jpg\n",
            "파일 복사 완료: /content/drive/MyDrive/dataset/valid/images/201000674/201000674_038.jpg -> /content/drive/MyDrive/dataset/valid/images/201000674_038.jpg\n",
            "파일 복사 완료: /content/drive/MyDrive/dataset/valid/images/201000674/201000674_039.jpg -> /content/drive/MyDrive/dataset/valid/images/201000674_039.jpg\n",
            "파일 복사 완료: /content/drive/MyDrive/dataset/valid/images/201000674/201000674_040.jpg -> /content/drive/MyDrive/dataset/valid/images/201000674_040.jpg\n",
            "파일 복사 완료: /content/drive/MyDrive/dataset/valid/images/201000826/201000826_001.jpg -> /content/drive/MyDrive/dataset/valid/images/201000826_001.jpg\n",
            "파일 복사 완료: /content/drive/MyDrive/dataset/valid/images/201000826/201000826_002.jpg -> /content/drive/MyDrive/dataset/valid/images/201000826_002.jpg\n",
            "파일 복사 완료: /content/drive/MyDrive/dataset/valid/images/201000826/201000826_003.jpg -> /content/drive/MyDrive/dataset/valid/images/201000826_003.jpg\n",
            "파일 복사 완료: /content/drive/MyDrive/dataset/valid/images/201000826/201000826_004.jpg -> /content/drive/MyDrive/dataset/valid/images/201000826_004.jpg\n",
            "파일 복사 완료: /content/drive/MyDrive/dataset/valid/images/201000826/201000826_005.jpg -> /content/drive/MyDrive/dataset/valid/images/201000826_005.jpg\n",
            "파일 복사 완료: /content/drive/MyDrive/dataset/valid/images/201000826/201000826_006.jpg -> /content/drive/MyDrive/dataset/valid/images/201000826_006.jpg\n",
            "파일 복사 완료: /content/drive/MyDrive/dataset/valid/images/201000826/201000826_008.jpg -> /content/drive/MyDrive/dataset/valid/images/201000826_008.jpg\n",
            "파일 복사 완료: /content/drive/MyDrive/dataset/valid/images/201000826/201000826_007.jpg -> /content/drive/MyDrive/dataset/valid/images/201000826_007.jpg\n",
            "파일 복사 완료: /content/drive/MyDrive/dataset/valid/images/201000826/201000826_009.jpg -> /content/drive/MyDrive/dataset/valid/images/201000826_009.jpg\n",
            "파일 복사 완료: /content/drive/MyDrive/dataset/valid/images/201000826/201000826_011.jpg -> /content/drive/MyDrive/dataset/valid/images/201000826_011.jpg\n",
            "파일 복사 완료: /content/drive/MyDrive/dataset/valid/images/201000826/201000826_010.jpg -> /content/drive/MyDrive/dataset/valid/images/201000826_010.jpg\n",
            "파일 복사 완료: /content/drive/MyDrive/dataset/valid/images/201000826/201000826_012.jpg -> /content/drive/MyDrive/dataset/valid/images/201000826_012.jpg\n",
            "파일 복사 완료: /content/drive/MyDrive/dataset/valid/images/201000826/201000826_014.jpg -> /content/drive/MyDrive/dataset/valid/images/201000826_014.jpg\n",
            "파일 복사 완료: /content/drive/MyDrive/dataset/valid/images/201000826/201000826_013.jpg -> /content/drive/MyDrive/dataset/valid/images/201000826_013.jpg\n",
            "파일 복사 완료: /content/drive/MyDrive/dataset/valid/images/201000826/201000826_015.jpg -> /content/drive/MyDrive/dataset/valid/images/201000826_015.jpg\n",
            "파일 복사 완료: /content/drive/MyDrive/dataset/valid/images/201000826/201000826_016.jpg -> /content/drive/MyDrive/dataset/valid/images/201000826_016.jpg\n",
            "파일 복사 완료: /content/drive/MyDrive/dataset/valid/images/201000826/201000826_017.jpg -> /content/drive/MyDrive/dataset/valid/images/201000826_017.jpg\n",
            "파일 복사 완료: /content/drive/MyDrive/dataset/valid/images/201000826/201000826_018.jpg -> /content/drive/MyDrive/dataset/valid/images/201000826_018.jpg\n",
            "파일 복사 완료: /content/drive/MyDrive/dataset/valid/images/201000826/201000826_019.jpg -> /content/drive/MyDrive/dataset/valid/images/201000826_019.jpg\n",
            "파일 복사 완료: /content/drive/MyDrive/dataset/valid/images/201000826/201000826_020.jpg -> /content/drive/MyDrive/dataset/valid/images/201000826_020.jpg\n",
            "파일 복사 완료: /content/drive/MyDrive/dataset/valid/images/201000826/201000826_021.jpg -> /content/drive/MyDrive/dataset/valid/images/201000826_021.jpg\n",
            "파일 복사 완료: /content/drive/MyDrive/dataset/valid/images/201000826/201000826_022.jpg -> /content/drive/MyDrive/dataset/valid/images/201000826_022.jpg\n",
            "파일 복사 완료: /content/drive/MyDrive/dataset/valid/images/201000826/201000826_023.jpg -> /content/drive/MyDrive/dataset/valid/images/201000826_023.jpg\n",
            "파일 복사 완료: /content/drive/MyDrive/dataset/valid/images/201000826/201000826_024.jpg -> /content/drive/MyDrive/dataset/valid/images/201000826_024.jpg\n",
            "파일 복사 완료: /content/drive/MyDrive/dataset/valid/images/201000826/201000826_025.jpg -> /content/drive/MyDrive/dataset/valid/images/201000826_025.jpg\n",
            "파일 복사 완료: /content/drive/MyDrive/dataset/valid/images/201000826/201000826_026.jpg -> /content/drive/MyDrive/dataset/valid/images/201000826_026.jpg\n",
            "파일 복사 완료: /content/drive/MyDrive/dataset/valid/images/201000826/201000826_027.jpg -> /content/drive/MyDrive/dataset/valid/images/201000826_027.jpg\n",
            "파일 복사 완료: /content/drive/MyDrive/dataset/valid/images/201000826/201000826_028.jpg -> /content/drive/MyDrive/dataset/valid/images/201000826_028.jpg\n",
            "파일 복사 완료: /content/drive/MyDrive/dataset/valid/images/201000826/201000826_029.jpg -> /content/drive/MyDrive/dataset/valid/images/201000826_029.jpg\n",
            "파일 복사 완료: /content/drive/MyDrive/dataset/valid/images/201000826/201000826_030.jpg -> /content/drive/MyDrive/dataset/valid/images/201000826_030.jpg\n",
            "파일 복사 완료: /content/drive/MyDrive/dataset/valid/images/201000826/201000826_031.jpg -> /content/drive/MyDrive/dataset/valid/images/201000826_031.jpg\n",
            "파일 복사 완료: /content/drive/MyDrive/dataset/valid/images/201000826/201000826_032.jpg -> /content/drive/MyDrive/dataset/valid/images/201000826_032.jpg\n",
            "파일 복사 완료: /content/drive/MyDrive/dataset/valid/images/201000826/201000826_033.jpg -> /content/drive/MyDrive/dataset/valid/images/201000826_033.jpg\n",
            "파일 복사 완료: /content/drive/MyDrive/dataset/valid/images/201000826/201000826_034.jpg -> /content/drive/MyDrive/dataset/valid/images/201000826_034.jpg\n",
            "파일 복사 완료: /content/drive/MyDrive/dataset/valid/images/201000826/201000826_035.jpg -> /content/drive/MyDrive/dataset/valid/images/201000826_035.jpg\n",
            "파일 복사 완료: /content/drive/MyDrive/dataset/valid/images/201000826/201000826_036.jpg -> /content/drive/MyDrive/dataset/valid/images/201000826_036.jpg\n",
            "파일 복사 완료: /content/drive/MyDrive/dataset/valid/images/201000826/201000826_037.jpg -> /content/drive/MyDrive/dataset/valid/images/201000826_037.jpg\n",
            "파일 복사 완료: /content/drive/MyDrive/dataset/valid/images/201000826/201000826_039.jpg -> /content/drive/MyDrive/dataset/valid/images/201000826_039.jpg\n",
            "파일 복사 완료: /content/drive/MyDrive/dataset/valid/images/201000826/201000826_038.jpg -> /content/drive/MyDrive/dataset/valid/images/201000826_038.jpg\n",
            "파일 복사 완료: /content/drive/MyDrive/dataset/valid/images/201000826/201000826_040.jpg -> /content/drive/MyDrive/dataset/valid/images/201000826_040.jpg\n",
            "파일 복사 완료: /content/drive/MyDrive/dataset/valid/images/201000869/201000869_001.jpg -> /content/drive/MyDrive/dataset/valid/images/201000869_001.jpg\n",
            "파일 복사 완료: /content/drive/MyDrive/dataset/valid/images/201000869/201000869_002.jpg -> /content/drive/MyDrive/dataset/valid/images/201000869_002.jpg\n",
            "파일 복사 완료: /content/drive/MyDrive/dataset/valid/images/201000869/201000869_004.jpg -> /content/drive/MyDrive/dataset/valid/images/201000869_004.jpg\n",
            "파일 복사 완료: /content/drive/MyDrive/dataset/valid/images/201000869/201000869_003.jpg -> /content/drive/MyDrive/dataset/valid/images/201000869_003.jpg\n",
            "파일 복사 완료: /content/drive/MyDrive/dataset/valid/images/201000869/201000869_005.jpg -> /content/drive/MyDrive/dataset/valid/images/201000869_005.jpg\n",
            "파일 복사 완료: /content/drive/MyDrive/dataset/valid/images/201000869/201000869_007.jpg -> /content/drive/MyDrive/dataset/valid/images/201000869_007.jpg\n",
            "파일 복사 완료: /content/drive/MyDrive/dataset/valid/images/201000869/201000869_006.jpg -> /content/drive/MyDrive/dataset/valid/images/201000869_006.jpg\n",
            "파일 복사 완료: /content/drive/MyDrive/dataset/valid/images/201000869/201000869_008.jpg -> /content/drive/MyDrive/dataset/valid/images/201000869_008.jpg\n",
            "파일 복사 완료: /content/drive/MyDrive/dataset/valid/images/201000869/201000869_009.jpg -> /content/drive/MyDrive/dataset/valid/images/201000869_009.jpg\n",
            "파일 복사 완료: /content/drive/MyDrive/dataset/valid/images/201000869/201000869_010.jpg -> /content/drive/MyDrive/dataset/valid/images/201000869_010.jpg\n",
            "파일 복사 완료: /content/drive/MyDrive/dataset/valid/images/201000869/201000869_011.jpg -> /content/drive/MyDrive/dataset/valid/images/201000869_011.jpg\n",
            "파일 복사 완료: /content/drive/MyDrive/dataset/valid/images/201000869/201000869_012.jpg -> /content/drive/MyDrive/dataset/valid/images/201000869_012.jpg\n",
            "파일 복사 완료: /content/drive/MyDrive/dataset/valid/images/201000869/201000869_013.jpg -> /content/drive/MyDrive/dataset/valid/images/201000869_013.jpg\n",
            "파일 복사 완료: /content/drive/MyDrive/dataset/valid/images/201000869/201000869_014.jpg -> /content/drive/MyDrive/dataset/valid/images/201000869_014.jpg\n",
            "파일 복사 완료: /content/drive/MyDrive/dataset/valid/images/201000869/201000869_015.jpg -> /content/drive/MyDrive/dataset/valid/images/201000869_015.jpg\n",
            "파일 복사 완료: /content/drive/MyDrive/dataset/valid/images/201000869/201000869_016.jpg -> /content/drive/MyDrive/dataset/valid/images/201000869_016.jpg\n",
            "파일 복사 완료: /content/drive/MyDrive/dataset/valid/images/201000869/201000869_017.jpg -> /content/drive/MyDrive/dataset/valid/images/201000869_017.jpg\n",
            "파일 복사 완료: /content/drive/MyDrive/dataset/valid/images/201000869/201000869_018.jpg -> /content/drive/MyDrive/dataset/valid/images/201000869_018.jpg\n",
            "파일 복사 완료: /content/drive/MyDrive/dataset/valid/images/201000869/201000869_019.jpg -> /content/drive/MyDrive/dataset/valid/images/201000869_019.jpg\n",
            "파일 복사 완료: /content/drive/MyDrive/dataset/valid/images/201000869/201000869_020.jpg -> /content/drive/MyDrive/dataset/valid/images/201000869_020.jpg\n",
            "파일 복사 완료: /content/drive/MyDrive/dataset/valid/images/201000869/201000869_021.jpg -> /content/drive/MyDrive/dataset/valid/images/201000869_021.jpg\n",
            "파일 복사 완료: /content/drive/MyDrive/dataset/valid/images/201000869/201000869_022.jpg -> /content/drive/MyDrive/dataset/valid/images/201000869_022.jpg\n",
            "파일 복사 완료: /content/drive/MyDrive/dataset/valid/images/201000869/201000869_024.jpg -> /content/drive/MyDrive/dataset/valid/images/201000869_024.jpg\n",
            "파일 복사 완료: /content/drive/MyDrive/dataset/valid/images/201000869/201000869_023.jpg -> /content/drive/MyDrive/dataset/valid/images/201000869_023.jpg\n",
            "파일 복사 완료: /content/drive/MyDrive/dataset/valid/images/201000869/201000869_025.jpg -> /content/drive/MyDrive/dataset/valid/images/201000869_025.jpg\n",
            "파일 복사 완료: /content/drive/MyDrive/dataset/valid/images/201000869/201000869_027.jpg -> /content/drive/MyDrive/dataset/valid/images/201000869_027.jpg\n",
            "파일 복사 완료: /content/drive/MyDrive/dataset/valid/images/201000869/201000869_026.jpg -> /content/drive/MyDrive/dataset/valid/images/201000869_026.jpg\n",
            "파일 복사 완료: /content/drive/MyDrive/dataset/valid/images/201000869/201000869_028.jpg -> /content/drive/MyDrive/dataset/valid/images/201000869_028.jpg\n",
            "파일 복사 완료: /content/drive/MyDrive/dataset/valid/images/201000869/201000869_030.jpg -> /content/drive/MyDrive/dataset/valid/images/201000869_030.jpg\n",
            "파일 복사 완료: /content/drive/MyDrive/dataset/valid/images/201000869/201000869_029.jpg -> /content/drive/MyDrive/dataset/valid/images/201000869_029.jpg\n",
            "파일 복사 완료: /content/drive/MyDrive/dataset/valid/images/201000869/201000869_031.jpg -> /content/drive/MyDrive/dataset/valid/images/201000869_031.jpg\n",
            "파일 복사 완료: /content/drive/MyDrive/dataset/valid/images/201000869/201000869_033.jpg -> /content/drive/MyDrive/dataset/valid/images/201000869_033.jpg\n",
            "파일 복사 완료: /content/drive/MyDrive/dataset/valid/images/201000869/201000869_032.jpg -> /content/drive/MyDrive/dataset/valid/images/201000869_032.jpg\n",
            "파일 복사 완료: /content/drive/MyDrive/dataset/valid/images/201000869/201000869_034.jpg -> /content/drive/MyDrive/dataset/valid/images/201000869_034.jpg\n",
            "파일 복사 완료: /content/drive/MyDrive/dataset/valid/images/201000869/201000869_035.jpg -> /content/drive/MyDrive/dataset/valid/images/201000869_035.jpg\n",
            "파일 복사 완료: /content/drive/MyDrive/dataset/valid/images/201000869/201000869_036.jpg -> /content/drive/MyDrive/dataset/valid/images/201000869_036.jpg\n",
            "파일 복사 완료: /content/drive/MyDrive/dataset/valid/images/201000869/201000869_037.jpg -> /content/drive/MyDrive/dataset/valid/images/201000869_037.jpg\n",
            "파일 복사 완료: /content/drive/MyDrive/dataset/valid/images/201000869/201000869_039.jpg -> /content/drive/MyDrive/dataset/valid/images/201000869_039.jpg\n",
            "파일 복사 완료: /content/drive/MyDrive/dataset/valid/images/201000869/201000869_038.jpg -> /content/drive/MyDrive/dataset/valid/images/201000869_038.jpg\n",
            "파일 복사 완료: /content/drive/MyDrive/dataset/valid/images/201000869/201000869_040.jpg -> /content/drive/MyDrive/dataset/valid/images/201000869_040.jpg\n",
            "파일 복사 완료: /content/drive/MyDrive/dataset/valid/images/201000874/201000874_001.jpg -> /content/drive/MyDrive/dataset/valid/images/201000874_001.jpg\n",
            "파일 복사 완료: /content/drive/MyDrive/dataset/valid/images/201000874/201000874_002.jpg -> /content/drive/MyDrive/dataset/valid/images/201000874_002.jpg\n",
            "파일 복사 완료: /content/drive/MyDrive/dataset/valid/images/201000874/201000874_003.jpg -> /content/drive/MyDrive/dataset/valid/images/201000874_003.jpg\n",
            "파일 복사 완료: /content/drive/MyDrive/dataset/valid/images/201000874/201000874_005.jpg -> /content/drive/MyDrive/dataset/valid/images/201000874_005.jpg\n",
            "파일 복사 완료: /content/drive/MyDrive/dataset/valid/images/201000874/201000874_004.jpg -> /content/drive/MyDrive/dataset/valid/images/201000874_004.jpg\n",
            "파일 복사 완료: /content/drive/MyDrive/dataset/valid/images/201000874/201000874_006.jpg -> /content/drive/MyDrive/dataset/valid/images/201000874_006.jpg\n",
            "파일 복사 완료: /content/drive/MyDrive/dataset/valid/images/201000874/201000874_008.jpg -> /content/drive/MyDrive/dataset/valid/images/201000874_008.jpg\n",
            "파일 복사 완료: /content/drive/MyDrive/dataset/valid/images/201000874/201000874_007.jpg -> /content/drive/MyDrive/dataset/valid/images/201000874_007.jpg\n",
            "파일 복사 완료: /content/drive/MyDrive/dataset/valid/images/201000874/201000874_009.jpg -> /content/drive/MyDrive/dataset/valid/images/201000874_009.jpg\n",
            "파일 복사 완료: /content/drive/MyDrive/dataset/valid/images/201000874/201000874_010.jpg -> /content/drive/MyDrive/dataset/valid/images/201000874_010.jpg\n",
            "파일 복사 완료: /content/drive/MyDrive/dataset/valid/images/201000874/201000874_011.jpg -> /content/drive/MyDrive/dataset/valid/images/201000874_011.jpg\n",
            "파일 복사 완료: /content/drive/MyDrive/dataset/valid/images/201000874/201000874_012.jpg -> /content/drive/MyDrive/dataset/valid/images/201000874_012.jpg\n",
            "파일 복사 완료: /content/drive/MyDrive/dataset/valid/images/201000874/201000874_014.jpg -> /content/drive/MyDrive/dataset/valid/images/201000874_014.jpg\n",
            "파일 복사 완료: /content/drive/MyDrive/dataset/valid/images/201000874/201000874_013.jpg -> /content/drive/MyDrive/dataset/valid/images/201000874_013.jpg\n",
            "파일 복사 완료: /content/drive/MyDrive/dataset/valid/images/201000874/201000874_015.jpg -> /content/drive/MyDrive/dataset/valid/images/201000874_015.jpg\n",
            "파일 복사 완료: /content/drive/MyDrive/dataset/valid/images/201000874/201000874_016.jpg -> /content/drive/MyDrive/dataset/valid/images/201000874_016.jpg\n",
            "파일 복사 완료: /content/drive/MyDrive/dataset/valid/images/201000874/201000874_017.jpg -> /content/drive/MyDrive/dataset/valid/images/201000874_017.jpg\n",
            "파일 복사 완료: /content/drive/MyDrive/dataset/valid/images/201000874/201000874_018.jpg -> /content/drive/MyDrive/dataset/valid/images/201000874_018.jpg\n",
            "파일 복사 완료: /content/drive/MyDrive/dataset/valid/images/201000874/201000874_020.jpg -> /content/drive/MyDrive/dataset/valid/images/201000874_020.jpg\n",
            "파일 복사 완료: /content/drive/MyDrive/dataset/valid/images/201000874/201000874_019.jpg -> /content/drive/MyDrive/dataset/valid/images/201000874_019.jpg\n",
            "파일 복사 완료: /content/drive/MyDrive/dataset/valid/images/201000874/201000874_021.jpg -> /content/drive/MyDrive/dataset/valid/images/201000874_021.jpg\n",
            "파일 복사 완료: /content/drive/MyDrive/dataset/valid/images/201000874/201000874_022.jpg -> /content/drive/MyDrive/dataset/valid/images/201000874_022.jpg\n",
            "파일 복사 완료: /content/drive/MyDrive/dataset/valid/images/201000874/201000874_024.jpg -> /content/drive/MyDrive/dataset/valid/images/201000874_024.jpg\n",
            "파일 복사 완료: /content/drive/MyDrive/dataset/valid/images/201000874/201000874_023.jpg -> /content/drive/MyDrive/dataset/valid/images/201000874_023.jpg\n",
            "파일 복사 완료: /content/drive/MyDrive/dataset/valid/images/201000874/201000874_025.jpg -> /content/drive/MyDrive/dataset/valid/images/201000874_025.jpg\n",
            "파일 복사 완료: /content/drive/MyDrive/dataset/valid/images/201000874/201000874_026.jpg -> /content/drive/MyDrive/dataset/valid/images/201000874_026.jpg\n",
            "파일 복사 완료: /content/drive/MyDrive/dataset/valid/images/201000874/201000874_027.jpg -> /content/drive/MyDrive/dataset/valid/images/201000874_027.jpg\n",
            "파일 복사 완료: /content/drive/MyDrive/dataset/valid/images/201000874/201000874_028.jpg -> /content/drive/MyDrive/dataset/valid/images/201000874_028.jpg\n",
            "파일 복사 완료: /content/drive/MyDrive/dataset/valid/images/201000874/201000874_029.jpg -> /content/drive/MyDrive/dataset/valid/images/201000874_029.jpg\n",
            "파일 복사 완료: /content/drive/MyDrive/dataset/valid/images/201000874/201000874_030.jpg -> /content/drive/MyDrive/dataset/valid/images/201000874_030.jpg\n",
            "파일 복사 완료: /content/drive/MyDrive/dataset/valid/images/201000874/201000874_031.jpg -> /content/drive/MyDrive/dataset/valid/images/201000874_031.jpg\n",
            "파일 복사 완료: /content/drive/MyDrive/dataset/valid/images/201000874/201000874_032.jpg -> /content/drive/MyDrive/dataset/valid/images/201000874_032.jpg\n",
            "파일 복사 완료: /content/drive/MyDrive/dataset/valid/images/201000874/201000874_033.jpg -> /content/drive/MyDrive/dataset/valid/images/201000874_033.jpg\n",
            "파일 복사 완료: /content/drive/MyDrive/dataset/valid/images/201000874/201000874_034.jpg -> /content/drive/MyDrive/dataset/valid/images/201000874_034.jpg\n",
            "파일 복사 완료: /content/drive/MyDrive/dataset/valid/images/201000874/201000874_036.jpg -> /content/drive/MyDrive/dataset/valid/images/201000874_036.jpg\n",
            "파일 복사 완료: /content/drive/MyDrive/dataset/valid/images/201000874/201000874_035.jpg -> /content/drive/MyDrive/dataset/valid/images/201000874_035.jpg\n",
            "파일 복사 완료: /content/drive/MyDrive/dataset/valid/images/201000874/201000874_037.jpg -> /content/drive/MyDrive/dataset/valid/images/201000874_037.jpg\n",
            "파일 복사 완료: /content/drive/MyDrive/dataset/valid/images/201000874/201000874_039.jpg -> /content/drive/MyDrive/dataset/valid/images/201000874_039.jpg\n",
            "파일 복사 완료: /content/drive/MyDrive/dataset/valid/images/201000874/201000874_038.jpg -> /content/drive/MyDrive/dataset/valid/images/201000874_038.jpg\n",
            "파일 복사 완료: /content/drive/MyDrive/dataset/valid/images/201000874/201000874_040.jpg -> /content/drive/MyDrive/dataset/valid/images/201000874_040.jpg\n",
            "파일 복사 완료: /content/drive/MyDrive/dataset/valid/images/201000875/201000875_001.jpg -> /content/drive/MyDrive/dataset/valid/images/201000875_001.jpg\n",
            "파일 복사 완료: /content/drive/MyDrive/dataset/valid/images/201000875/201000875_003.jpg -> /content/drive/MyDrive/dataset/valid/images/201000875_003.jpg\n",
            "파일 복사 완료: /content/drive/MyDrive/dataset/valid/images/201000875/201000875_002.jpg -> /content/drive/MyDrive/dataset/valid/images/201000875_002.jpg\n",
            "파일 복사 완료: /content/drive/MyDrive/dataset/valid/images/201000875/201000875_004.jpg -> /content/drive/MyDrive/dataset/valid/images/201000875_004.jpg\n",
            "파일 복사 완료: /content/drive/MyDrive/dataset/valid/images/201000875/201000875_006.jpg -> /content/drive/MyDrive/dataset/valid/images/201000875_006.jpg\n",
            "파일 복사 완료: /content/drive/MyDrive/dataset/valid/images/201000875/201000875_005.jpg -> /content/drive/MyDrive/dataset/valid/images/201000875_005.jpg\n",
            "파일 복사 완료: /content/drive/MyDrive/dataset/valid/images/201000875/201000875_008.jpg -> /content/drive/MyDrive/dataset/valid/images/201000875_008.jpg\n",
            "파일 복사 완료: /content/drive/MyDrive/dataset/valid/images/201000875/201000875_007.jpg -> /content/drive/MyDrive/dataset/valid/images/201000875_007.jpg\n",
            "파일 복사 완료: /content/drive/MyDrive/dataset/valid/images/201000875/201000875_009.jpg -> /content/drive/MyDrive/dataset/valid/images/201000875_009.jpg\n",
            "파일 복사 완료: /content/drive/MyDrive/dataset/valid/images/201000875/201000875_010.jpg -> /content/drive/MyDrive/dataset/valid/images/201000875_010.jpg\n",
            "파일 복사 완료: /content/drive/MyDrive/dataset/valid/images/201000875/201000875_011.jpg -> /content/drive/MyDrive/dataset/valid/images/201000875_011.jpg\n",
            "파일 복사 완료: /content/drive/MyDrive/dataset/valid/images/201000875/201000875_012.jpg -> /content/drive/MyDrive/dataset/valid/images/201000875_012.jpg\n",
            "파일 복사 완료: /content/drive/MyDrive/dataset/valid/images/201000875/201000875_014.jpg -> /content/drive/MyDrive/dataset/valid/images/201000875_014.jpg\n",
            "파일 복사 완료: /content/drive/MyDrive/dataset/valid/images/201000875/201000875_013.jpg -> /content/drive/MyDrive/dataset/valid/images/201000875_013.jpg\n",
            "파일 복사 완료: /content/drive/MyDrive/dataset/valid/images/201000875/201000875_015.jpg -> /content/drive/MyDrive/dataset/valid/images/201000875_015.jpg\n",
            "파일 복사 완료: /content/drive/MyDrive/dataset/valid/images/201000875/201000875_017.jpg -> /content/drive/MyDrive/dataset/valid/images/201000875_017.jpg\n",
            "파일 복사 완료: /content/drive/MyDrive/dataset/valid/images/201000875/201000875_016.jpg -> /content/drive/MyDrive/dataset/valid/images/201000875_016.jpg\n",
            "파일 복사 완료: /content/drive/MyDrive/dataset/valid/images/201000875/201000875_018.jpg -> /content/drive/MyDrive/dataset/valid/images/201000875_018.jpg\n",
            "파일 복사 완료: /content/drive/MyDrive/dataset/valid/images/201000875/201000875_019.jpg -> /content/drive/MyDrive/dataset/valid/images/201000875_019.jpg\n",
            "파일 복사 완료: /content/drive/MyDrive/dataset/valid/images/201000875/201000875_020.jpg -> /content/drive/MyDrive/dataset/valid/images/201000875_020.jpg\n",
            "파일 복사 완료: /content/drive/MyDrive/dataset/valid/images/201000875/201000875_022.jpg -> /content/drive/MyDrive/dataset/valid/images/201000875_022.jpg\n",
            "파일 복사 완료: /content/drive/MyDrive/dataset/valid/images/201000875/201000875_021.jpg -> /content/drive/MyDrive/dataset/valid/images/201000875_021.jpg\n",
            "파일 복사 완료: /content/drive/MyDrive/dataset/valid/images/201000875/201000875_023.jpg -> /content/drive/MyDrive/dataset/valid/images/201000875_023.jpg\n",
            "파일 복사 완료: /content/drive/MyDrive/dataset/valid/images/201000875/201000875_024.jpg -> /content/drive/MyDrive/dataset/valid/images/201000875_024.jpg\n",
            "파일 복사 완료: /content/drive/MyDrive/dataset/valid/images/201000875/201000875_025.jpg -> /content/drive/MyDrive/dataset/valid/images/201000875_025.jpg\n",
            "파일 복사 완료: /content/drive/MyDrive/dataset/valid/images/201000875/201000875_026.jpg -> /content/drive/MyDrive/dataset/valid/images/201000875_026.jpg\n",
            "파일 복사 완료: /content/drive/MyDrive/dataset/valid/images/201000875/201000875_027.jpg -> /content/drive/MyDrive/dataset/valid/images/201000875_027.jpg\n",
            "파일 복사 완료: /content/drive/MyDrive/dataset/valid/images/201000875/201000875_028.jpg -> /content/drive/MyDrive/dataset/valid/images/201000875_028.jpg\n",
            "파일 복사 완료: /content/drive/MyDrive/dataset/valid/images/201000875/201000875_029.jpg -> /content/drive/MyDrive/dataset/valid/images/201000875_029.jpg\n",
            "파일 복사 완료: /content/drive/MyDrive/dataset/valid/images/201000875/201000875_030.jpg -> /content/drive/MyDrive/dataset/valid/images/201000875_030.jpg\n",
            "파일 복사 완료: /content/drive/MyDrive/dataset/valid/images/201000875/201000875_031.jpg -> /content/drive/MyDrive/dataset/valid/images/201000875_031.jpg\n",
            "파일 복사 완료: /content/drive/MyDrive/dataset/valid/images/201000875/201000875_032.jpg -> /content/drive/MyDrive/dataset/valid/images/201000875_032.jpg\n",
            "파일 복사 완료: /content/drive/MyDrive/dataset/valid/images/201000875/201000875_033.jpg -> /content/drive/MyDrive/dataset/valid/images/201000875_033.jpg\n",
            "파일 복사 완료: /content/drive/MyDrive/dataset/valid/images/201000875/201000875_034.jpg -> /content/drive/MyDrive/dataset/valid/images/201000875_034.jpg\n",
            "파일 복사 완료: /content/drive/MyDrive/dataset/valid/images/201000875/201000875_035.jpg -> /content/drive/MyDrive/dataset/valid/images/201000875_035.jpg\n",
            "파일 복사 완료: /content/drive/MyDrive/dataset/valid/images/201000875/201000875_036.jpg -> /content/drive/MyDrive/dataset/valid/images/201000875_036.jpg\n",
            "파일 복사 완료: /content/drive/MyDrive/dataset/valid/images/201000875/201000875_037.jpg -> /content/drive/MyDrive/dataset/valid/images/201000875_037.jpg\n",
            "파일 복사 완료: /content/drive/MyDrive/dataset/valid/images/201000875/201000875_038.jpg -> /content/drive/MyDrive/dataset/valid/images/201000875_038.jpg\n",
            "파일 복사 완료: /content/drive/MyDrive/dataset/valid/images/201000875/201000875_039.jpg -> /content/drive/MyDrive/dataset/valid/images/201000875_039.jpg\n",
            "파일 복사 완료: /content/drive/MyDrive/dataset/valid/images/201000875/201000875_040.jpg -> /content/drive/MyDrive/dataset/valid/images/201000875_040.jpg\n",
            "파일 복사 완료: /content/drive/MyDrive/dataset/valid/images/201000877/201000877_001.jpg -> /content/drive/MyDrive/dataset/valid/images/201000877_001.jpg\n",
            "파일 복사 완료: /content/drive/MyDrive/dataset/valid/images/201000877/201000877_002.jpg -> /content/drive/MyDrive/dataset/valid/images/201000877_002.jpg\n",
            "파일 복사 완료: /content/drive/MyDrive/dataset/valid/images/201000877/201000877_004.jpg -> /content/drive/MyDrive/dataset/valid/images/201000877_004.jpg\n",
            "파일 복사 완료: /content/drive/MyDrive/dataset/valid/images/201000877/201000877_003.jpg -> /content/drive/MyDrive/dataset/valid/images/201000877_003.jpg\n",
            "파일 복사 완료: /content/drive/MyDrive/dataset/valid/images/201000877/201000877_005.jpg -> /content/drive/MyDrive/dataset/valid/images/201000877_005.jpg\n",
            "파일 복사 완료: /content/drive/MyDrive/dataset/valid/images/201000877/201000877_006.jpg -> /content/drive/MyDrive/dataset/valid/images/201000877_006.jpg\n",
            "파일 복사 완료: /content/drive/MyDrive/dataset/valid/images/201000877/201000877_007.jpg -> /content/drive/MyDrive/dataset/valid/images/201000877_007.jpg\n",
            "파일 복사 완료: /content/drive/MyDrive/dataset/valid/images/201000877/201000877_009.jpg -> /content/drive/MyDrive/dataset/valid/images/201000877_009.jpg\n",
            "파일 복사 완료: /content/drive/MyDrive/dataset/valid/images/201000877/201000877_008.jpg -> /content/drive/MyDrive/dataset/valid/images/201000877_008.jpg\n",
            "파일 복사 완료: /content/drive/MyDrive/dataset/valid/images/201000877/201000877_010.jpg -> /content/drive/MyDrive/dataset/valid/images/201000877_010.jpg\n",
            "파일 복사 완료: /content/drive/MyDrive/dataset/valid/images/201000877/201000877_012.jpg -> /content/drive/MyDrive/dataset/valid/images/201000877_012.jpg\n",
            "파일 복사 완료: /content/drive/MyDrive/dataset/valid/images/201000877/201000877_011.jpg -> /content/drive/MyDrive/dataset/valid/images/201000877_011.jpg\n",
            "파일 복사 완료: /content/drive/MyDrive/dataset/valid/images/201000877/201000877_013.jpg -> /content/drive/MyDrive/dataset/valid/images/201000877_013.jpg\n",
            "파일 복사 완료: /content/drive/MyDrive/dataset/valid/images/201000877/201000877_015.jpg -> /content/drive/MyDrive/dataset/valid/images/201000877_015.jpg\n",
            "파일 복사 완료: /content/drive/MyDrive/dataset/valid/images/201000877/201000877_014.jpg -> /content/drive/MyDrive/dataset/valid/images/201000877_014.jpg\n",
            "파일 복사 완료: /content/drive/MyDrive/dataset/valid/images/201000877/201000877_016.jpg -> /content/drive/MyDrive/dataset/valid/images/201000877_016.jpg\n",
            "파일 복사 완료: /content/drive/MyDrive/dataset/valid/images/201000877/201000877_017.jpg -> /content/drive/MyDrive/dataset/valid/images/201000877_017.jpg\n",
            "파일 복사 완료: /content/drive/MyDrive/dataset/valid/images/201000877/201000877_018.jpg -> /content/drive/MyDrive/dataset/valid/images/201000877_018.jpg\n",
            "파일 복사 완료: /content/drive/MyDrive/dataset/valid/images/201000877/201000877_019.jpg -> /content/drive/MyDrive/dataset/valid/images/201000877_019.jpg\n",
            "파일 복사 완료: /content/drive/MyDrive/dataset/valid/images/201000877/201000877_020.jpg -> /content/drive/MyDrive/dataset/valid/images/201000877_020.jpg\n",
            "파일 복사 완료: /content/drive/MyDrive/dataset/valid/images/201000877/201000877_022.jpg -> /content/drive/MyDrive/dataset/valid/images/201000877_022.jpg\n",
            "파일 복사 완료: /content/drive/MyDrive/dataset/valid/images/201000877/201000877_021.jpg -> /content/drive/MyDrive/dataset/valid/images/201000877_021.jpg\n",
            "파일 복사 완료: /content/drive/MyDrive/dataset/valid/images/201000877/201000877_023.jpg -> /content/drive/MyDrive/dataset/valid/images/201000877_023.jpg\n",
            "파일 복사 완료: /content/drive/MyDrive/dataset/valid/images/201000877/201000877_024.jpg -> /content/drive/MyDrive/dataset/valid/images/201000877_024.jpg\n",
            "파일 복사 완료: /content/drive/MyDrive/dataset/valid/images/201000877/201000877_025.jpg -> /content/drive/MyDrive/dataset/valid/images/201000877_025.jpg\n",
            "파일 복사 완료: /content/drive/MyDrive/dataset/valid/images/201000877/201000877_026.jpg -> /content/drive/MyDrive/dataset/valid/images/201000877_026.jpg\n",
            "파일 복사 완료: /content/drive/MyDrive/dataset/valid/images/201000877/201000877_028.jpg -> /content/drive/MyDrive/dataset/valid/images/201000877_028.jpg\n",
            "파일 복사 완료: /content/drive/MyDrive/dataset/valid/images/201000877/201000877_027.jpg -> /content/drive/MyDrive/dataset/valid/images/201000877_027.jpg\n",
            "파일 복사 완료: /content/drive/MyDrive/dataset/valid/images/201000877/201000877_029.jpg -> /content/drive/MyDrive/dataset/valid/images/201000877_029.jpg\n",
            "파일 복사 완료: /content/drive/MyDrive/dataset/valid/images/201000877/201000877_030.jpg -> /content/drive/MyDrive/dataset/valid/images/201000877_030.jpg\n",
            "파일 복사 완료: /content/drive/MyDrive/dataset/valid/images/201000877/201000877_031.jpg -> /content/drive/MyDrive/dataset/valid/images/201000877_031.jpg\n",
            "파일 복사 완료: /content/drive/MyDrive/dataset/valid/images/201000877/201000877_033.jpg -> /content/drive/MyDrive/dataset/valid/images/201000877_033.jpg\n",
            "파일 복사 완료: /content/drive/MyDrive/dataset/valid/images/201000877/201000877_032.jpg -> /content/drive/MyDrive/dataset/valid/images/201000877_032.jpg\n",
            "파일 복사 완료: /content/drive/MyDrive/dataset/valid/images/201000877/201000877_034.jpg -> /content/drive/MyDrive/dataset/valid/images/201000877_034.jpg\n",
            "파일 복사 완료: /content/drive/MyDrive/dataset/valid/images/201000877/201000877_036.jpg -> /content/drive/MyDrive/dataset/valid/images/201000877_036.jpg\n",
            "파일 복사 완료: /content/drive/MyDrive/dataset/valid/images/201000877/201000877_035.jpg -> /content/drive/MyDrive/dataset/valid/images/201000877_035.jpg\n",
            "파일 복사 완료: /content/drive/MyDrive/dataset/valid/images/201000877/201000877_037.jpg -> /content/drive/MyDrive/dataset/valid/images/201000877_037.jpg\n",
            "파일 복사 완료: /content/drive/MyDrive/dataset/valid/images/201000877/201000877_038.jpg -> /content/drive/MyDrive/dataset/valid/images/201000877_038.jpg\n",
            "파일 복사 완료: /content/drive/MyDrive/dataset/valid/images/201000877/201000877_039.jpg -> /content/drive/MyDrive/dataset/valid/images/201000877_039.jpg\n",
            "파일 복사 완료: /content/drive/MyDrive/dataset/valid/images/201000877/201000877_040.jpg -> /content/drive/MyDrive/dataset/valid/images/201000877_040.jpg\n",
            "파일 복사 완료: /content/drive/MyDrive/dataset/valid/images/201000878/201000878_001.jpg -> /content/drive/MyDrive/dataset/valid/images/201000878_001.jpg\n",
            "파일 복사 완료: /content/drive/MyDrive/dataset/valid/images/201000878/201000878_003.jpg -> /content/drive/MyDrive/dataset/valid/images/201000878_003.jpg\n",
            "파일 복사 완료: /content/drive/MyDrive/dataset/valid/images/201000878/201000878_002.jpg -> /content/drive/MyDrive/dataset/valid/images/201000878_002.jpg\n",
            "파일 복사 완료: /content/drive/MyDrive/dataset/valid/images/201000878/201000878_004.jpg -> /content/drive/MyDrive/dataset/valid/images/201000878_004.jpg\n",
            "파일 복사 완료: /content/drive/MyDrive/dataset/valid/images/201000878/201000878_006.jpg -> /content/drive/MyDrive/dataset/valid/images/201000878_006.jpg\n",
            "파일 복사 완료: /content/drive/MyDrive/dataset/valid/images/201000878/201000878_005.jpg -> /content/drive/MyDrive/dataset/valid/images/201000878_005.jpg\n",
            "파일 복사 완료: /content/drive/MyDrive/dataset/valid/images/201000878/201000878_007.jpg -> /content/drive/MyDrive/dataset/valid/images/201000878_007.jpg\n",
            "파일 복사 완료: /content/drive/MyDrive/dataset/valid/images/201000878/201000878_008.jpg -> /content/drive/MyDrive/dataset/valid/images/201000878_008.jpg\n",
            "파일 복사 완료: /content/drive/MyDrive/dataset/valid/images/201000878/201000878_009.jpg -> /content/drive/MyDrive/dataset/valid/images/201000878_009.jpg\n",
            "파일 복사 완료: /content/drive/MyDrive/dataset/valid/images/201000878/201000878_010.jpg -> /content/drive/MyDrive/dataset/valid/images/201000878_010.jpg\n",
            "파일 복사 완료: /content/drive/MyDrive/dataset/valid/images/201000878/201000878_011.jpg -> /content/drive/MyDrive/dataset/valid/images/201000878_011.jpg\n",
            "파일 복사 완료: /content/drive/MyDrive/dataset/valid/images/201000878/201000878_012.jpg -> /content/drive/MyDrive/dataset/valid/images/201000878_012.jpg\n",
            "파일 복사 완료: /content/drive/MyDrive/dataset/valid/images/201000878/201000878_013.jpg -> /content/drive/MyDrive/dataset/valid/images/201000878_013.jpg\n",
            "파일 복사 완료: /content/drive/MyDrive/dataset/valid/images/201000878/201000878_014.jpg -> /content/drive/MyDrive/dataset/valid/images/201000878_014.jpg\n",
            "파일 복사 완료: /content/drive/MyDrive/dataset/valid/images/201000878/201000878_015.jpg -> /content/drive/MyDrive/dataset/valid/images/201000878_015.jpg\n",
            "파일 복사 완료: /content/drive/MyDrive/dataset/valid/images/201000878/201000878_016.jpg -> /content/drive/MyDrive/dataset/valid/images/201000878_016.jpg\n",
            "파일 복사 완료: /content/drive/MyDrive/dataset/valid/images/201000878/201000878_018.jpg -> /content/drive/MyDrive/dataset/valid/images/201000878_018.jpg\n",
            "파일 복사 완료: /content/drive/MyDrive/dataset/valid/images/201000878/201000878_017.jpg -> /content/drive/MyDrive/dataset/valid/images/201000878_017.jpg\n",
            "파일 복사 완료: /content/drive/MyDrive/dataset/valid/images/201000878/201000878_019.jpg -> /content/drive/MyDrive/dataset/valid/images/201000878_019.jpg\n",
            "파일 복사 완료: /content/drive/MyDrive/dataset/valid/images/201000878/201000878_020.jpg -> /content/drive/MyDrive/dataset/valid/images/201000878_020.jpg\n",
            "파일 복사 완료: /content/drive/MyDrive/dataset/valid/images/201000878/201000878_021.jpg -> /content/drive/MyDrive/dataset/valid/images/201000878_021.jpg\n",
            "파일 복사 완료: /content/drive/MyDrive/dataset/valid/images/201000878/201000878_022.jpg -> /content/drive/MyDrive/dataset/valid/images/201000878_022.jpg\n",
            "파일 복사 완료: /content/drive/MyDrive/dataset/valid/images/201000878/201000878_023.jpg -> /content/drive/MyDrive/dataset/valid/images/201000878_023.jpg\n",
            "파일 복사 완료: /content/drive/MyDrive/dataset/valid/images/201000878/201000878_024.jpg -> /content/drive/MyDrive/dataset/valid/images/201000878_024.jpg\n",
            "파일 복사 완료: /content/drive/MyDrive/dataset/valid/images/201000878/201000878_025.jpg -> /content/drive/MyDrive/dataset/valid/images/201000878_025.jpg\n",
            "파일 복사 완료: /content/drive/MyDrive/dataset/valid/images/201000878/201000878_027.jpg -> /content/drive/MyDrive/dataset/valid/images/201000878_027.jpg\n",
            "파일 복사 완료: /content/drive/MyDrive/dataset/valid/images/201000878/201000878_026.jpg -> /content/drive/MyDrive/dataset/valid/images/201000878_026.jpg\n",
            "파일 복사 완료: /content/drive/MyDrive/dataset/valid/images/201000878/201000878_028.jpg -> /content/drive/MyDrive/dataset/valid/images/201000878_028.jpg\n",
            "파일 복사 완료: /content/drive/MyDrive/dataset/valid/images/201000878/201000878_029.jpg -> /content/drive/MyDrive/dataset/valid/images/201000878_029.jpg\n",
            "파일 복사 완료: /content/drive/MyDrive/dataset/valid/images/201000878/201000878_030.jpg -> /content/drive/MyDrive/dataset/valid/images/201000878_030.jpg\n",
            "파일 복사 완료: /content/drive/MyDrive/dataset/valid/images/201000878/201000878_031.jpg -> /content/drive/MyDrive/dataset/valid/images/201000878_031.jpg\n",
            "파일 복사 완료: /content/drive/MyDrive/dataset/valid/images/201000878/201000878_032.jpg -> /content/drive/MyDrive/dataset/valid/images/201000878_032.jpg\n",
            "파일 복사 완료: /content/drive/MyDrive/dataset/valid/images/201000878/201000878_033.jpg -> /content/drive/MyDrive/dataset/valid/images/201000878_033.jpg\n",
            "파일 복사 완료: /content/drive/MyDrive/dataset/valid/images/201000878/201000878_034.jpg -> /content/drive/MyDrive/dataset/valid/images/201000878_034.jpg\n",
            "파일 복사 완료: /content/drive/MyDrive/dataset/valid/images/201000878/201000878_035.jpg -> /content/drive/MyDrive/dataset/valid/images/201000878_035.jpg\n",
            "파일 복사 완료: /content/drive/MyDrive/dataset/valid/images/201000878/201000878_036.jpg -> /content/drive/MyDrive/dataset/valid/images/201000878_036.jpg\n",
            "파일 복사 완료: /content/drive/MyDrive/dataset/valid/images/201000878/201000878_037.jpg -> /content/drive/MyDrive/dataset/valid/images/201000878_037.jpg\n",
            "파일 복사 완료: /content/drive/MyDrive/dataset/valid/images/201000878/201000878_038.jpg -> /content/drive/MyDrive/dataset/valid/images/201000878_038.jpg\n",
            "파일 복사 완료: /content/drive/MyDrive/dataset/valid/images/201000878/201000878_039.jpg -> /content/drive/MyDrive/dataset/valid/images/201000878_039.jpg\n",
            "파일 복사 완료: /content/drive/MyDrive/dataset/valid/images/201000878/201000878_040.jpg -> /content/drive/MyDrive/dataset/valid/images/201000878_040.jpg\n"
          ]
        }
      ],
      "source": [
        "# 파일 복사하는 코드(복잡하게 얽혀 있던 폴더에 파일들 꺼내서 정리)\n",
        "import os\n",
        "import shutil\n",
        "\n",
        "def move_files_from_subfolders(source_folder, destination_folder):\n",
        "    # 소스 폴더가 존재하지 않으면 종료\n",
        "    if not os.path.exists(source_folder):\n",
        "        print(f\"소스 폴더가 존재하지 않습니다: {source_folder}\")\n",
        "        return\n",
        "\n",
        "    # 목적지 폴더가 존재하지 않으면 생성\n",
        "    if not os.path.exists(destination_folder):\n",
        "        os.makedirs(destination_folder)\n",
        "\n",
        "    # 소스 폴더 내의 모든 서브폴더 가져오기\n",
        "    for subfolder in os.listdir(source_folder):\n",
        "        subfolder_path = os.path.join(source_folder, subfolder)\n",
        "\n",
        "        # 서브폴더가 있는지 확인\n",
        "        if os.path.isdir(subfolder_path):\n",
        "            # 서브폴더 내의 파일을 목적지 폴더로 복사\n",
        "            for item in os.listdir(subfolder_path):\n",
        "                item_path = os.path.join(subfolder_path, item)\n",
        "\n",
        "                # 파일인지 확인하고 복사\n",
        "                if os.path.isfile(item_path):\n",
        "                    destination_path = os.path.join(destination_folder, item)\n",
        "\n",
        "                    # 동일한 이름의 파일이 이미 존재하는 경우, 이름 변경\n",
        "                    if os.path.exists(destination_path):\n",
        "                        base, ext = os.path.splitext(item)\n",
        "                        counter = 1\n",
        "                        while os.path.exists(destination_path):\n",
        "                            destination_path = os.path.join(destination_folder, f\"{base}_{counter}{ext}\")\n",
        "                            counter += 1\n",
        "\n",
        "                    shutil.move(item_path, destination_path)\n",
        "                    print(f\"파일 복사 완료: {item_path} -> {destination_path}\")\n",
        "\n",
        "# 사용 예제\n",
        "source_folder = \"/content/drive/MyDrive/dataset/valid/images\"\n",
        "destination_folder = \"/content/drive/MyDrive/dataset/valid/images\"\n",
        "move_files_from_subfolders(source_folder, destination_folder)\n"
      ]
    },
    {
      "cell_type": "code",
      "execution_count": null,
      "metadata": {
        "colab": {
          "base_uri": "https://localhost:8080/"
        },
        "collapsed": true,
        "id": "NsPiOl7JjZUK",
        "outputId": "9f303cea-e0f7-42d8-df71-369ac7448eb7"
      },
      "outputs": [
        {
          "name": "stdout",
          "output_type": "stream",
          "text": [
            "All .txt files have been moved.\n"
          ]
        }
      ],
      "source": [
        "# 파일 옮기는 코드\n",
        "import os\n",
        "import shutil\n",
        "\n",
        "# 원본 폴더 경로 (텍스트 파일들이 있는 폴더)\n",
        "source_folder = '/content/drive/MyDrive/01. 촬영이미지 (3)'\n",
        "\n",
        "# 파일들을 옮길 대상 폴더 경로\n",
        "destination_folder = '/content/drive/MyDrive/dataset/testimage'\n",
        "\n",
        "# 대상 폴더가 존재하지 않으면 생성\n",
        "if not os.path.exists(destination_folder):\n",
        "    os.makedirs(destination_folder)\n",
        "\n",
        "# 원본 폴더 내의 파일들에 대해 반복문 실행\n",
        "for filename in os.listdir(source_folder):\n",
        "    # 확장자가 .txt인 파일만 선택\n",
        "    if filename.endswith('.txt'):\n",
        "        source_file = os.path.join(source_folder, filename)\n",
        "        destination_file = os.path.join(destination_folder, filename)\n",
        "\n",
        "        # 파일을 대상 폴더로 이동\n",
        "        shutil.move(source_file, destination_file)\n",
        "        print(f'Moved: {filename}')\n",
        "\n",
        "print('All .txt files have been moved.')\n"
      ]
    },
    {
      "cell_type": "code",
      "execution_count": null,
      "metadata": {
        "id": "9tHk0fF-_4j6"
      },
      "outputs": [],
      "source": [
        "import os\n",
        "import shutil\n",
        "\n",
        "# 원본 폴더와 대상 폴더 경로 설정\n",
        "source_folder = '/content/drive/MyDrive/dataset/move'\n",
        "destination_folder = '/content/drive/MyDrive/dataset/train/images'\n",
        "\n",
        "# 대상 폴더가 없으면 생성\n",
        "if not os.path.exists(destination_folder):\n",
        "    os.makedirs(destination_folder)\n",
        "\n",
        "# 원본 폴더 내의 모든 파일을 순회\n",
        "for root, dirs, files in os.walk(source_folder):\n",
        "    for filename in files:\n",
        "        if filename.endswith('.jpg'):\n",
        "            # 파일의 전체 경로를 생성\n",
        "            source_file = os.path.join(root, filename)\n",
        "            destination_file = os.path.join(destination_folder, filename)\n",
        "\n",
        "            # 동일한 이름의 파일이 대상 폴더에 이미 있는 경우 파일 이름 변경\n",
        "            if os.path.exists(destination_file):\n",
        "                base, ext = os.path.splitext(filename)\n",
        "                count = 1\n",
        "                while os.path.exists(destination_file):\n",
        "                    destination_file = os.path.join(destination_folder, f\"{base}_{count}{ext}\")\n",
        "                    count += 1\n",
        "\n",
        "            # 파일 이동\n",
        "            shutil.move(source_file, destination_file)\n",
        "            print(f\"Moved: {source_file} to {destination_file}\")\n"
      ]
    },
    {
      "cell_type": "code",
      "execution_count": null,
      "metadata": {
        "colab": {
          "base_uri": "https://localhost:8080/"
        },
        "id": "n796HOtAEBcM",
        "outputId": "6f69951c-ec79-448a-84fa-76357b68bc81"
      },
      "outputs": [
        {
          "name": "stdout",
          "output_type": "stream",
          "text": [
            "Drive already mounted at /content/drive; to attempt to forcibly remount, call drive.mount(\"/content/drive\", force_remount=True).\n"
          ]
        }
      ],
      "source": [
        "from google.colab import drive\n",
        "drive.mount('/content/drive')"
      ]
    },
    {
      "cell_type": "code",
      "execution_count": null,
      "metadata": {
        "colab": {
          "base_uri": "https://localhost:8080/"
        },
        "id": "YUFJDYO9rDus",
        "outputId": "a35a26cc-da30-4d13-a089-d5afd85d458d"
      },
      "outputs": [
        {
          "name": "stdout",
          "output_type": "stream",
          "text": [
            "True\n",
            "True\n",
            "True\n"
          ]
        }
      ],
      "source": [
        "import os\n",
        "\n",
        "# 경로가 실제로 존재하는지 확인\n",
        "print(os.path.exists('/content/drive/MyDrive/dataset/train'))\n",
        "print(os.path.exists('/content/drive/MyDrive/dataset/valid'))\n",
        "print(os.path.exists('/content/drive/MyDrive/dataset/data.yaml'))\n"
      ]
    },
    {
      "cell_type": "markdown",
      "source": [
        "## 알약 여러 개 감지되는 지 테스트"
      ],
      "metadata": {
        "id": "Hs1yglHEMUbD"
      }
    },
    {
      "cell_type": "code",
      "execution_count": null,
      "metadata": {
        "colab": {
          "base_uri": "https://localhost:8080/"
        },
        "collapsed": true,
        "id": "E_S12z0VC4Od",
        "outputId": "3dcb47be-695a-4ac2-d846-28f9bbb6e7e1"
      },
      "outputs": [
        {
          "name": "stdout",
          "output_type": "stream",
          "text": [
            "\n",
            "0: 640x640 2 pills, 4.3ms\n",
            "1: 640x640 2 pills, 4.3ms\n",
            "2: 640x640 2 pills, 4.3ms\n",
            "3: 640x640 2 pills, 4.3ms\n",
            "4: 640x640 2 pills, 4.3ms\n",
            "5: 640x640 2 pills, 4.3ms\n",
            "6: 640x640 2 pills, 4.3ms\n",
            "7: 640x640 2 pills, 4.3ms\n",
            "8: 640x640 2 pills, 4.3ms\n",
            "9: 640x640 2 pills, 4.3ms\n",
            "10: 640x640 2 pills, 4.3ms\n",
            "11: 640x640 2 pills, 4.3ms\n",
            "12: 640x640 2 pills, 4.3ms\n",
            "13: 640x640 2 pills, 4.3ms\n",
            "14: 640x640 2 pills, 4.3ms\n",
            "15: 640x640 2 pills, 4.3ms\n",
            "16: 640x640 2 pills, 4.3ms\n",
            "17: 640x640 2 pills, 4.3ms\n",
            "18: 640x640 2 pills, 4.3ms\n",
            "19: 640x640 2 pills, 4.3ms\n",
            "20: 640x640 2 pills, 4.3ms\n",
            "21: 640x640 2 pills, 4.3ms\n",
            "22: 640x640 2 pills, 4.3ms\n",
            "23: 640x640 2 pills, 4.3ms\n",
            "24: 640x640 2 pills, 4.3ms\n",
            "25: 640x640 2 pills, 4.3ms\n",
            "26: 640x640 2 pills, 4.3ms\n",
            "27: 640x640 2 pills, 4.3ms\n",
            "28: 640x640 2 pills, 4.3ms\n",
            "29: 640x640 2 pills, 4.3ms\n",
            "30: 640x640 2 pills, 4.3ms\n",
            "31: 640x640 2 pills, 4.3ms\n",
            "32: 640x640 2 pills, 4.3ms\n",
            "33: 640x640 2 pills, 4.3ms\n",
            "34: 640x640 2 pills, 4.3ms\n",
            "35: 640x640 2 pills, 4.3ms\n",
            "36: 640x640 2 pills, 4.3ms\n",
            "37: 640x640 2 pills, 4.3ms\n",
            "38: 640x640 2 pills, 4.3ms\n",
            "39: 640x640 2 pills, 4.3ms\n",
            "40: 640x640 2 pills, 4.3ms\n",
            "41: 640x640 2 pills, 4.3ms\n",
            "42: 640x640 2 pills, 4.3ms\n",
            "43: 640x640 2 pills, 4.3ms\n",
            "44: 640x640 2 pills, 4.3ms\n",
            "45: 640x640 2 pills, 4.3ms\n",
            "46: 640x640 2 pills, 4.3ms\n",
            "47: 640x640 2 pills, 4.3ms\n",
            "48: 640x640 2 pills, 4.3ms\n",
            "49: 640x640 2 pills, 4.3ms\n",
            "Speed: 1.8ms preprocess, 4.3ms inference, 0.8ms postprocess per image at shape (1, 3, 640, 640)\n",
            "탐지된 객체가 있는 이미지 수: 50개\n"
          ]
        }
      ],
      "source": [
        "import ultralytics\n",
        "from ultralytics import YOLO\n",
        "\n",
        "# YOLOv8 모델 불러오기 (사전 학습된 모델을 사용)\n",
        "model = YOLO(r'/content/drive/MyDrive/best.pt')  # 여기서 'yolov8n.pt'는 사전 학습된 가중치 파일 경로입니다.\n",
        "\n",
        "# 이미지 파일들을 불러와서 탐지 수행\n",
        "# image_paths = [f'/content/drive/MyDrive/dataset/testimage/{i}.jpg' for i in range(1, 51)]\n",
        "i=2966\n",
        "image_paths = [f'/content/drive/MyDrive/testimg/-0-3-_jpg.rf.23df72872bfac8f15b6609d24f038f10.jpg' for i in range(50) ]  # 처리할 이미지 파일들의 경로 리스트\n",
        "results = model(image_paths)  # 모델을 사용하여 이미지에 대해 탐지 수행\n",
        "\n",
        "# 탐지된 객체가 있는 이미지의 수를 계산\n",
        "detected_images_count = sum(1 for result in results if len(result.boxes) > 0)\n",
        "\n",
        "print(f\"탐지된 객체가 있는 이미지 수: {detected_images_count}개\")\n"
      ]
    },
    {
      "cell_type": "code",
      "execution_count": null,
      "metadata": {
        "id": "kq9rse6VUzlX"
      },
      "outputs": [],
      "source": []
    }
  ],
  "metadata": {
    "accelerator": "GPU",
    "colab": {
      "gpuType": "T4",
      "machine_shape": "hm",
      "provenance": [],
      "mount_file_id": "1q6bb4QnnRR0_vKmpnojqcWTDk69l13BN",
      "authorship_tag": "ABX9TyN/d0nNtz6BYSzmKHJNQYlw",
      "include_colab_link": true
    },
    "kernelspec": {
      "display_name": "Python 3",
      "name": "python3"
    },
    "language_info": {
      "name": "python"
    }
  },
  "nbformat": 4,
  "nbformat_minor": 0
}